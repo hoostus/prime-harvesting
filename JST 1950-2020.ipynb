{
 "cells": [
  {
   "cell_type": "code",
   "execution_count": 10,
   "metadata": {},
   "outputs": [],
   "source": [
    "import market\n",
    "import metrics\n",
    "import seaborn\n",
    "from matplotlib import pyplot as plt\n",
    "import matplotlib\n",
    "seaborn.set(style=\"whitegrid\")\n",
    "seaborn.set_context('poster')\n",
    "import pandas"
   ]
  },
  {
   "cell_type": "code",
   "execution_count": 11,
   "metadata": {},
   "outputs": [
    {
     "name": "stderr",
     "output_type": "stream",
     "text": [
      "/Users/justus/anaconda3/lib/python3.7/site-packages/ipykernel_launcher.py:5: SettingWithCopyWarning: \n",
      "A value is trying to be set on a copy of a slice from a DataFrame.\n",
      "Try using .loc[row_indexer,col_indexer] = value instead\n",
      "\n",
      "See the caveats in the documentation: https://pandas.pydata.org/pandas-docs/stable/user_guide/indexing.html#returning-a-view-versus-a-copy\n",
      "  \"\"\"\n",
      "/Users/justus/anaconda3/lib/python3.7/site-packages/ipykernel_launcher.py:9: SettingWithCopyWarning: \n",
      "A value is trying to be set on a copy of a slice from a DataFrame.\n",
      "Try using .loc[row_indexer,col_indexer] = value instead\n",
      "\n",
      "See the caveats in the documentation: https://pandas.pydata.org/pandas-docs/stable/user_guide/indexing.html#returning-a-view-versus-a-copy\n",
      "  if __name__ == '__main__':\n"
     ]
    },
    {
     "name": "stdout",
     "output_type": "stream",
     "text": [
      "AUS 0.054112804511153426 0.07867695121533431\n",
      "BEL 0.07195279119621249 0.09750496321256884\n",
      "CAN 1.0 1.0\n",
      "DNK 0.065406424374957 0.11770503448178826\n",
      "FIN 0.09728934647400356 0.11231192822676685\n",
      "FRA failed. 0.037826928806093764 0.07481034036599671\n",
      "DEU 0.194479905422465 0.08817318129495111\n",
      "ITA 0.06930269053542283 0.09596382981818911\n",
      "JPN 0.13152975086564284 0.06957343764839848\n",
      "NLD 0.07596233798986603 0.12439933358578817\n",
      "NOR failed. 0.03515848325488348 0.07779910144556207\n",
      "PRT 0.04806440116194489 0.04903024457182944\n",
      "ESP 0.07257870019496983 0.10043117439583424\n",
      "SWE 0.0794904976356133 0.1609628234731305\n",
      "CHE 0.0867178443773713 0.07173944651496937\n",
      "GBR 0.07643387234384579 0.11871778194117422\n",
      "USA 0.12450574043177687 0.09440955029119803\n"
     ]
    }
   ],
   "source": [
    "for country in market.JST.Countries:\n",
    "    m = market.JST(country)\n",
    "    m.data.index = m.data['year'].astype(int)\n",
    "    s = m.data.loc[1950:1979]\n",
    "    s['real'] = ((1+s['eq_tr'])/(1+s['cpi'])) - 1\n",
    "    ssr1 = metrics.ssr(s['real'].tolist())\n",
    "    \n",
    "    s = m.data.loc[1980:2009]\n",
    "    s['real'] = ((1+s['eq_tr'])/(1+s['cpi'])) - 1\n",
    "    ssr2 = metrics.ssr(s['real'].tolist())\n",
    "\n",
    "    if ssr1 >= 0.04 and ssr2 >= 0.04:\n",
    "        print(country, ssr1, ssr2)\n",
    "    else:\n",
    "        print(f'{country} failed. {ssr1} {ssr2}')"
   ]
  },
  {
   "cell_type": "code",
   "execution_count": 12,
   "metadata": {},
   "outputs": [
    {
     "name": "stderr",
     "output_type": "stream",
     "text": [
      "/Users/justus/anaconda3/lib/python3.7/site-packages/ipykernel_launcher.py:7: SettingWithCopyWarning: \n",
      "A value is trying to be set on a copy of a slice from a DataFrame.\n",
      "Try using .loc[row_indexer,col_indexer] = value instead\n",
      "\n",
      "See the caveats in the documentation: https://pandas.pydata.org/pandas-docs/stable/user_guide/indexing.html#returning-a-view-versus-a-copy\n",
      "  import sys\n",
      "/Users/justus/anaconda3/lib/python3.7/site-packages/ipykernel_launcher.py:8: SettingWithCopyWarning: \n",
      "A value is trying to be set on a copy of a slice from a DataFrame.\n",
      "Try using .loc[row_indexer,col_indexer] = value instead\n",
      "\n",
      "See the caveats in the documentation: https://pandas.pydata.org/pandas-docs/stable/user_guide/indexing.html#returning-a-view-versus-a-copy\n",
      "  \n"
     ]
    }
   ],
   "source": [
    "c = {}\n",
    "\n",
    "for country in market.JST.Countries:\n",
    "    m = market.JST(country)\n",
    "    m.data.index = m.data['year'].astype(int)\n",
    "    s = m.data.loc[1930:1959]\n",
    "    s['real_eq'] = ((1+s['eq_tr'])/(1+s['cpi'])) - 1\n",
    "    s['real_bond'] = ((1+s['bond_tr'])/(1+s['cpi'])) - 1\n",
    "    ssr1 = metrics.ssr(s['real_eq'].tolist())\n",
    "\n",
    "    c[country] = ssr1"
   ]
  },
  {
   "cell_type": "code",
   "execution_count": 13,
   "metadata": {},
   "outputs": [],
   "source": [
    "del c['CAN']"
   ]
  },
  {
   "cell_type": "code",
   "execution_count": 16,
   "metadata": {},
   "outputs": [
    {
     "data": {
      "text/plain": [
       "FRA    0.006577\n",
       "JPN    0.016537\n",
       "BEL    0.022978\n",
       "ITA    0.035955\n",
       "ESP    0.038705\n",
       "NLD    0.040882\n",
       "CHE    0.041383\n",
       "SWE    0.041733\n",
       "USA    0.043030\n",
       "PRT    0.048027\n",
       "DNK    0.053293\n",
       "GBR    0.055455\n",
       "NOR    0.067194\n",
       "DEU    0.068655\n",
       "AUS    0.072157\n",
       "FIN    0.074540\n",
       "dtype: float64"
      ]
     },
     "execution_count": 16,
     "metadata": {},
     "output_type": "execute_result"
    }
   ],
   "source": [
    "pandas.Series(c).sort_values()"
   ]
  },
  {
   "cell_type": "code",
   "execution_count": null,
   "metadata": {},
   "outputs": [],
   "source": []
  }
 ],
 "metadata": {
  "kernelspec": {
   "display_name": "Python 3",
   "language": "python",
   "name": "python3"
  },
  "language_info": {
   "codemirror_mode": {
    "name": "ipython",
    "version": 3
   },
   "file_extension": ".py",
   "mimetype": "text/x-python",
   "name": "python",
   "nbconvert_exporter": "python",
   "pygments_lexer": "ipython3",
   "version": "3.7.6"
  }
 },
 "nbformat": 4,
 "nbformat_minor": 4
}
