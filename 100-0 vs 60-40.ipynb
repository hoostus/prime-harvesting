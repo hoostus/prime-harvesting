{
 "cells": [
  {
   "cell_type": "code",
   "execution_count": 1,
   "metadata": {},
   "outputs": [],
   "source": [
    "%matplotlib inline\n",
    "from pprint import pprint\n",
    "\n",
    "import plot\n",
    "from simulate import simulate_withdrawals\n",
    "import harvesting\n",
    "import market\n",
    "import withdrawal\n",
    "import metrics\n",
    "\n",
    "from decimal import Decimal\n",
    "\n",
    "import itertools\n",
    "import math\n",
    "import pandas"
   ]
  },
  {
   "cell_type": "code",
   "execution_count": 2,
   "metadata": {
    "collapsed": true
   },
   "outputs": [],
   "source": [
    "YEARS = 25"
   ]
  },
  {
   "cell_type": "code",
   "execution_count": 3,
   "metadata": {},
   "outputs": [],
   "source": [
    "def run_comparison(series):\n",
    "    (r1, r2) = itertools.tee(series)\n",
    "    p1 = (1214000 * .6, 1214000 * .4)\n",
    "    p2 = (2459000, 0)\n",
    "    \n",
    "    sim1 = simulate_withdrawals(r1, years=YEARS, harvesting=harvesting.N_60_RebalanceHarvesting, withdraw=withdrawal.VPW, portfolio=p1)\n",
    "    sim2 = simulate_withdrawals(r2, years=YEARS, harvesting=harvesting.N_100_RebalanceHarvesting, withdraw=withdrawal.VPW, portfolio=p2)\n",
    "\n",
    "    s1 = [n.withdraw_r for n in sim1]\n",
    "    s2 = [n.withdraw_r for n in sim2]\n",
    "    \n",
    "    return (s1, s2)"
   ]
  },
  {
   "cell_type": "code",
   "execution_count": 4,
   "metadata": {},
   "outputs": [
    {
     "name": "stderr",
     "output_type": "stream",
     "text": [
      "/Users/justus/Dropbox/jupyter/prime-harvesting/market.py:149: ParserWarning: Both a converter and dtype were specified for column Spliced Bond - only the converter will be used\n",
      "  'NIKKEI225' : Decimal})\n",
      "/Users/justus/Dropbox/jupyter/prime-harvesting/market.py:149: ParserWarning: Both a converter and dtype were specified for column NIKKEI225 - only the converter will be used\n",
      "  'NIKKEI225' : Decimal})\n",
      "/Users/justus/Dropbox/jupyter/prime-harvesting/market.py:149: ParserWarning: Both a converter and dtype were specified for column CPI Japan - only the converter will be used\n",
      "  'NIKKEI225' : Decimal})\n",
      "/Users/justus/anaconda/lib/python3.5/site-packages/matplotlib/cbook/deprecation.py:107: MatplotlibDeprecationWarning: Adding an axes using the same arguments as a previous axes currently reuses the earlier instance.  In a future version, a new instance will always be created and returned.  Meanwhile, this warning can be suppressed, and the future behavior ensured, by passing a unique label to each axes instance.\n",
      "  warnings.warn(message, mplDeprecation, stacklevel=1)\n"
     ]
    },
    {
     "name": "stdout",
     "output_type": "stream",
     "text": [
      "60/40 27342\n",
      "100/0 19477\n"
     ]
    },
    {
     "data": {
      "image/png": "[encoded data removed]",
      "text/plain": [
       "<Figure size 432x288 with 2 Axes>"
      ]
     },
     "metadata": {},
     "output_type": "display_data"
    }
   ],
   "source": [
    "#MARKET = market.Returns_US_1871()\n",
    "#MARKET = market.PortfolioCharts_1927(market.PortfolioCharts_1927.Weights(LCB=.8, SCV=.2))\n",
    "MARKET = market.Japan_1957()\n",
    "\n",
    "RETIRE_YEAR = 1990\n",
    "s1, s2, = run_comparison(MARKET.iter_from(RETIRE_YEAR))\n",
    "print(\"60/40\", int(metrics.cew(s1)))\n",
    "print(\"100/0\", int(metrics.cew(s2)))\n",
    "plot.plot_n({'60/40' : s1, '100/0': s2}, 'Year', '%d Retirement' % RETIRE_YEAR)"
   ]
  },
  {
   "cell_type": "code",
   "execution_count": 5,
   "metadata": {},
   "outputs": [
    {
     "name": "stdout",
     "output_type": "stream",
     "text": [
      "60 24457.92\n",
      "100 17925.43\n"
     ]
    }
   ],
   "source": [
    "incomes_60 = []\n",
    "incomes_100 = []\n",
    "\n",
    "for i in range(MARKET.start_year, 2016-YEARS):\n",
    "    s1, s2 = run_comparison(MARKET.iter_from(i))\n",
    "    incomes_60 += [int(n) for n in s1]\n",
    "    incomes_100 += [int(n) for n in s2]\n",
    "    \n",
    "incomes_60 = pandas.Series(data=incomes_60)\n",
    "incomes_100 = pandas.Series(data=incomes_100)\n",
    "diff = incomes_100 - incomes_60\n",
    "print('60', incomes_60.quantile(.01))\n",
    "print('100', incomes_100.quantile(.01))\n",
    "\n",
    "df = pandas.DataFrame(data={'60/40' : incomes_60, '100/0' : incomes_100, 'Delta' : diff})"
   ]
  },
  {
   "cell_type": "code",
   "execution_count": 6,
   "metadata": {},
   "outputs": [
    {
     "data": {
      "text/html": [
       "<div>\n",
       "<style scoped>\n",
       "    .dataframe tbody tr th:only-of-type {\n",
       "        vertical-align: middle;\n",
       "    }\n",
       "\n",
       "    .dataframe tbody tr th {\n",
       "        vertical-align: top;\n",
       "    }\n",
       "\n",
       "    .dataframe thead th {\n",
       "        text-align: right;\n",
       "    }\n",
       "</style>\n",
       "<table border=\"1\" class=\"dataframe\">\n",
       "  <thead>\n",
       "    <tr style=\"text-align: right;\">\n",
       "      <th></th>\n",
       "      <th>100/0</th>\n",
       "      <th>60/40</th>\n",
       "      <th>Delta</th>\n",
       "      <th>Income date</th>\n",
       "    </tr>\n",
       "  </thead>\n",
       "  <tbody>\n",
       "    <tr>\n",
       "      <th>0</th>\n",
       "      <td>143024</td>\n",
       "      <td>60347</td>\n",
       "      <td>82677</td>\n",
       "      <td>1871/1871</td>\n",
       "    </tr>\n",
       "    <tr>\n",
       "      <th>1</th>\n",
       "      <td>129806</td>\n",
       "      <td>57209</td>\n",
       "      <td>72597</td>\n",
       "      <td>1871/1872</td>\n",
       "    </tr>\n",
       "    <tr>\n",
       "      <th>2</th>\n",
       "      <td>182562</td>\n",
       "      <td>74405</td>\n",
       "      <td>108157</td>\n",
       "      <td>1871/1873</td>\n",
       "    </tr>\n",
       "    <tr>\n",
       "      <th>3</th>\n",
       "      <td>225751</td>\n",
       "      <td>83145</td>\n",
       "      <td>142606</td>\n",
       "      <td>1871/1874</td>\n",
       "    </tr>\n",
       "    <tr>\n",
       "      <th>4</th>\n",
       "      <td>329370</td>\n",
       "      <td>106343</td>\n",
       "      <td>223027</td>\n",
       "      <td>1871/1875</td>\n",
       "    </tr>\n",
       "  </tbody>\n",
       "</table>\n",
       "</div>"
      ],
      "text/plain": [
       "    100/0   60/40   Delta Income date\n",
       "0  143024   60347   82677   1871/1871\n",
       "1  129806   57209   72597   1871/1872\n",
       "2  182562   74405  108157   1871/1873\n",
       "3  225751   83145  142606   1871/1874\n",
       "4  329370  106343  223027   1871/1875"
      ]
     },
     "execution_count": 6,
     "metadata": {},
     "output_type": "execute_result"
    }
   ],
   "source": [
    "def index_to_year(n):\n",
    "    year_of_retirement = n//YEARS + 1871\n",
    "    year_of_income = n%YEARS + year_of_retirement\n",
    "    return \"%d/%d\" % (year_of_retirement, year_of_income)\n",
    "\n",
    "df['Income date'] = df.index.map(index_to_year)\n",
    "df.head()"
   ]
  },
  {
   "cell_type": "code",
   "execution_count": 7,
   "metadata": {},
   "outputs": [
    {
     "name": "stdout",
     "output_type": "stream",
     "text": [
      "     100/0  60/40  Delta Income date\n",
      "848  13965  22036  -8071   1904/1927\n",
      "824  16340  24258  -7918   1903/1927\n",
      "799  18337  26004  -7667   1902/1926\n",
      "849  18985  26636  -7651   1904/1928\n",
      "847  11722  19337  -7615   1904/1926\n"
     ]
    }
   ],
   "source": [
    "low_income = df.loc[(df['60/40'] < 40000) | (df['100/0'] < 40000)]\n",
    "\n",
    "win_100 = low_income.sort_values('Delta', ascending=False)\n",
    "win_60 = low_income.sort_values('Delta', ascending=True)\n",
    "\n",
    "print(win_60.head())"
   ]
  },
  {
   "cell_type": "code",
   "execution_count": null,
   "metadata": {},
   "outputs": [],
   "source": []
  }
 ],
 "metadata": {
  "anaconda-cloud": {},
  "kernelspec": {
   "display_name": "Python 3",
   "language": "python",
   "name": "python3"
  },
  "language_info": {
   "codemirror_mode": {
    "name": "ipython",
    "version": 3
   },
   "file_extension": ".py",
   "mimetype": "text/x-python",
   "name": "python",
   "nbconvert_exporter": "python",
   "pygments_lexer": "ipython3",
   "version": "3.7.3"
  }
 },
 "nbformat": 4,
 "nbformat_minor": 2
}
