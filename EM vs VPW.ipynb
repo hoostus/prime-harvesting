{
 "cells": [
  {
   "cell_type": "code",
   "execution_count": null,
   "metadata": {},
   "outputs": [],
   "source": [
    "%matplotlib inline\n",
    "from pprint import pprint\n",
    "\n",
    "from plot import plot_two\n",
    "from simulate import simulate_withdrawals\n",
    "from harvesting import N_60_RebalanceHarvesting, N_100_RebalanceHarvesting\n",
    "import harvesting\n",
    "\n",
    "import itertools\n",
    "from decimal import Decimal\n",
    "from montecarlo import conservative"
   ]
  },
  {
   "cell_type": "code",
   "execution_count": null,
   "metadata": {},
   "outputs": [
    {
     "name": "stdout",
     "output_type": "stream",
     "text": [
      "100000\n"
     ]
    }
   ],
   "source": [
    "import math\n",
    "from market import Returns_US_1871\n",
    "import withdrawal\n",
    "\n",
    "def compare_em_vs_vpw(series, years=40, title=''):\n",
    "    (r1, r2) = itertools.tee(series)\n",
    "    portfolio = (1000000, 0)\n",
    "    x = simulate_withdrawals(r1, years=years, harvesting=harvesting.PrimeHarvesting, withdraw=withdrawal.ECM, portfolio=portfolio)\n",
    "    y = simulate_withdrawals(r2, years=years, harvesting=N_100_RebalanceHarvesting, withdraw=withdrawal.VPW, portfolio=portfolio)\n",
    "\n",
    "    s1 = [n.withdraw_r for n in x]\n",
    "    s2 = [n.withdraw_r for n in y]\n",
    "\n",
    "    ceiling = max(max(s1), max(s2))\n",
    "    if ceiling < 200000:\n",
    "        ceiling = int(math.ceil(ceiling / 10000) * 10000)\n",
    "    else:\n",
    "        ceiling = int(math.ceil(ceiling / 100000) * 100000)\n",
    "    print(ceiling)\n",
    "    \n",
    "    plot_two(s1, s2, s1_title='ECM', s2_title='VPW',\n",
    "                       y_lim=[0,ceiling],\n",
    "                       x_label='Year of Retirement', title=title)\n",
    "\n",
    "def em_vs_vpw(year, years=40):\n",
    "    compare_em_vs_vpw(Returns_US_1871().iter_from(year), title='%d: ECM vs VPW' % year, years=years)\n",
    "\n",
    "# TODO: VPW gets a divide by zero error when I use 40 years...\n",
    "em_vs_vpw(1930, years=30)"
   ]
  },
  {
   "cell_type": "code",
   "execution_count": null,
   "metadata": {},
   "outputs": [],
   "source": [
    "from matplotlib import pyplot as plt\n",
    "import matplotlib\n",
    "import plot"
   ]
  },
  {
   "cell_type": "code",
   "execution_count": null,
   "metadata": {},
   "outputs": [],
   "source": [
    "data_series = Returns_US_1871()\n",
    "\n",
    "income_diff = []\n",
    "\n",
    "YEARS = 10\n",
    "for i in range(data_series.years_of_data):\n",
    "    year = i + 1871\n",
    "\n",
    "    (s1, s2) = itertools.tee(data_series.iter_from(year))\n",
    "    x = simulate_withdrawals(s1, years=YEARS, harvesting=N_60_RebalanceHarvesting)\n",
    "    y = simulate_withdrawals(s2, years=YEARS, harvesting=N_60_RebalanceHarvesting, withdraw=VPW)\n",
    "\n",
    "    # skip incomplete retirements\n",
    "    if len(x) < YEARS:\n",
    "        continue\n",
    "\n",
    "    em_income = sum([n.withdraw_r for n in x])\n",
    "    vpw_income = sum([n.withdraw_r for n in y])\n",
    "    income_diff.append((em_income - vpw_income, year))\n",
    "\n",
    "x_values = range(1871, 1871 + len(income_diff))\n",
    "\n",
    "#ylim = [-100000, 50000]\n",
    "\n",
    "#pprint(sorted(income_diff))\n",
    "\n",
    "fig, ax1 = plt.subplots()\n",
    "plot.format_axis_labels_with_commas(ax1.get_yaxis())\n",
    "ax1.plot(x_values, income_diff, 'b')\n",
    "#ax1.set_ylim(ylim)\n",
    "for tl in ax1.get_yticklabels():\n",
    "    tl.set_color('b')\n",
    "ax1.set_ylabel('Income diff', color='b')\n",
    "ax1.set_xlabel('Year of Retirement')\n",
    "\n",
    "#ax2 = ax1.twinx()\n",
    "#common.format_axis_labels_with_commas(ax2.get_yaxis())\n",
    "#ax2.plot(x_values, portfolio_diff, 'g')\n",
    "#ax2.set_ylim(ylim)\n",
    "#for tl in ax2.get_yticklabels():\n",
    "#    tl.set_color('g')\n",
    "#ax2.set_ylabel('Portfolio diff', color='g')\n",
    "\n",
    "plt.title('Cumulative income after %d year: EM - VPW' % YEARS)\n",
    "\n",
    "plt.show()"
   ]
  },
  {
   "cell_type": "code",
   "execution_count": null,
   "metadata": {},
   "outputs": [],
   "source": [
    "from plot import format_axis_labels_with_commas\n",
    "\n",
    "data_series = Returns_US_1871()\n",
    "\n",
    "tpv_diff = []\n",
    "YEARS = 40\n",
    "for i in range(data_series.years_of_data):\n",
    "    year = i + 1871\n",
    "\n",
    "    (s1, s2) = itertools.tee(data_series.iter_from(year))\n",
    "    x = simulate_withdrawals(s1, years=YEARS)\n",
    "    y = simulate_withdrawals(s2, years=YEARS, withdraw=VPW)\n",
    "\n",
    "    # skip incomplete retirements\n",
    "    if len(x) < 40:\n",
    "        continue\n",
    "\n",
    "    tpv_diff.append(x[19].portfolio_r - y[19].portfolio_r)\n",
    "\n",
    "x_values = range(1871, 1871 + len(tpv_diff))\n",
    "\n",
    "fig, ax1 = plt.subplots()\n",
    "format_axis_labels_with_commas(ax1.get_yaxis())\n",
    "ax1.plot(x_values, tpv_diff, 'b')\n",
    "for tl in ax1.get_yticklabels():\n",
    "    tl.set_color('b')\n",
    "ax1.set_ylabel('Portfolio Difference at Year 20', color='b')\n",
    "ax1.set_xlabel('Year of Retirement')\n",
    "\n",
    "plt.title('TPV Comparison: EM - VPW')\n",
    "\n",
    "plt.show()"
   ]
  },
  {
   "cell_type": "code",
   "execution_count": null,
   "metadata": {},
   "outputs": [],
   "source": []
  }
 ],
 "metadata": {
  "anaconda-cloud": {},
  "kernelspec": {
   "display_name": "Python 3",
   "language": "python",
   "name": "python3"
  },
  "language_info": {
   "codemirror_mode": {
    "name": "ipython",
    "version": 3
   },
   "file_extension": ".py",
   "mimetype": "text/x-python",
   "name": "python",
   "nbconvert_exporter": "python",
   "pygments_lexer": "ipython3",
   "version": "3.6.8"
  }
 },
 "nbformat": 4,
 "nbformat_minor": 2
}
