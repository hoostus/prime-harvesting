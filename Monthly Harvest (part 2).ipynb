{
 "cells": [
  {
   "cell_type": "code",
   "execution_count": null,
   "metadata": {
    "collapsed": true
   },
   "outputs": [],
   "source": []
  },
  {
   "cell_type": "code",
   "execution_count": null,
   "metadata": {
    "collapsed": true
   },
   "outputs": [],
   "source": [
    "class Monthly_Returns_US_1871:\n",
    "    def __init__(self, wrap=False):\n",
    "        self.dataframe = pandas.read_csv('schiller_monthly.csv')\n",
    "        self.years_of_data = len(self.dataframe)\n",
    "\n",
    "    def __iter__(self):\n",
    "        return self.iter_from(1871)\n",
    "\n",
    "    def iter_from(self, year, length=None):\n",
    "        start = (year * 12) - (1871 * 12)\n",
    "        count = 0\n",
    "        for row in self.dataframe.iloc[start:].iterrows():\n",
    "            yield row[1]\n",
    "            count += 1\n",
    "            if length != None and count >= length:\n",
    "                raise StopIteration\n"
   ]
  },
  {
   "cell_type": "code",
   "execution_count": null,
   "metadata": {
    "collapsed": true
   },
   "outputs": [],
   "source": [
    "# Basically want to extend McClung's table from yearly to monthly and see what changes.\n",
    "# Exactly WHICH table am I even talking about?"
   ]
  }
 ],
 "metadata": {
  "kernelspec": {
   "display_name": "Python 3",
   "language": "python",
   "name": "python3"
  },
  "language_info": {
   "codemirror_mode": {
    "name": "ipython",
    "version": 3
   },
   "file_extension": ".py",
   "mimetype": "text/x-python",
   "name": "python",
   "nbconvert_exporter": "python",
   "pygments_lexer": "ipython3",
   "version": "3.5.1"
  }
 },
 "nbformat": 4,
 "nbformat_minor": 0
}
