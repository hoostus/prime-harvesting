{
 "cells": [
  {
   "cell_type": "code",
   "execution_count": 1,
   "metadata": {},
   "outputs": [
    {
     "ename": "ModuleNotFoundError",
     "evalue": "No module named 'pandas'",
     "output_type": "error",
     "traceback": [
      "\u001b[0;31m---------------------------------------------------------------------------\u001b[0m",
      "\u001b[0;31mModuleNotFoundError\u001b[0m                       Traceback (most recent call last)",
      "\u001b[0;32m<ipython-input-1-e1f2554df3f5>\u001b[0m in \u001b[0;36m<module>\u001b[0;34m\u001b[0m\n\u001b[0;32m----> 1\u001b[0;31m \u001b[0;32mimport\u001b[0m \u001b[0mpandas\u001b[0m\u001b[0;34m\u001b[0m\u001b[0;34m\u001b[0m\u001b[0m\n\u001b[0m\u001b[1;32m      2\u001b[0m \u001b[0;32mimport\u001b[0m \u001b[0mnumpy\u001b[0m\u001b[0;34m\u001b[0m\u001b[0;34m\u001b[0m\u001b[0m\n\u001b[1;32m      3\u001b[0m \u001b[0;32mimport\u001b[0m \u001b[0mscipy\u001b[0m\u001b[0;34m.\u001b[0m\u001b[0mstats\u001b[0m\u001b[0;34m\u001b[0m\u001b[0;34m\u001b[0m\u001b[0m\n\u001b[1;32m      4\u001b[0m \u001b[0;32mfrom\u001b[0m \u001b[0mstatsmodels\u001b[0m\u001b[0;34m.\u001b[0m\u001b[0mformula\u001b[0m\u001b[0;34m.\u001b[0m\u001b[0mapi\u001b[0m \u001b[0;32mimport\u001b[0m \u001b[0mols\u001b[0m\u001b[0;34m\u001b[0m\u001b[0;34m\u001b[0m\u001b[0m\n\u001b[1;32m      5\u001b[0m \u001b[0;32mimport\u001b[0m \u001b[0mrequests_cache\u001b[0m\u001b[0;34m\u001b[0m\u001b[0;34m\u001b[0m\u001b[0m\n",
      "\u001b[0;31mModuleNotFoundError\u001b[0m: No module named 'pandas'"
     ]
    }
   ],
   "source": [
    "import pandas\n",
    "import numpy\n",
    "import scipy.stats\n",
    "from statsmodels.formula.api import ols\n",
    "import requests_cache\n",
    "import xlrd\n",
    "from matplotlib import pyplot as plt\n",
    "plt.style.use('seaborn-poster')\n",
    "import datetime"
   ]
  },
  {
   "cell_type": "code",
   "execution_count": null,
   "metadata": {},
   "outputs": [],
   "source": [
    "def get_shiller(url=\"http://www.econ.yale.edu/~shiller/data/ie_data.xls\"):\n",
    "    expire_after = datetime.timedelta(days=3)\n",
    "    session = requests_cache.CachedSession(cache_name='data-cache', backend='sqlite', expire_after=expire_after)\n",
    "\n",
    "    excel = session.get(url, stream=True)\n",
    "    # must be wrapped in a BytesIO for read_excel to accept it...\n",
    "    df = pandas.read_excel(pandas.io.common.BytesIO(excel.content),\n",
    "                           sheet_name='Data',\n",
    "                           engine='xlrd',\n",
    "                           skiprows=7,\n",
    "                           skipfooter=11, # WARN: is this always 11?\n",
    "                           index_col=0,\n",
    "                           parse_dates=True)\n",
    "    df.rename(columns={'P' : 'Price',\n",
    "                      'D' : 'Dividend',\n",
    "                      'E' : 'Earnings',\n",
    "                      'Price' : 'Real Price',\n",
    "                      'Dividend' : 'Real Dividend',\n",
    "                      'Price.1' : 'Real Total Return Price',\n",
    "                      'Earnings' : 'Real Earnings',\n",
    "                      'Earnings.1' : 'Real Total Return Scaled Earnings'}, inplace=True)\n",
    "    del(df['Unnamed: 13'], df['Unnamed: 15']) # garbage columns from Shiller's spreadsheet\n",
    "    return df\n",
    "\n",
    "shiller = get_shiller()\n",
    "shiller.head()"
   ]
  },
  {
   "cell_type": "code",
   "execution_count": null,
   "metadata": {},
   "outputs": [],
   "source": [
    "shiller['Div Yield'] = shiller['Dividend'] / shiller['Price'] / 12\n",
    "shiller['MoM Price'] = shiller['Price'] / shiller['Price'].shift(1)\n",
    "shiller['MoM TR'] = shiller['MoM Price'] + shiller['Div Yield']\n",
    "shiller['CPI Change'] = shiller['CPI'] / shiller['CPI'].shift(1)\n",
    "shiller['Real MoM TR'] = shiller['MoM TR'] / shiller['CPI Change'] - 1\n",
    "shiller['Mean CAPE'] = shiller['CAPE'].expanding().mean()\n",
    "shiller.head()"
   ]
  }
 ],
 "metadata": {
  "kernelspec": {
   "display_name": "Python 3",
   "language": "python",
   "name": "python3"
  },
  "language_info": {
   "codemirror_mode": {
    "name": "ipython",
    "version": 3
   },
   "file_extension": ".py",
   "mimetype": "text/x-python",
   "name": "python",
   "nbconvert_exporter": "python",
   "pygments_lexer": "ipython3",
   "version": "3.7.3"
  }
 },
 "nbformat": 4,
 "nbformat_minor": 2
}
