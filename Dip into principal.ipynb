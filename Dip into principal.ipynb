{
 "cells": [
  {
   "cell_type": "code",
   "execution_count": 2,
   "metadata": {},
   "outputs": [],
   "source": [
    "%matplotlib inline\n",
    "import plot\n",
    "import market\n",
    "import metrics\n",
    "from decimal import Decimal\n",
    "import pandas\n",
    "import harvesting\n",
    "import withdrawal\n",
    "import simulate"
   ]
  },
  {
   "cell_type": "code",
   "execution_count": 25,
   "metadata": {},
   "outputs": [
    {
     "name": "stdout",
     "output_type": "stream",
     "text": [
      "0.49137931034482757\n"
     ]
    }
   ],
   "source": [
    "series = market.Returns_US_1871()\n",
    "years = 30\n",
    "start_year = 1871\n",
    "last_year = 2017 - years\n",
    "h = harvesting.N_60_RebalanceHarvesting\n",
    "w = lambda p, h: withdrawal.ConstantDollar(p, h, rate=Decimal('0.02'))\n",
    "lens = lambda x: round(x.portfolio_r)\n",
    "\n",
    "data = {}\n",
    "for year in range(start_year, last_year):\n",
    "    x = simulate.withdrawals(series.iter_from(year),\n",
    "                                 withdraw=w,\n",
    "                                 years=years,\n",
    "                                 portfolio=(600000, 400000),\n",
    "                                 harvesting=h)\n",
    "    portfolio_min = min([lens(_) for _ in x])\n",
    "    data[year] = portfolio_min\n",
    "#    income = metrics.cew([lens(_) for _ in x])\n",
    "#    data[year] = income\n",
    "    \n",
    "pds = pandas.Series(data=data)\n",
    "pds.sort_values(inplace=True)\n",
    "print(len(pds[pds > 900000]) / len(pds))"
   ]
  },
  {
   "cell_type": "code",
   "execution_count": null,
   "metadata": {},
   "outputs": [],
   "source": []
  }
 ],
 "metadata": {
  "kernelspec": {
   "display_name": "Python 3",
   "language": "python",
   "name": "python3"
  },
  "language_info": {
   "codemirror_mode": {
    "name": "ipython",
    "version": 3
   },
   "file_extension": ".py",
   "mimetype": "text/x-python",
   "name": "python",
   "nbconvert_exporter": "python",
   "pygments_lexer": "ipython3",
   "version": "3.5.5"
  }
 },
 "nbformat": 4,
 "nbformat_minor": 2
}
