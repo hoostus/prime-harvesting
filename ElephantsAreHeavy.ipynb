{
 "cells": [
  {
   "cell_type": "code",
   "execution_count": 1,
   "metadata": {},
   "outputs": [],
   "source": [
    "# https://www.reddit.com/r/financialindependence/comments/9w8h2j/the_4_rule_is_there_some_builtin_flexibility/"
   ]
  },
  {
   "cell_type": "code",
   "execution_count": 2,
   "metadata": {},
   "outputs": [],
   "source": [
    "%matplotlib inline\n",
    "from pprint import pprint\n",
    "\n",
    "from plot import plot_two\n",
    "from simulate import simulate_withdrawals\n",
    "from harvesting import N_60_RebalanceHarvesting, N_100_RebalanceHarvesting\n",
    "import harvesting\n",
    "\n",
    "import itertools\n",
    "from decimal import Decimal\n",
    "from montecarlo import conservative"
   ]
  },
  {
   "cell_type": "code",
   "execution_count": 3,
   "metadata": {},
   "outputs": [],
   "source": [
    "from matplotlib import pyplot as plt\n",
    "import matplotlib\n",
    "import plot"
   ]
  },
  {
   "cell_type": "code",
   "execution_count": 4,
   "metadata": {},
   "outputs": [],
   "source": [
    "import math\n",
    "from market import Returns_US_1871\n",
    "import withdrawal"
   ]
  },
  {
   "cell_type": "code",
   "execution_count": 45,
   "metadata": {},
   "outputs": [],
   "source": [
    "class EAH(withdrawal.WithdrawalStrategy):\n",
    "    def __init__(self, portfolio, harvest):\n",
    "        super().__init__(portfolio, harvest)\n",
    "        self.last_withdrawal = Decimal('.04') * portfolio.value\n",
    "        self.portfolio_highwater = portfolio.value\n",
    "        \n",
    "    def start(self):\n",
    "        withdraw = self.last_withdrawal\n",
    "        return withdraw\n",
    "    \n",
    "    def next(self):\n",
    "        self.portfolio_highwater *= (1 + self.current_inflation)\n",
    "        if self.portfolio.value > self.portfolio_highwater:\n",
    "            withdraw = Decimal('.04') * self.portfolio.value\n",
    "            self.portfolio_highwater = self.portfolio.value\n",
    "        else:\n",
    "            withdraw = self.last_withdrawal * (1 + self.current_inflation)\n",
    "        self.last_withdrawal = withdraw\n",
    "        return withdraw"
   ]
  },
  {
   "cell_type": "code",
   "execution_count": 46,
   "metadata": {},
   "outputs": [
    {
     "name": "stderr",
     "output_type": "stream",
     "text": [
      "/Users/justus/anaconda/lib/python3.5/site-packages/matplotlib/cbook/deprecation.py:107: MatplotlibDeprecationWarning: Adding an axes using the same arguments as a previous axes currently reuses the earlier instance.  In a future version, a new instance will always be created and returned.  Meanwhile, this warning can be suppressed, and the future behavior ensured, by passing a unique label to each axes instance.\n",
      "  warnings.warn(message, mplDeprecation, stacklevel=1)\n"
     ]
    },
    {
     "data": {
      "image/png": "[encoded data removed]",
      "text/plain": [
       "<Figure size 432x288 with 2 Axes>"
      ]
     },
     "metadata": {},
     "output_type": "display_data"
    }
   ],
   "source": [
    "def compare(series, years=30):\n",
    "    (r1, r2) = itertools.tee(series)\n",
    "    portfolio = (600000, 400000)\n",
    "    x = simulate_withdrawals(r1, years=years, harvesting=N_60_RebalanceHarvesting, withdraw=withdrawal.ConstantDollar, portfolio=portfolio)\n",
    "    y = simulate_withdrawals(r2, years=years, harvesting=N_60_RebalanceHarvesting, withdraw=EAH, portfolio=portfolio)\n",
    "\n",
    "    s1 = [n.withdraw_r for n in x]\n",
    "    s2 = [n.withdraw_r for n in y]\n",
    "\n",
    "    plot.plot_n({'4%': s1, 'EAH': s2}, 'Years', '4% vs /u/ElephantsAreHeavy')\n",
    "\n",
    "compare(Returns_US_1871().iter_from(1928))"
   ]
  },
  {
   "cell_type": "code",
   "execution_count": 47,
   "metadata": {},
   "outputs": [
    {
     "name": "stdout",
     "output_type": "stream",
     "text": [
      "0.9655172413793104\n",
      "0.9396551724137931\n",
      "116 112 109\n"
     ]
    }
   ],
   "source": [
    "c_cd = 0\n",
    "c_eah = 0\n",
    "count = 0\n",
    "\n",
    "for year in range(1871, 2017-30):\n",
    "    series = Returns_US_1871().iter_from(year)\n",
    "    (r1, r2) = itertools.tee(series)\n",
    "    portfolio = (600000, 400000)\n",
    "    x = simulate_withdrawals(r1, years=30, harvesting=N_60_RebalanceHarvesting, withdraw=withdrawal.ConstantDollar, portfolio=portfolio)\n",
    "    y = simulate_withdrawals(r2, years=30, harvesting=N_60_RebalanceHarvesting, withdraw=EAH, portfolio=portfolio)\n",
    "\n",
    "    cd = x[-1].portfolio_n\n",
    "    eah = y[-1].portfolio_n\n",
    "    \n",
    "    count += 1\n",
    "    if cd > 0:\n",
    "        c_cd += 1\n",
    "    if eah > 0:\n",
    "        c_eah += 1\n",
    "    \n",
    "print(c_cd/count)\n",
    "print(c_eah/count)\n",
    "print(count, c_cd, c_eah)"
   ]
  },
  {
   "cell_type": "code",
   "execution_count": null,
   "metadata": {},
   "outputs": [],
   "source": []
  }
 ],
 "metadata": {
  "kernelspec": {
   "display_name": "Python 3",
   "language": "python",
   "name": "python3"
  },
  "language_info": {
   "codemirror_mode": {
    "name": "ipython",
    "version": 3
   },
   "file_extension": ".py",
   "mimetype": "text/x-python",
   "name": "python",
   "nbconvert_exporter": "python",
   "pygments_lexer": "ipython3",
   "version": "3.5.5"
  }
 },
 "nbformat": 4,
 "nbformat_minor": 2
}
