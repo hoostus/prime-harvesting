{
 "cells": [
  {
   "cell_type": "code",
   "execution_count": 1,
   "metadata": {
    "collapsed": true
   },
   "outputs": [],
   "source": [
    "%matplotlib inline\n",
    "import pandas\n",
    "import plot\n",
    "\n",
    "from datetime import date, timedelta"
   ]
  },
  {
   "cell_type": "code",
   "execution_count": 6,
   "metadata": {
    "collapsed": true
   },
   "outputs": [],
   "source": [
    "class Monthly_Returns_US_1871:\n",
    "    def __init__(self, wrap=False, equity_pct=.6):\n",
    "        self.dataframe = pandas.read_csv('shiller_monthly2.csv')\n",
    "        self.years_of_data = len(self.dataframe)\n",
    "        self.equity = equity_pct\n",
    "\n",
    "    def calculate_rolling_returns(self):\n",
    "        self.dataframe[[\"12 month TR\"]]\n",
    "        for row in self.dataframe.iterrows():\n",
    "            \n",
    "\n",
    "    def __iter__(self):\n",
    "        return self.iter_from(1871)\n",
    "    \n",
    "    def get_at(self, d):\n",
    "        year = d.year\n",
    "        month = d.month\n",
    "\n",
    "        start = (year * 12) - (1871 * 12)\n",
    "        start += month - 1\n",
    "        return self.dataframe.iloc[start]\n",
    "\n",
    "    def iter_from(self, year, length=None):\n",
    "        start = (year * 12) - (1871 * 12)\n",
    "        count = 0\n",
    "        for row in self.dataframe.iloc[start:].iterrows():\n",
    "            yield row\n",
    "            count += 1\n",
    "            if length != None and count >= length:\n",
    "                raise StopIteration\n"
   ]
  },
  {
   "cell_type": "markdown",
   "metadata": {},
   "source": [
    "The worst months were:\n",
    "* 1929.11: -26%\n",
    "* 1932.4 : -23%\n",
    "* 2008.1 : -20%\n",
    "* 1932.12: -17%\n",
    "* 1946.9 : -14%\n",
    "\n",
    "For each month if the return is positive: skip\n",
    "If the return is negative:\n",
    "  Figure out how many months back we need to go before our gains outweigh the drop\n",
    "  \n",
    "How do to do that?\n",
    "  forward = forward_tr + 1\n",
    "  \n",
    "  breakeven = forward * (this_month + 1)\n",
    "  if breakeven < 0:\n",
    "     month--"
   ]
  },
  {
   "cell_type": "code",
   "execution_count": 7,
   "metadata": {
    "collapsed": false
   },
   "outputs": [
    {
     "ename": "KeyError",
     "evalue": "'36 month TR'",
     "output_type": "error",
     "traceback": [
      "\u001b[0;31m---------------------------------------------------------------------------\u001b[0m",
      "\u001b[0;31mTypeError\u001b[0m                                 Traceback (most recent call last)",
      "\u001b[0;32m/Users/justus/anaconda/lib/python3.5/site-packages/pandas/indexes/base.py\u001b[0m in \u001b[0;36mget_value\u001b[0;34m(self, series, key)\u001b[0m\n\u001b[1;32m   2174\u001b[0m             \u001b[0;32mtry\u001b[0m\u001b[0;34m:\u001b[0m\u001b[0;34m\u001b[0m\u001b[0m\n\u001b[0;32m-> 2175\u001b[0;31m                 \u001b[0;32mreturn\u001b[0m \u001b[0mtslib\u001b[0m\u001b[0;34m.\u001b[0m\u001b[0mget_value_box\u001b[0m\u001b[0;34m(\u001b[0m\u001b[0ms\u001b[0m\u001b[0;34m,\u001b[0m \u001b[0mkey\u001b[0m\u001b[0;34m)\u001b[0m\u001b[0;34m\u001b[0m\u001b[0m\n\u001b[0m\u001b[1;32m   2176\u001b[0m             \u001b[0;32mexcept\u001b[0m \u001b[0mIndexError\u001b[0m\u001b[0;34m:\u001b[0m\u001b[0;34m\u001b[0m\u001b[0m\n",
      "\u001b[0;32mpandas/tslib.pyx\u001b[0m in \u001b[0;36mpandas.tslib.get_value_box (pandas/tslib.c:19053)\u001b[0;34m()\u001b[0m\n",
      "\u001b[0;32mpandas/tslib.pyx\u001b[0m in \u001b[0;36mpandas.tslib.get_value_box (pandas/tslib.c:18687)\u001b[0;34m()\u001b[0m\n",
      "\u001b[0;31mTypeError\u001b[0m: 'str' object cannot be interpreted as an integer",
      "\nDuring handling of the above exception, another exception occurred:\n",
      "\u001b[0;31mKeyError\u001b[0m                                  Traceback (most recent call last)",
      "\u001b[0;32m<ipython-input-7-4053d6553d3d>\u001b[0m in \u001b[0;36m<module>\u001b[0;34m()\u001b[0m\n\u001b[1;32m     20\u001b[0m \u001b[0;32mwhile\u001b[0m \u001b[0mnow\u001b[0m \u001b[0;34m<\u001b[0m \u001b[0mdate\u001b[0m\u001b[0;34m(\u001b[0m\u001b[0;36m2016\u001b[0m\u001b[0;34m,\u001b[0m \u001b[0;36m1\u001b[0m\u001b[0;34m,\u001b[0m \u001b[0;36m1\u001b[0m\u001b[0;34m)\u001b[0m\u001b[0;34m:\u001b[0m\u001b[0;34m\u001b[0m\u001b[0m\n\u001b[1;32m     21\u001b[0m     \u001b[0mrow\u001b[0m \u001b[0;34m=\u001b[0m \u001b[0mm\u001b[0m\u001b[0;34m.\u001b[0m\u001b[0mget_at\u001b[0m\u001b[0;34m(\u001b[0m\u001b[0mnow\u001b[0m\u001b[0;34m)\u001b[0m\u001b[0;34m\u001b[0m\u001b[0m\n\u001b[0;32m---> 22\u001b[0;31m     \u001b[0;32mif\u001b[0m \u001b[0mrow\u001b[0m\u001b[0;34m[\u001b[0m\u001b[0mCHECK\u001b[0m\u001b[0;34m]\u001b[0m \u001b[0;34m<\u001b[0m \u001b[0;36m0\u001b[0m\u001b[0;34m:\u001b[0m\u001b[0;34m\u001b[0m\u001b[0m\n\u001b[0m\u001b[1;32m     23\u001b[0m         \u001b[0mtr\u001b[0m \u001b[0;34m=\u001b[0m \u001b[0mrow\u001b[0m\u001b[0;34m[\u001b[0m\u001b[0mCHECK\u001b[0m\u001b[0;34m]\u001b[0m \u001b[0;34m+\u001b[0m \u001b[0;36m1\u001b[0m\u001b[0;34m\u001b[0m\u001b[0m\n\u001b[1;32m     24\u001b[0m         \u001b[0mcount\u001b[0m \u001b[0;34m=\u001b[0m \u001b[0;36m0\u001b[0m\u001b[0;34m\u001b[0m\u001b[0m\n",
      "\u001b[0;32m/Users/justus/anaconda/lib/python3.5/site-packages/pandas/core/series.py\u001b[0m in \u001b[0;36m__getitem__\u001b[0;34m(self, key)\u001b[0m\n\u001b[1;32m    601\u001b[0m         \u001b[0mkey\u001b[0m \u001b[0;34m=\u001b[0m \u001b[0mcom\u001b[0m\u001b[0;34m.\u001b[0m\u001b[0m_apply_if_callable\u001b[0m\u001b[0;34m(\u001b[0m\u001b[0mkey\u001b[0m\u001b[0;34m,\u001b[0m \u001b[0mself\u001b[0m\u001b[0;34m)\u001b[0m\u001b[0;34m\u001b[0m\u001b[0m\n\u001b[1;32m    602\u001b[0m         \u001b[0;32mtry\u001b[0m\u001b[0;34m:\u001b[0m\u001b[0;34m\u001b[0m\u001b[0m\n\u001b[0;32m--> 603\u001b[0;31m             \u001b[0mresult\u001b[0m \u001b[0;34m=\u001b[0m \u001b[0mself\u001b[0m\u001b[0;34m.\u001b[0m\u001b[0mindex\u001b[0m\u001b[0;34m.\u001b[0m\u001b[0mget_value\u001b[0m\u001b[0;34m(\u001b[0m\u001b[0mself\u001b[0m\u001b[0;34m,\u001b[0m \u001b[0mkey\u001b[0m\u001b[0;34m)\u001b[0m\u001b[0;34m\u001b[0m\u001b[0m\n\u001b[0m\u001b[1;32m    604\u001b[0m \u001b[0;34m\u001b[0m\u001b[0m\n\u001b[1;32m    605\u001b[0m             \u001b[0;32mif\u001b[0m \u001b[0;32mnot\u001b[0m \u001b[0mis_scalar\u001b[0m\u001b[0;34m(\u001b[0m\u001b[0mresult\u001b[0m\u001b[0;34m)\u001b[0m\u001b[0;34m:\u001b[0m\u001b[0;34m\u001b[0m\u001b[0m\n",
      "\u001b[0;32m/Users/justus/anaconda/lib/python3.5/site-packages/pandas/indexes/base.py\u001b[0m in \u001b[0;36mget_value\u001b[0;34m(self, series, key)\u001b[0m\n\u001b[1;32m   2181\u001b[0m                     \u001b[0;32mraise\u001b[0m \u001b[0mInvalidIndexError\u001b[0m\u001b[0;34m(\u001b[0m\u001b[0mkey\u001b[0m\u001b[0;34m)\u001b[0m\u001b[0;34m\u001b[0m\u001b[0m\n\u001b[1;32m   2182\u001b[0m                 \u001b[0;32melse\u001b[0m\u001b[0;34m:\u001b[0m\u001b[0;34m\u001b[0m\u001b[0m\n\u001b[0;32m-> 2183\u001b[0;31m                     \u001b[0;32mraise\u001b[0m \u001b[0me1\u001b[0m\u001b[0;34m\u001b[0m\u001b[0m\n\u001b[0m\u001b[1;32m   2184\u001b[0m             \u001b[0;32mexcept\u001b[0m \u001b[0mException\u001b[0m\u001b[0;34m:\u001b[0m  \u001b[0;31m# pragma: no cover\u001b[0m\u001b[0;34m\u001b[0m\u001b[0m\n\u001b[1;32m   2185\u001b[0m                 \u001b[0;32mraise\u001b[0m \u001b[0me1\u001b[0m\u001b[0;34m\u001b[0m\u001b[0m\n",
      "\u001b[0;32m/Users/justus/anaconda/lib/python3.5/site-packages/pandas/indexes/base.py\u001b[0m in \u001b[0;36mget_value\u001b[0;34m(self, series, key)\u001b[0m\n\u001b[1;32m   2167\u001b[0m         \u001b[0;32mtry\u001b[0m\u001b[0;34m:\u001b[0m\u001b[0;34m\u001b[0m\u001b[0m\n\u001b[1;32m   2168\u001b[0m             return self._engine.get_value(s, k,\n\u001b[0;32m-> 2169\u001b[0;31m                                           tz=getattr(series.dtype, 'tz', None))\n\u001b[0m\u001b[1;32m   2170\u001b[0m         \u001b[0;32mexcept\u001b[0m \u001b[0mKeyError\u001b[0m \u001b[0;32mas\u001b[0m \u001b[0me1\u001b[0m\u001b[0;34m:\u001b[0m\u001b[0;34m\u001b[0m\u001b[0m\n\u001b[1;32m   2171\u001b[0m             \u001b[0;32mif\u001b[0m \u001b[0mlen\u001b[0m\u001b[0;34m(\u001b[0m\u001b[0mself\u001b[0m\u001b[0;34m)\u001b[0m \u001b[0;34m>\u001b[0m \u001b[0;36m0\u001b[0m \u001b[0;32mand\u001b[0m \u001b[0mself\u001b[0m\u001b[0;34m.\u001b[0m\u001b[0minferred_type\u001b[0m \u001b[0;32min\u001b[0m \u001b[0;34m[\u001b[0m\u001b[0;34m'integer'\u001b[0m\u001b[0;34m,\u001b[0m \u001b[0;34m'boolean'\u001b[0m\u001b[0;34m]\u001b[0m\u001b[0;34m:\u001b[0m\u001b[0;34m\u001b[0m\u001b[0m\n",
      "\u001b[0;32mpandas/index.pyx\u001b[0m in \u001b[0;36mpandas.index.IndexEngine.get_value (pandas/index.c:3557)\u001b[0;34m()\u001b[0m\n",
      "\u001b[0;32mpandas/index.pyx\u001b[0m in \u001b[0;36mpandas.index.IndexEngine.get_value (pandas/index.c:3240)\u001b[0;34m()\u001b[0m\n",
      "\u001b[0;32mpandas/index.pyx\u001b[0m in \u001b[0;36mpandas.index.IndexEngine.get_loc (pandas/index.c:4279)\u001b[0;34m()\u001b[0m\n",
      "\u001b[0;32mpandas/src/hashtable_class_helper.pxi\u001b[0m in \u001b[0;36mpandas.hashtable.PyObjectHashTable.get_item (pandas/hashtable.c:13742)\u001b[0;34m()\u001b[0m\n",
      "\u001b[0;32mpandas/src/hashtable_class_helper.pxi\u001b[0m in \u001b[0;36mpandas.hashtable.PyObjectHashTable.get_item (pandas/hashtable.c:13696)\u001b[0;34m()\u001b[0m\n",
      "\u001b[0;31mKeyError\u001b[0m: '36 month TR'"
     ]
    }
   ],
   "source": [
    "m = Monthly_Returns_US_1871()\n",
    "CHECK = '36 month TR'\n",
    "\n",
    "results = {}\n",
    "\n",
    "def previous_month(now):\n",
    "    last_of_prev = now - timedelta(days=1)\n",
    "    return last_of_prev.replace(day=1)\n",
    "\n",
    "def next_month(now):\n",
    "    (year, month) = divmod(now.month, 12)\n",
    "    return now.replace(year=now.year+year, month=month+1)\n",
    "\n",
    "now = date(1900, 1, 1)\n",
    "\n",
    "def make_key(now):\n",
    "    # return now\n",
    "    return int(now.strftime('%Y%m%d'))\n",
    "\n",
    "while now < date(2016, 1, 1):\n",
    "    row = m.get_at(now)\n",
    "    if row[CHECK] < 0:\n",
    "        tr = row[CHECK] + 1\n",
    "        count = 0\n",
    "        current_month = now\n",
    "        while (tr - 1) < 0:\n",
    "            count += 1\n",
    "            current_month = previous_month(current_month)\n",
    "            prev_tr = m.get_at(current_month)['MoM TR']\n",
    "            tr *= (prev_tr + 1)\n",
    "        results[make_key(now)] = count\n",
    "        #print(now, count)\n",
    "    else:\n",
    "        results[make_key(now)] = 0\n",
    "    \n",
    "    now = next_month(now)"
   ]
  },
  {
   "cell_type": "code",
   "execution_count": 4,
   "metadata": {
    "collapsed": false
   },
   "outputs": [
    {
     "name": "stdout",
     "output_type": "stream",
     "text": [
      "19000101    0\n",
      "19000201    0\n",
      "19000301    0\n",
      "19000401    0\n",
      "19000501    0\n",
      "Name: Months of Gain Lost, dtype: int64\n"
     ]
    },
    {
     "data": {
      "text/plain": [
       "<matplotlib.axes._subplots.AxesSubplot at 0x113549e80>"
      ]
     },
     "execution_count": 4,
     "metadata": {},
     "output_type": "execute_result"
    },
    {
     "data": {
      "image/png": "[encoded data removed]",
      "text/plain": [
       "<matplotlib.figure.Figure at 0x113541ba8>"
      ]
     },
     "metadata": {},
     "output_type": "display_data"
    }
   ],
   "source": [
    "pds = pandas.Series(results, name='Months of Gain Lost')\n",
    "print(pds.head())\n",
    "plot.seaborn.tsplot(data=[results[k] for k in sorted(results.keys())],\n",
    "                   time=[k for k in sorted(results.keys())])"
   ]
  },
  {
   "cell_type": "markdown",
   "metadata": {},
   "source": [
    "This isn't great. It is telling us how long we needed to be 100% in stocks before the crash to be equal to the 12-month returns after the crash.\n",
    "\n",
    "In other words, for August 1916 the number is 3. That's telling us that if we were 100% stocks for the 3 months *before* the crash, then those gains equal the losses during the 12 months *during and after the crash*.\n",
    "\n",
    "This isn't perfect because in the real world you wouldn't move everything to cash -- you'd move to something else that is earning money. And looking at just 12 months isn't necessarily the right thing either, but it at least gives us a starting point.\n",
    "\n",
    "So what this is really measuring is when going 100% stocks is better than not investing at all. i.e. \"As long as you had been 100% stocks for ~60 months before the 2000 crash you technically didn't lose any money\n",
    "\n",
    "(Actually, rerunning everything with 6 months looks worse.)\n",
    "\n",
    "What would be better? Compare it to a 50/50 allocation, maybe? How to get monthly bond returns?"
   ]
  },
  {
   "cell_type": "code",
   "execution_count": 5,
   "metadata": {
    "collapsed": false
   },
   "outputs": [
    {
     "data": {
      "text/plain": [
       "19290701    87\n",
       "19290601    85\n",
       "19290501    65\n",
       "19300301    64\n",
       "19300401    63\n",
       "19300201    63\n",
       "19291201    59\n",
       "19711201    59\n",
       "19300101    55\n",
       "19290401    53\n",
       "19310801    52\n",
       "19310701    52\n",
       "19290801    51\n",
       "19310901    49\n",
       "19291001    48\n",
       "19310601    47\n",
       "19290901    47\n",
       "19310501    45\n",
       "19390501    45\n",
       "19310301    43\n",
       "19290101    43\n",
       "19310101    43\n",
       "19310201    42\n",
       "19290301    42\n",
       "19290201    41\n",
       "19301101    40\n",
       "19310401    40\n",
       "19301201    40\n",
       "19300501    39\n",
       "19281201    39\n",
       "            ..\n",
       "19760301     0\n",
       "19750501     0\n",
       "19760401     0\n",
       "19760501     0\n",
       "19760601     0\n",
       "19760701     0\n",
       "19760801     0\n",
       "19760901     0\n",
       "19761001     0\n",
       "19750601     0\n",
       "19750401     0\n",
       "19731001     0\n",
       "19740601     0\n",
       "19731101     0\n",
       "19731201     0\n",
       "19740101     0\n",
       "19740201     0\n",
       "19740301     0\n",
       "19740401     0\n",
       "19740501     0\n",
       "19740701     0\n",
       "19750301     0\n",
       "19740801     0\n",
       "19740901     0\n",
       "19741001     0\n",
       "19741101     0\n",
       "19741201     0\n",
       "19750101     0\n",
       "19750201     0\n",
       "19000101     0\n",
       "Name: Months of Gain Lost, dtype: int64"
      ]
     },
     "execution_count": 5,
     "metadata": {},
     "output_type": "execute_result"
    }
   ],
   "source": [
    "d = date(1902, 6, 1)\n",
    "m.get_at(d)\n",
    "pds.sort_values(ascending=False)"
   ]
  },
  {
   "cell_type": "code",
   "execution_count": null,
   "metadata": {
    "collapsed": true
   },
   "outputs": [],
   "source": []
  }
 ],
 "metadata": {
  "anaconda-cloud": {},
  "kernelspec": {
   "display_name": "Python [default]",
   "language": "python",
   "name": "python3"
  },
  "language_info": {
   "codemirror_mode": {
    "name": "ipython",
    "version": 3
   },
   "file_extension": ".py",
   "mimetype": "text/x-python",
   "name": "python",
   "nbconvert_exporter": "python",
   "pygments_lexer": "ipython3",
   "version": "3.5.3"
  }
 },
 "nbformat": 4,
 "nbformat_minor": 0
}
