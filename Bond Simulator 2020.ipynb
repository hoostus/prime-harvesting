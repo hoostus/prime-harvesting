{
 "cells": [
  {
   "cell_type": "code",
   "execution_count": null,
   "metadata": {},
   "outputs": [],
   "source": [
    "import numpy\n",
    "import pandas\n",
    "import math\n",
    "from datetime import datetime\n",
    "import pandas_datareader.data as web\n",
    "import xlrd"
   ]
  },
  {
   "cell_type": "code",
   "execution_count": null,
   "metadata": {},
   "outputs": [],
   "source": [
    "%load_ext autoreload\n",
    "%autoreload 2\n",
    "import bond_simulator"
   ]
  },
  {
   "cell_type": "code",
   "execution_count": null,
   "metadata": {},
   "outputs": [],
   "source": [
    "import seaborn\n",
    "from matplotlib import pyplot as plt\n",
    "seaborn.set(style='whitegrid')\n",
    "seaborn.set_context('poster')"
   ]
  },
  {
   "cell_type": "markdown",
   "metadata": {},
   "source": [
    "# OECD Short\n",
    "\n",
    "These are 3-month rates."
   ]
  },
  {
   "cell_type": "code",
   "execution_count": null,
   "metadata": {},
   "outputs": [],
   "source": [
    "oecd_short = pandas.read_excel('OECD IMF RoE Interest Rates.xlsx',\n",
    "                          usecols='A,F,G',\n",
    "                          parse_dates=['TIME'],\n",
    "                          sheet_name='DP_LIVE_ShortM',\n",
    "                          converters = {'Value': lambda x: x/100}\n",
    "                         )"
   ]
  },
  {
   "cell_type": "code",
   "execution_count": null,
   "metadata": {},
   "outputs": [],
   "source": [
    "def get_country(country, df):\n",
    "    cc = df[df['LOCATION'] == country].sort_values('TIME')\n",
    "    return pandas.Series(data=cc['Value'].values, index=cc['TIME'])\n",
    "get_country('USA', oecd_short).head()"
   ]
  },
  {
   "cell_type": "markdown",
   "metadata": {},
   "source": [
    "# OECD Long\n",
    "\n",
    "These are 10-year rates."
   ]
  },
  {
   "cell_type": "code",
   "execution_count": null,
   "metadata": {},
   "outputs": [],
   "source": [
    "oecd_long = pandas.read_excel('OECD IMF RoE Interest Rates.xlsx',\n",
    "                          usecols='A,F,G',\n",
    "                          parse_dates=['TIME'],\n",
    "                          sheet_name='DP_LIVE_LongM',\n",
    "                          converters = {'Value': lambda x: x/100}\n",
    "                         )"
   ]
  },
  {
   "cell_type": "code",
   "execution_count": null,
   "metadata": {},
   "outputs": [],
   "source": [
    "get_country('USA', oecd_long).head()"
   ]
  },
  {
   "cell_type": "markdown",
   "metadata": {},
   "source": [
    "# IMF Rates\n",
    "\n",
    "This sheet contains \"bond\", \"bill\", and \"money market\" rates. We need to do some extra processing here to get everything in the right shape for us to use.\n",
    "\n",
    "* \"bond\" maturity is ???\n",
    "* \"bill\" maturity is anywhere from 3- to 12-months depending on the country\n",
    "* \"money market\" maturity is (presumably?) overnight or 1-month?"
   ]
  },
  {
   "cell_type": "code",
   "execution_count": null,
   "metadata": {},
   "outputs": [],
   "source": [
    "imf = pandas.read_excel('OECD IMF RoE Interest Rates.xlsx',\n",
    "                        sheet_name='IMF Monthly',\n",
    "                        usecols='A,F,H:AKF', # Warning! AKF goes to January 2020 only.\n",
    "                        skipfooter=18\n",
    "                         )\n",
    "imf.head()"
   ]
  },
  {
   "cell_type": "code",
   "execution_count": null,
   "metadata": {},
   "outputs": [],
   "source": [
    "imf = imf.rename(columns={'Unnamed: 0': 'Country'})\n",
    "\n",
    "def slice_imf(df, indicator_code):\n",
    "    df_slice = df[df['Indicator Code'] == indicator_code]\n",
    "    dates = [datetime.strptime(x, '%YM%m') for x in df_slice.T.index[2:]]\n",
    "    n = pandas.DataFrame(columns=df_slice['Country'], data=df_slice.T[2:].values, index=dates)\n",
    "    return n.applymap(lambda x: x / 100)\n",
    "\n",
    "imf_bonds = slice_imf(imf, 'FIGB_PA')\n",
    "imf_moneymarket = slice_imf(imf, 'FIMM_PA')\n",
    "imf_bills = slice_imf(imf, 'FITB_PA')\n",
    "imf_moneymarket.dropna().head()"
   ]
  },
  {
   "cell_type": "code",
   "execution_count": null,
   "metadata": {},
   "outputs": [],
   "source": [
    "def make_series(country):\n",
    "    short = imf_bills[country].combine_first(get_country(country, oecd_short)).dropna()\n",
    "    long = imf_bonds[country].combine_first(get_country(country, oecd_long)).dropna()\n",
    "\n",
    "    df = pandas.DataFrame(columns=range(1,11), data={1: short, 10: long}, dtype=numpy.float64)\n",
    "    df = df.fillna(method='backfill', axis=0) # fill UP along a column, guarantees we have some kind of yield curve\n",
    "    #df = df.dropna(thresh=2) # we might only have 1 rate (i.e. only short or only long; skip those years)\n",
    "    df.interpolate(axis=1, inplace=True)\n",
    "    #df.fillna(method='backfill', axis=1, inplace=True)\n",
    "    return df"
   ]
  },
  {
   "cell_type": "markdown",
   "metadata": {},
   "source": [
    "Prefer IMF rates. Are there any cases where we have OECD rates but not IMF rates?"
   ]
  },
  {
   "cell_type": "code",
   "execution_count": null,
   "metadata": {},
   "outputs": [],
   "source": [
    "make_series('USA')['1953':]"
   ]
  },
  {
   "cell_type": "code",
   "execution_count": null,
   "metadata": {},
   "outputs": [],
   "source": [
    "# given a series of yearly columns, convert it to monthly columns\n",
    "def explode_series(annual_series):\n",
    "    years = len(annual_series.columns)\n",
    "    df = pandas.DataFrame(index=annual_series.index, columns=range(1, 12 * years + 1), dtype=numpy.float64)\n",
    "    for index, cols in annual_series.iterrows():\n",
    "        for year, rate in cols.iteritems():\n",
    "            df.loc[index][year * 12] = rate\n",
    "    df.interpolate(axis=1, inplace=True)\n",
    "    return df.fillna(method='backfill', axis=1)\n",
    "\n",
    "# we need to change the yields from annual yields to monthly yields\n",
    "def make_yield_monthly(df):\n",
    "    return df.applymap(lambda x: math.pow(1+x, 1/12) - 1)"
   ]
  },
  {
   "cell_type": "code",
   "execution_count": null,
   "metadata": {},
   "outputs": [],
   "source": [
    "country = 'USA'\n",
    "short = imf_bills[country].combine_first(get_country(country, oecd_short)).dropna()\n",
    "long = imf_bonds[country].combine_first(get_country(country, oecd_long)).dropna()\n",
    "df = pandas.DataFrame(columns=range(1,11), data={1: short, 10: long}, dtype=numpy.float64)\n",
    "#df = df.fillna(method='backfill', axis=0)\n",
    "df.interpolate(axis=1, inplace=True)\n",
    "df.fillna(method='backfill', axis=1)\n",
    "df.head()"
   ]
  },
  {
   "cell_type": "markdown",
   "metadata": {},
   "source": [
    "# debug what is wrong with USA, GBR, CAN"
   ]
  },
  {
   "cell_type": "code",
   "execution_count": null,
   "metadata": {},
   "outputs": [],
   "source": [
    "country_name = 'USA'\n",
    "annual_yields = make_series(country_name)\n",
    "exploded_yields = explode_series(annual_yields)\n",
    "monthly_yields = make_yield_monthly(exploded_yields)\n",
    "country_m = bond_simulator.simulate_turnover((12*10), (12*4), monthly_yields)\n",
    "country_m.to_csv(f'{country_name.lower()}-monthly.csv')\n",
    "country_m.head()"
   ]
  },
  {
   "cell_type": "code",
   "execution_count": null,
   "metadata": {},
   "outputs": [],
   "source": [
    "# aggregate monthly changes to an annual change\n",
    "# or...could just compare NAV via a shift.\n",
    "s = country_m['Change'] + 1\n",
    "g = s.groupby(numpy.arange(len(s))//12, axis=0).prod()\n",
    "g = g - 1\n",
    "g.index = pandas.date_range(country_m.index[0], periods=len(g), freq='AS-JAN')\n",
    "g"
   ]
  },
  {
   "cell_type": "raw",
   "metadata": {},
   "source": [
    "writer = pandas.ExcelWriter('oecd_monthly.xls', engine='xlsxwriter')\n",
    "for country in imf_bills.columns:\n",
    "    print(f'Simulating {country}')\n",
    "    one_df = bond_simulator.simulate_turnover(10*12, 2*12, make_yield_monthly(explode_series(make_series(country))))\n",
    "    one_df.to_excel(writer, sheet_name=country)\n",
    "writer.save()"
   ]
  },
  {
   "cell_type": "markdown",
   "metadata": {},
   "source": [
    "# Annual turnover"
   ]
  },
  {
   "cell_type": "code",
   "execution_count": null,
   "metadata": {},
   "outputs": [],
   "source": [
    "country_name = 'USA'\n",
    "annual = make_series(country_name)[::12]\n",
    "country_a = bond_simulator.simulate_turnover(10, 4, annual)\n",
    "country_a.to_csv(f'{country_name.lower()}-annual.csv')\n",
    "country_a.head()"
   ]
  },
  {
   "cell_type": "code",
   "execution_count": null,
   "metadata": {},
   "outputs": [],
   "source": [
    "def plot_all(key, monthly, annual, title=None):\n",
    "    g = monthly[key].groupby(numpy.arange(len(s))//12, axis=0).mean()\n",
    "    g.index = pandas.date_range(monthly.index[0], periods=len(g), freq='AS-JAN')\n",
    "    \n",
    "    if not title:\n",
    "        title = key\n",
    "\n",
    "    plt.figure(figsize=(11,9))\n",
    "    plt.title(title)\n",
    "    seaborn.lineplot(data=pandas.DataFrame(data={\n",
    "        'Annual': annual[key],\n",
    "        'Monthly (January)': monthly[key][::12],\n",
    "        'Monthly (Average)': g\n",
    "    }))   "
   ]
  },
  {
   "cell_type": "code",
   "execution_count": null,
   "metadata": {},
   "outputs": [],
   "source": [
    "plot_all('Maturity', country_m, country_a)"
   ]
  },
  {
   "cell_type": "code",
   "execution_count": null,
   "metadata": {},
   "outputs": [],
   "source": [
    "plot_all('Coupon', country_m, country_a)"
   ]
  },
  {
   "cell_type": "code",
   "execution_count": null,
   "metadata": {},
   "outputs": [],
   "source": [
    "plot_all('YTM', country_m, country_a, title='Yield to Maturity')"
   ]
  },
  {
   "cell_type": "code",
   "execution_count": null,
   "metadata": {},
   "outputs": [],
   "source": [
    "plot_all('Duration', country_m, country_a)"
   ]
  },
  {
   "cell_type": "code",
   "execution_count": null,
   "metadata": {},
   "outputs": [],
   "source": []
  }
 ],
 "metadata": {
  "kernelspec": {
   "display_name": "Python 3",
   "language": "python",
   "name": "python3"
  },
  "language_info": {
   "codemirror_mode": {
    "name": "ipython",
    "version": 3
   },
   "file_extension": ".py",
   "mimetype": "text/x-python",
   "name": "python",
   "nbconvert_exporter": "python",
   "pygments_lexer": "ipython3"
  }
 },
 "nbformat": 4,
 "nbformat_minor": 4
}
