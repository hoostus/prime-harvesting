{
 "cells": [
  {
   "cell_type": "code",
   "execution_count": 1,
   "metadata": {
    "collapsed": true
   },
   "outputs": [],
   "source": [
    "%matplotlib inline\n",
    "from pprint import pprint\n",
    "import itertools\n",
    "\n",
    "from market import Returns_US_1871\n",
    "from simulate import simulate_withdrawals\n",
    "from harvesting import N_60_RebalanceHarvesting\n",
    "from metrics import average, mean, median\n",
    "from withdrawal import ConstantWithdrawals\n",
    "import pandas\n",
    "\n",
    "from adt import AnnualChange\n",
    "import numpy"
   ]
  },
  {
   "cell_type": "code",
   "execution_count": 2,
   "metadata": {
    "collapsed": true
   },
   "outputs": [],
   "source": [
    "class Monthly_Returns_US_1871:\n",
    "    def __init__(self, wrap=False):\n",
    "        self.dataframe = pandas.read_csv('shiller_monthly.csv')\n",
    "        self.years_of_data = len(self.dataframe)\n",
    "\n",
    "    def __iter__(self):\n",
    "        return self.iter_from(1871)\n",
    "\n",
    "    def iter_from(self, year, length=None):\n",
    "        start = (year * 12) - (1871 * 12)\n",
    "        count = 0\n",
    "        for row in self.dataframe.iloc[start:].iterrows():\n",
    "            yield row[1]\n",
    "            count += 1\n",
    "            if length != None and count >= length:\n",
    "                raise StopIteration\n"
   ]
  },
  {
   "cell_type": "code",
   "execution_count": 3,
   "metadata": {
    "collapsed": false,
    "scrolled": true
   },
   "outputs": [
    {
     "name": "stdout",
     "output_type": "stream",
     "text": [
      "2223.02446985\n",
      "2484.64084507\n",
      "1461.0\n",
      "0.3494318973\n"
     ]
    }
   ],
   "source": [
    "m = Monthly_Returns_US_1871()\n",
    "count = 1\n",
    "trigger = []\n",
    "\n",
    "import datetime\n",
    "\n",
    "def diff(x, y):\n",
    "    (x_year, x_month) = map(lambda n: int(n), x.split('.'))\n",
    "    (y_year, y_month) = map(lambda n: int(n), y.split('.'))\n",
    "\n",
    "    dx = datetime.date(x_year, x_month, 1)\n",
    "    dy = datetime.date(y_year, y_month, 1)\n",
    "    return dy - dx\n",
    "\n",
    "after_days = []\n",
    "gain = []\n",
    "\n",
    "for (_, i) in m.dataframe.iloc[0:].iterrows():\n",
    "    date = str(i['Date'])\n",
    "    index = float(i['S&P Price'])\n",
    "\n",
    "    if count == 1:\n",
    "        start_of_year = index\n",
    "        \n",
    "        for (d, i) in trigger:\n",
    "            if index >= i * 1.20:\n",
    "                after_days.append(diff(d, date).days)\n",
    "                gain.append((index - i) / i)\n",
    "                #print('Harvest %s in %s' % (d, date))\n",
    "                trigger.remove((d,i))\n",
    "\n",
    "        trigger.append((date, index))\n",
    "\n",
    "    count += 1\n",
    "    if count == 13:\n",
    "        count = 1\n",
    "\n",
    "print(numpy.std(after_days))\n",
    "print(numpy.mean(after_days))\n",
    "print(numpy.median(after_days))\n",
    "print(numpy.median(gain))"
   ]
  },
  {
   "cell_type": "code",
   "execution_count": 6,
   "metadata": {
    "collapsed": false
   },
   "outputs": [
    {
     "name": "stdout",
     "output_type": "stream",
     "text": [
      "1915.07202608\n",
      "1701.79020979\n",
      "762.0\n",
      "0.218689788054\n"
     ]
    }
   ],
   "source": [
    "after_days = []\n",
    "count = 1\n",
    "gain = []\n",
    "\n",
    "for (_, i) in m.dataframe.iloc[0:].iterrows():\n",
    "    date = str(i['Date'])\n",
    "    index = float(i['S&P Price'])\n",
    "        \n",
    "    for (d, i) in trigger:\n",
    "        if index >= i * 1.20:\n",
    "            after_days.append(diff(d, date).days)\n",
    "            gain.append((index - i) / i)\n",
    "            #print('Harvest %s in %s' % (d, date))\n",
    "            trigger.remove((d,i))\n",
    "\n",
    "    if count == 1:\n",
    "        trigger.append((date, index))\n",
    "\n",
    "    count += 1\n",
    "    if count == 13:\n",
    "        count = 1\n",
    "\n",
    "print(numpy.std(after_days))\n",
    "print(numpy.mean(after_days))\n",
    "print(numpy.median(after_days))\n",
    "print(numpy.median(gain))"
   ]
  },
  {
   "cell_type": "code",
   "execution_count": null,
   "metadata": {
    "collapsed": true
   },
   "outputs": [],
   "source": []
  }
 ],
 "metadata": {
  "anaconda-cloud": {},
  "kernelspec": {
   "display_name": "Python [default]",
   "language": "python",
   "name": "python3"
  },
  "language_info": {
   "codemirror_mode": {
    "name": "ipython",
    "version": 3
   },
   "file_extension": ".py",
   "mimetype": "text/x-python",
   "name": "python",
   "nbconvert_exporter": "python",
   "pygments_lexer": "ipython3",
   "version": "3.5.3"
  }
 },
 "nbformat": 4,
 "nbformat_minor": 0
}
