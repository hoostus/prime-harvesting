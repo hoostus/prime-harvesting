{
 "cells": [
  {
   "cell_type": "markdown",
   "metadata": {},
   "source": [
    "In [a blog post by Darrow Kirkpatrick][2] he uses CAPE10 to decide whether to rebalance from stocks or bonds.\n",
    "\n",
    "Let's try to replicate that.\n",
    "\n",
    "* $1,000,000 portfolio\n",
    "* 4% initial withdrawal rate\n",
    "* Inflation-adjusted\n",
    "* 30-year retirement\n",
    "* 50/50 between S&P 500 and 10-year treasuries\n",
    "* Make a withdrawal at the beginning of the year\n",
    "* Perform annual rebalancing as well? Unclear. His [first time][1] he doesn't appear to ever do rebalancing.\n",
    "  In his [newer one][2] he lists rebalancing options but somehow(?) they provide different results. I don't\n",
    "  understand how that is possible. If you end up rebalancing after taking the withdrawal, then it doesn't matter\n",
    "  where you take the withdrawal from. Unless he rebalances **first** and then **then** takes the withdrawal?\n",
    "\n",
    "[1]: http://www.caniretireyet.com/new-research-the-best-retirement-withdrawal-strategies/\n",
    "[2]: http://www.caniretireyet.com/the-best-retirement-withdrawal-strategies-digging-deeper/"
   ]
  },
  {
   "cell_type": "code",
   "execution_count": 1,
   "metadata": {
    "collapsed": true,
    "jupyter": {
     "outputs_hidden": true
    }
   },
   "outputs": [],
   "source": [
    "import pandas\n",
    "import portfolio\n",
    "import collections\n",
    "from decimal import Decimal\n",
    "from adt import AnnualChange"
   ]
  },
  {
   "cell_type": "code",
   "execution_count": 2,
   "metadata": {
    "collapsed": false,
    "jupyter": {
     "outputs_hidden": false
    }
   },
   "outputs": [],
   "source": [
    "Date = collections.namedtuple('Date', ['year', 'month'])\n",
    "\n",
    "def str_to_date(s):\n",
    "    (year, month) = s.split('.')\n",
    "    def convert_month(m):\n",
    "        if m == '01':\n",
    "            return 1\n",
    "        elif m == '1':\n",
    "            return 10\n",
    "        else:\n",
    "            return int(m)\n",
    "    return Date(int(year), convert_month(month))\n",
    "\n",
    "frame = pandas.read_csv('shiller_monthly.csv', converters={'Date': str_to_date})\n",
    "\n",
    "CAPE_STARTS = Date(1881, 1)\n",
    "DATA_STARTS = Date(1871, 1)\n",
    "MONTHS_IN_YEAR = 12\n",
    "YEARS_IN_RETIREMENT = 30\n",
    "LENGTH_OF_RETIRMENT = YEARS_IN_RETIREMENT * MONTHS_IN_YEAR\n",
    "\n",
    "def get_row(date):\n",
    "    years = date.year - DATA_STARTS.year\n",
    "    months = years * MONTHS_IN_YEAR\n",
    "    months += date.month - DATA_STARTS.month\n",
    "    return months\n",
    "\n",
    "assert frame.iloc[get_row(CAPE_STARTS)]['Date'] == CAPE_STARTS"
   ]
  },
  {
   "cell_type": "code",
   "execution_count": 3,
   "metadata": {
    "collapsed": false,
    "jupyter": {
     "outputs_hidden": false
    }
   },
   "outputs": [],
   "source": [
    "def retire(frame, start_date):\n",
    "    assert start_date.year >= CAPE_STARTS.year\n",
    "    \n",
    "    current_date = start_date\n",
    "    \n",
    "    p = portfolio.Portfolio(500000, 500000)\n",
    "    last_equity_index = frame.iloc[get_row(start_date)]['S&P Price']\n",
    "\n",
    "    for i in range(LENGTH_OF_RETIRMENT):\n",
    "        df = frame.iloc[get_row(current_date)]\n",
    "        \n",
    "        # update portfolio\n",
    "        current_equity_index = frame.iloc[get_row(current_date)]['S&P Price']\n",
    "        percent_change = (current_equity_index / last_equity_index) - 1\n",
    "        last_equity_index = current_equity_index\n",
    "        \n",
    "        dividends = frame.iloc[get_row(current_date)]['S&P Dividend']\n",
    "        monthly_yield = (dividends / current_equity_index) / 12\n",
    "        \n",
    "        dollar_change = (p.stocks * Decimal(percent_change)) + (p.stocks * Decimal(monthly_yield))\n",
    "\n",
    "        stock_change = Decimal(percent_change) + Decimal(monthly_yield)\n",
    "\n",
    "        p.adjust_returns(AnnualChange(year=0, stocks=stock_change, bonds=0, inflation=0))\n",
    "\n",
    "        if current_date.month == start_date.month:\n",
    "            print(df['Date'], p.value)\n",
    "            # make withdrawal based on CAPE\n",
    "            # rebalance?\n",
    "            \n",
    "        new_date_months = current_date.year * MONTHS_IN_YEAR + current_date.month\n",
    "        current_date = Date(new_date_months // 12, (new_date_months % 12) + 1)\n",
    "\n",
    "#retire(frame, Date(1900, 1))"
   ]
  },
  {
   "cell_type": "code",
   "execution_count": 4,
   "metadata": {
    "collapsed": false,
    "jupyter": {
     "outputs_hidden": false
    }
   },
   "outputs": [
    {
     "name": "stdout",
     "output_type": "stream",
     "text": [
      "      CAPE10   Mean  Median\n",
      "1881   15.96  17.63   18.03\n",
      "1882   15.38  16.44   16.02\n",
      "1883   14.90  16.06   15.51\n",
      "1884   13.43  15.49   15.26\n",
      "1885   16.30  15.31   15.17\n"
     ]
    }
   ],
   "source": [
    "def make_csv(frame):\n",
    "    pd = pandas.DataFrame(columns=['CAPE10', 'Mean', 'Median'])\n",
    "    for row, i in frame.iloc[0:].iterrows():\n",
    "        if i['Date'].month == 12 and i['Date'].year >= 1881:\n",
    "            pd.loc[i['Date'].year] = {'CAPE10': i['CAPE10'], 'Mean': i['Mean'], 'Median': i['Median']}\n",
    "    #pd.to_csv('cape10.csv')\n",
    "    print(pd.head())\n",
    "make_csv(frame)"
   ]
  },
  {
   "cell_type": "code",
   "execution_count": null,
   "metadata": {
    "collapsed": true,
    "jupyter": {
     "outputs_hidden": true
    }
   },
   "outputs": [],
   "source": []
  }
 ],
 "metadata": {
  "anaconda-cloud": {},
  "kernelspec": {
   "display_name": "Python 3",
   "language": "python",
   "name": "python3"
  },
  "language_info": {
   "codemirror_mode": {
    "name": "ipython",
    "version": 3
   },
   "file_extension": ".py",
   "mimetype": "text/x-python",
   "name": "python",
   "nbconvert_exporter": "python",
   "pygments_lexer": "ipython3",
   "version": "3.8.5"
  }
 },
 "nbformat": 4,
 "nbformat_minor": 4
}
