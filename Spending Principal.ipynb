{
 "cells": [
  {
   "cell_type": "code",
   "execution_count": 1,
   "metadata": {},
   "outputs": [],
   "source": [
    "%matplotlib inline\n",
    "import plot\n",
    "import market\n",
    "import metrics\n",
    "from decimal import Decimal\n",
    "import pandas"
   ]
  },
  {
   "cell_type": "code",
   "execution_count": 24,
   "metadata": {},
   "outputs": [
    {
     "name": "stdout",
     "output_type": "stream",
     "text": [
      "1997 6.0 $60,000\n",
      "1998 4.7 $47,000\n",
      "1999 3.6 $35,000\n",
      "2000 3.1 $31,000\n",
      "2001 3.5 $35,000\n",
      "2002 4.3 $42,000\n",
      "2003 5.7 $57,000\n",
      "2004 4.6 $46,000\n",
      "2005 4.5 $45,000\n",
      "2006 4.9 $48,000\n",
      "2007 4.4 $44,000\n",
      "2008 4.5 $44,000\n",
      "2009 8.1 $81,000\n",
      "2010 7.3 $73,000\n",
      "2011 6.8 $67,000\n",
      "2012 7.8 $77,000\n",
      "2013 7.6 $75,000\n"
     ]
    }
   ],
   "source": [
    "m = market.Returns_US_1871()\n",
    "last_year = 2017\n",
    "first_year = 1997\n",
    "\n",
    "stock_pct = Decimal('0.6')\n",
    "bond_pct = Decimal('0.4')\n",
    "\n",
    "for start_year in range(first_year, last_year-3):\n",
    "    returns = []\n",
    "    inflation = 1\n",
    "\n",
    "    for one_year in zip(range(last_year - start_year), m.iter_from(start_year)):\n",
    "        annual_returns = one_year[1]\n",
    "        stocks = annual_returns.stocks\n",
    "        bonds = annual_returns.bonds\n",
    "        inflation *= (1 + annual_returns.inflation)\n",
    "        returns.append((stocks * stock_pct) + (bonds * (1-stock_pct)))\n",
    "\n",
    "        pwa = float(metrics.pwa(100, 100 * inflation, returns))\n",
    "    withdraw = int(pwa * 1000000 / 100000) * 1000\n",
    "    print(start_year, '%.1f' % pwa, \"${:,}\".format(withdraw))\n"
   ]
  },
  {
   "cell_type": "code",
   "execution_count": null,
   "metadata": {},
   "outputs": [],
   "source": []
  }
 ],
 "metadata": {
  "kernelspec": {
   "display_name": "Python 3",
   "language": "python",
   "name": "python3"
  },
  "language_info": {
   "codemirror_mode": {
    "name": "ipython",
    "version": 3
   },
   "file_extension": ".py",
   "mimetype": "text/x-python",
   "name": "python",
   "nbconvert_exporter": "python",
   "pygments_lexer": "ipython3",
   "version": "3.5.5"
  }
 },
 "nbformat": 4,
 "nbformat_minor": 2
}
