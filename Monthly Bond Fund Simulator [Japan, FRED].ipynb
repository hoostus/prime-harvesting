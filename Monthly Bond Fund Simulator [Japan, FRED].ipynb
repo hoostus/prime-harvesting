{
 "cells": [
  {
   "cell_type": "code",
   "execution_count": 1,
   "metadata": {
    "collapsed": false,
    "deletable": true,
    "editable": true,
    "jupyter": {
     "outputs_hidden": false
    }
   },
   "outputs": [
    {
     "name": "stderr",
     "output_type": "stream",
     "text": [
      "/Users/justus/anaconda3/lib/python3.7/site-packages/pandas_datareader/compat/__init__.py:7: FutureWarning: pandas.util.testing is deprecated. Use the functions in the public API at pandas.testing instead.\n",
      "  from pandas.util.testing import assert_frame_equal\n"
     ]
    }
   ],
   "source": [
    "import numpy\n",
    "from collections import deque\n",
    "import pandas\n",
    "import math\n",
    "import pandas_datareader.data as web\n",
    "import datetime\n",
    "import requests\n",
    "import requests_cache\n",
    "import xlrd\n",
    "import tempfile\n",
    "import itertools"
   ]
  },
  {
   "cell_type": "code",
   "execution_count": 2,
   "metadata": {
    "collapsed": false,
    "deletable": true,
    "editable": true,
    "jupyter": {
     "outputs_hidden": false
    }
   },
   "outputs": [
    {
     "data": {
      "text/html": [
       "<div>\n",
       "<style scoped>\n",
       "    .dataframe tbody tr th:only-of-type {\n",
       "        vertical-align: middle;\n",
       "    }\n",
       "\n",
       "    .dataframe tbody tr th {\n",
       "        vertical-align: top;\n",
       "    }\n",
       "\n",
       "    .dataframe thead th {\n",
       "        text-align: right;\n",
       "    }\n",
       "</style>\n",
       "<table border=\"1\" class=\"dataframe\">\n",
       "  <thead>\n",
       "    <tr style=\"text-align: right;\">\n",
       "      <th></th>\n",
       "      <th>INTGSBJPM193N</th>\n",
       "      <th>INTGSTJPM193N</th>\n",
       "    </tr>\n",
       "    <tr>\n",
       "      <th>DATE</th>\n",
       "      <th></th>\n",
       "      <th></th>\n",
       "    </tr>\n",
       "  </thead>\n",
       "  <tbody>\n",
       "    <tr>\n",
       "      <th>1955-04-01</th>\n",
       "      <td>NaN</td>\n",
       "      <td>5.524</td>\n",
       "    </tr>\n",
       "    <tr>\n",
       "      <th>1955-05-01</th>\n",
       "      <td>NaN</td>\n",
       "      <td>5.524</td>\n",
       "    </tr>\n",
       "    <tr>\n",
       "      <th>1955-06-01</th>\n",
       "      <td>NaN</td>\n",
       "      <td>5.524</td>\n",
       "    </tr>\n",
       "    <tr>\n",
       "      <th>1955-07-01</th>\n",
       "      <td>NaN</td>\n",
       "      <td>5.524</td>\n",
       "    </tr>\n",
       "    <tr>\n",
       "      <th>1955-08-01</th>\n",
       "      <td>NaN</td>\n",
       "      <td>5.524</td>\n",
       "    </tr>\n",
       "  </tbody>\n",
       "</table>\n",
       "</div>"
      ],
      "text/plain": [
       "            INTGSBJPM193N  INTGSTJPM193N\n",
       "DATE                                    \n",
       "1955-04-01            NaN          5.524\n",
       "1955-05-01            NaN          5.524\n",
       "1955-06-01            NaN          5.524\n",
       "1955-07-01            NaN          5.524\n",
       "1955-08-01            NaN          5.524"
      ]
     },
     "execution_count": 2,
     "metadata": {},
     "output_type": "execute_result"
    }
   ],
   "source": [
    "def get_fred(fred_series):\n",
    "    expire_after = datetime.timedelta(days=3)\n",
    "    session = requests_cache.CachedSession(cache_name='data-cache', backend='sqlite', expire_after=expire_after)\n",
    "    \n",
    "    start = datetime.datetime(1800, 1, 1)\n",
    "    df = web.DataReader(fred_series, \"fred\", start, session=session)\n",
    "    return df\n",
    "\n",
    "# All FRED data can be found at https://fred.stlouisfed.org/series/SERIES_NAME\n",
    "FRED_SERIES = [\n",
    "    'INTGSBJPM193N', # 1966-2016 Interest Rates, Government Securities, Government Bonds for Japan\n",
    "    'INTGSTJPM193N', # 1955-2016 Interest Rates, Government Securities, Treasury Bills for Japan\n",
    "]\n",
    "\n",
    "fred = get_fred(FRED_SERIES)\n",
    "fred.head()"
   ]
  },
  {
   "cell_type": "code",
   "execution_count": 3,
   "metadata": {
    "deletable": true,
    "editable": true
   },
   "outputs": [],
   "source": [
    "def iterate_fund(ladder, yield_curve, max_maturity):\n",
    "    ladder.reduce_maturities()\n",
    "    ladder.generate_payments()\n",
    "    sold_bonds = ladder.sell_bonds(yield_curve)\n",
    "\n",
    "    # Only buy a new bond if we actually sold one...\n",
    "    if sold_bonds:\n",
    "        ladder.buy_bond(yield_curve[max_maturity-1], max_maturity)\n",
    "    \n",
    "    # This happens *after* we sell the shortest bond and buy a new long one\n",
    "    # (at least, that's what longinvest does...)\n",
    "    nav = ladder.get_nav(yield_curve)\n",
    "\n",
    "    return (ladder, nav)"
   ]
  },
  {
   "cell_type": "code",
   "execution_count": 4,
   "metadata": {
    "deletable": true,
    "editable": true
   },
   "outputs": [],
   "source": [
    "def a2m(annual_rate):\n",
    "    return pow(annual_rate + 1, 1/12) - 1\n",
    "\n",
    "class Bond:\n",
    "    def __init__(self, face_value, yield_pct, maturity, payments_per_year=12):\n",
    "        self.face_value = face_value\n",
    "        self.yield_pct = yield_pct\n",
    "        self.maturity = maturity\n",
    "        self.payments_per_year = payments_per_year\n",
    "        \n",
    "    def __repr__(self):\n",
    "        return ('Maturity: %d | Yield: %.2f%% | Face Value: $%.2f' % (self.maturity, self.yield_pct * 100, self.face_value))\n",
    "\n",
    "    def gen_payment(self):\n",
    "        return self.face_value * self.yield_pct / self.payments_per_year\n",
    "    \n",
    "    def value(self, rates):\n",
    "        value = numpy.pv(rates[self.maturity - 1], self.maturity / 12, (self.face_value * self.yield_pct), self.face_value)\n",
    "        return -value\n",
    "    \n",
    "class BondLadder:\n",
    "    def __init__(self, min_maturity, max_maturity):\n",
    "        self.min_maturity = min_maturity\n",
    "        self.max_maturity = max_maturity\n",
    "        self.cash = 0\n",
    "        \n",
    "        self.ladder = set()\n",
    "        \n",
    "    def print_all(self):\n",
    "        for bond in sorted(self.ladder, key=lambda b: b.maturity):\n",
    "            print(bond)\n",
    "            \n",
    "    def print_all_values(self, rates):\n",
    "        for bond in sorted(self.ladder, key=lambda b: b.maturity):\n",
    "            print(bond.value(rates))\n",
    "        \n",
    "    def buy_bond(self, rate, maturity):\n",
    "        b = Bond(self.cash, rate, maturity)\n",
    "        self.add_bond(b)\n",
    "        self.cash = 0\n",
    "        return b\n",
    "        \n",
    "    def get_nav(self, rates):\n",
    "        return self.cash + sum((b.value(rates) for b in self.ladder))\n",
    "\n",
    "    def generate_payments(self):\n",
    "        self.cash += sum((b.gen_payment() for b in self.ladder))        \n",
    "        \n",
    "    def __repr__(self):\n",
    "        return ('%d-%d Ladder { Num Bonds: %d. }' % (self.max_maturity, self.min_maturity, len(self.ladder)))\n",
    "        \n",
    "    def add_bond(self, bond):\n",
    "        #assert bond.maturity <= self.max_maturity\n",
    "        #assert bond.maturity >= self.min_maturity\n",
    "        self.ladder.add(bond)\n",
    "    \n",
    "    def reduce_maturities(self):\n",
    "        for bond in self.ladder:\n",
    "            bond.maturity -= 1\n",
    "\n",
    "    def sell_bonds(self, rates):\n",
    "        to_sell = filter(lambda bond: bond.maturity <= self.min_maturity, self.ladder)\n",
    "        to_sell = list(to_sell)\n",
    "        self.ladder = self.ladder.difference(to_sell)\n",
    "        self.cash += sum((b.value(rates) for b in to_sell))\n",
    "        return to_sell"
   ]
  },
  {
   "cell_type": "code",
   "execution_count": 5,
   "metadata": {
    "collapsed": false,
    "deletable": true,
    "editable": true,
    "jupyter": {
     "outputs_hidden": false
    }
   },
   "outputs": [
    {
     "data": {
      "text/plain": [
       "120-60 Ladder { Num Bonds: 61. }"
      ]
     },
     "execution_count": 5,
     "metadata": {},
     "output_type": "execute_result"
    }
   ],
   "source": [
    "def bootstrap(yield_curve, max_bonds, min_maturity):\n",
    "    bond_yield = yield_curve[max_bonds - 1]\n",
    "\n",
    "    # Why - 11?\n",
    "    #min_maturity -= 11\n",
    "\n",
    "    ladder = BondLadder(min_maturity, max_bonds)\n",
    "    starting_face_value = 50 # chosen arbitrarily (to match longinvest)\n",
    "\n",
    "    for i, j in zip(range(max_bonds), range(min_maturity, max_bonds+1)):\n",
    "        face_value = pow(1 + a2m(bond_yield), i) * starting_face_value\n",
    "        b = Bond(face_value, bond_yield, j)\n",
    "        ladder.add_bond(b)\n",
    "    return ladder\n",
    "bootstrap([.0532]*120, 10*12, 5*12)"
   ]
  },
  {
   "cell_type": "code",
   "execution_count": 6,
   "metadata": {
    "collapsed": false,
    "deletable": true,
    "editable": true,
    "jupyter": {
     "outputs_hidden": false
    }
   },
   "outputs": [],
   "source": [
    "def splice_data(raw_rates, series):\n",
    "    # Start by loading the data we get from Shiller.\n",
    "    # This will always exist.\n",
    "\n",
    "    def safe_add(series_index, rate_index):\n",
    "        # Don't overwrite any data we already have.\n",
    "        if math.isnan(series.iloc[series_index]):\n",
    "            series.iloc[series_index] = raw_rates[rate_index]\n",
    "\n",
    "    safe_add(1 * 12 - 1, 'INTGSTJPM193N')\n",
    "    safe_add(10 * 12 - 1, 'INTGSBJPM193N')\n",
    "\n",
    "def build_yield_curve(raw_rates, yield_curve_size=10*12):\n",
    "    s = pandas.Series(math.nan, index=numpy.arange(yield_curve_size))\n",
    "\n",
    "    # We use NaN to indicate \"the data needs to be interpolated\"\n",
    "    # We have a few different data series that we splice together.\n",
    "    splice_data(raw_rates, s)\n",
    "    \n",
    "    # This will do linear interpolation where it can.\n",
    "    s.interpolate(inplace=True)\n",
    "    \n",
    "    # But it can still leave us with NaNs at the low end of the range\n",
    "    s.fillna(method='backfill', inplace=True)\n",
    "    \n",
    "    # all of the data is in the form 3.71 but we want it to be .0371,\n",
    "    # since that's what a percent actually is\n",
    "    return s.apply(lambda x: x / 100).tolist()"
   ]
  },
  {
   "cell_type": "code",
   "execution_count": 7,
   "metadata": {
    "collapsed": false,
    "deletable": true,
    "editable": true,
    "jupyter": {
     "outputs_hidden": false
    },
    "scrolled": true
   },
   "outputs": [
    {
     "data": {
      "text/plain": [
       "['5.932',\n",
       " '5.932',\n",
       " '5.932',\n",
       " '5.932',\n",
       " '5.932',\n",
       " '5.932',\n",
       " '5.932',\n",
       " '5.932',\n",
       " '5.932',\n",
       " '5.932',\n",
       " '5.932',\n",
       " '5.932',\n",
       " '5.932',\n",
       " '5.932',\n",
       " '5.932',\n",
       " '5.932',\n",
       " '5.932',\n",
       " '5.932',\n",
       " '5.932',\n",
       " '5.932',\n",
       " '5.932',\n",
       " '5.932',\n",
       " '5.932',\n",
       " '5.932',\n",
       " '5.932',\n",
       " '5.932',\n",
       " '5.932',\n",
       " '5.932',\n",
       " '5.932',\n",
       " '5.932',\n",
       " '5.932',\n",
       " '5.932',\n",
       " '5.932',\n",
       " '5.932',\n",
       " '5.932',\n",
       " '5.932',\n",
       " '5.932',\n",
       " '5.932',\n",
       " '5.932',\n",
       " '5.932',\n",
       " '5.932',\n",
       " '5.932',\n",
       " '5.932',\n",
       " '5.932',\n",
       " '5.932',\n",
       " '5.932',\n",
       " '5.932',\n",
       " '5.932',\n",
       " '5.932',\n",
       " '5.932',\n",
       " '5.932',\n",
       " '5.932',\n",
       " '5.932',\n",
       " '5.932',\n",
       " '5.932',\n",
       " '5.932',\n",
       " '5.932',\n",
       " '5.932',\n",
       " '5.932',\n",
       " '5.932',\n",
       " '5.932',\n",
       " '5.932',\n",
       " '5.932',\n",
       " '5.932',\n",
       " '5.932',\n",
       " '5.932',\n",
       " '5.932',\n",
       " '5.932',\n",
       " '5.932',\n",
       " '5.932',\n",
       " '5.932',\n",
       " '5.932',\n",
       " '5.932',\n",
       " '5.932',\n",
       " '5.932',\n",
       " '5.932',\n",
       " '5.932',\n",
       " '5.932',\n",
       " '5.932',\n",
       " '5.932',\n",
       " '5.932',\n",
       " '5.932',\n",
       " '5.932',\n",
       " '5.932',\n",
       " '5.932',\n",
       " '5.932',\n",
       " '5.932',\n",
       " '5.932',\n",
       " '5.932',\n",
       " '5.932',\n",
       " '5.932',\n",
       " '5.932',\n",
       " '5.932',\n",
       " '5.932',\n",
       " '5.932',\n",
       " '5.932',\n",
       " '5.932',\n",
       " '5.932',\n",
       " '5.932',\n",
       " '5.932',\n",
       " '5.932',\n",
       " '5.932',\n",
       " '5.932',\n",
       " '5.932',\n",
       " '5.932',\n",
       " '5.932',\n",
       " '5.932',\n",
       " '5.932',\n",
       " '5.932',\n",
       " '5.932',\n",
       " '5.932',\n",
       " '5.932',\n",
       " '5.932',\n",
       " '5.932',\n",
       " '5.932',\n",
       " '5.932',\n",
       " '5.932',\n",
       " '5.932',\n",
       " '5.932',\n",
       " '5.932']"
      ]
     },
     "execution_count": 7,
     "metadata": {},
     "output_type": "execute_result"
    }
   ],
   "source": [
    "['%.3f' % (s*100) for s in build_yield_curve(fred.iloc[15*12])]"
   ]
  },
  {
   "cell_type": "code",
   "execution_count": 8,
   "metadata": {
    "collapsed": false,
    "deletable": true,
    "editable": true,
    "jupyter": {
     "outputs_hidden": false
    }
   },
   "outputs": [
    {
     "data": {
      "text/plain": [
       "120-48 Ladder { Num Bonds: 73. }"
      ]
     },
     "execution_count": 8,
     "metadata": {},
     "output_type": "execute_result"
    }
   ],
   "source": [
    "bootstrap(build_yield_curve(fred.iloc[-2]), 10 * 12, 4 * 12)"
   ]
  },
  {
   "cell_type": "code",
   "execution_count": 9,
   "metadata": {
    "collapsed": false,
    "deletable": true,
    "editable": true,
    "jupyter": {
     "outputs_hidden": false
    }
   },
   "outputs": [],
   "source": [
    "def loop(ladder, rates, max_maturity):\n",
    "    df = pandas.DataFrame(columns=['NAV', 'Change'])\n",
    "\n",
    "    # The first iterations have fake data with duplicate years\n",
    "    # But that's okay because we overwrite them with later data\n",
    "    # (since they all have the same year)\n",
    "    for (year, current_rates) in rates:\n",
    "        if year.year % 5 == 0 and year.month == 1:\n",
    "            print('Calculating...', year.year)\n",
    "        (ladder, nav) = iterate_fund(ladder, build_yield_curve(current_rates), max_maturity)\n",
    "        df.loc[year] = {'NAV' : nav, 'Change' : None}\n",
    "\n",
    "    calculate_returns(df)\n",
    "    return df\n",
    "\n",
    "def calculate_returns(df):\n",
    "    # Longinvest calculates the return based on comparison's to\n",
    "    # next year's NAV. So I'll do the same. Even though that seems\n",
    "    # weird to me. Maybe it's because the rates are based on January?\n",
    "    # Hmmm...that sounds plausible.\n",
    "    max_row = df.shape[0]\n",
    "\n",
    "    for i in range(max_row - 1):\n",
    "        next_nav = df.iloc[i+1]['NAV']\n",
    "        nav = df.iloc[i]['NAV']\n",
    "        change = (next_nav - nav) / nav\n",
    "        df.iloc[i]['Change'] = change\n",
    "    return df\n",
    "\n",
    "def make_annual_ladder(max_maturity, min_maturity, yields):\n",
    "    rate = yields[max_maturity - 1]\n",
    "    \n",
    "    # We have to add the \"- 12\" in order to make things like up with how\n",
    "    # longinvest runs things. His \"10-4\" ladder is really more of \"10-3\" ladder:\n",
    "    # bonds get sold the moment they become a 3 year bond.\n",
    "    ladder = BondLadder(min_maturity - 12, max_maturity)\n",
    "\n",
    "    face_value = 50\n",
    "    for i in range(min_maturity, max_maturity + 1, 12):\n",
    "        ladder.add_bond(Bond(face_value, rate, i))\n",
    "        face_value = face_value * (1 + rate)\n",
    "\n",
    "    return ladder\n",
    "\n",
    "def simulate_monthly_turnover(max_maturity, min_maturity, rates):\n",
    "    min_maturity = min_maturity * 12\n",
    "    max_maturity = max_maturity * 12\n",
    "\n",
    "    initial_yields = build_yield_curve(rates.iloc[0])\n",
    "    ladder = bootstrap(initial_yields, max_maturity, min_maturity)\n",
    "\n",
    "    return loop(ladder, rates.iterrows(), max_maturity)\n",
    "\n",
    "def simulate_annual_turnover(max_maturity, min_maturity, rates):\n",
    "    min_maturity = min_maturity * 12\n",
    "    max_maturity = max_maturity * 12\n",
    "\n",
    "    initial_yields = build_yield_curve(rates.iloc[0])\n",
    "    ladder = make_annual_ladder(max_maturity, min_maturity, initial_yields)\n",
    "\n",
    "    # longinvest actually simulates 1870 and assumes 1871 rates. That's why,\n",
    "    # when the simulation starts in January 1871, all the bonds have paid 1 year\n",
    "    # of interest and one of the bonds is ready to be sold.\n",
    "    # So we need to generate 11 months of fake data to do the same simulation.\n",
    "    # Why 11 months? The 12th month is the real January 1871 data.\n",
    "    first_index = rates.head(1).index\n",
    "    bootstrap_rates = itertools.repeat(next(rates.iterrows()), 11)\n",
    "    all_rates = itertools.chain(bootstrap_rates, rates.iterrows())\n",
    "\n",
    "    return loop(ladder, all_rates, max_maturity)"
   ]
  },
  {
   "cell_type": "code",
   "execution_count": 10,
   "metadata": {
    "collapsed": false,
    "deletable": true,
    "editable": true,
    "jupyter": {
     "outputs_hidden": false
    }
   },
   "outputs": [
    {
     "name": "stderr",
     "output_type": "stream",
     "text": [
      "/Users/justus/anaconda3/lib/python3.7/site-packages/ipykernel_launcher.py:18: DeprecationWarning: numpy.pv is deprecated and will be removed from NumPy 1.20. Use numpy_financial.pv instead (https://pypi.org/project/numpy-financial/).\n"
     ]
    },
    {
     "name": "stdout",
     "output_type": "stream",
     "text": [
      "Calculating... 1960\n",
      "Calculating... 1965\n",
      "Calculating... 1970\n",
      "Calculating... 1975\n",
      "Calculating... 1980\n",
      "Calculating... 1985\n",
      "Calculating... 1990\n",
      "Calculating... 1995\n",
      "Calculating... 2000\n",
      "Calculating... 2005\n",
      "Calculating... 2010\n",
      "Calculating... 2015\n",
      "                    NAV    Change\n",
      "1955-04-01  4327.879291  0.004603\n",
      "1955-05-01  4347.801962  0.004603\n",
      "1955-06-01  4367.816344  0.004603\n",
      "1955-07-01  4387.922858  0.004603\n",
      "1955-08-01  4408.121930  0.004603\n",
      "CPU times: user 8.44 s, sys: 149 ms, total: 8.59 s\n",
      "Wall time: 9.89 s\n"
     ]
    }
   ],
   "source": [
    "%%time\n",
    "sim_results = simulate_monthly_turnover(10, 4, fred)\n",
    "print(sim_results.head())"
   ]
  },
  {
   "cell_type": "code",
   "execution_count": 11,
   "metadata": {
    "deletable": true,
    "editable": true
   },
   "outputs": [],
   "source": [
    "sim_results.to_csv('bonds-monthly-japan-fred.csv')"
   ]
  },
  {
   "cell_type": "code",
   "execution_count": null,
   "metadata": {
    "collapsed": true,
    "deletable": true,
    "editable": true,
    "jupyter": {
     "outputs_hidden": true
    }
   },
   "outputs": [],
   "source": []
  }
 ],
 "metadata": {
  "anaconda-cloud": {},
  "kernelspec": {
   "display_name": "Python 3",
   "language": "python",
   "name": "python3"
  },
  "language_info": {
   "codemirror_mode": {
    "name": "ipython",
    "version": 3
   },
   "file_extension": ".py",
   "mimetype": "text/x-python",
   "name": "python",
   "nbconvert_exporter": "python",
   "pygments_lexer": "ipython3",
   "version": "3.7.6"
  }
 },
 "nbformat": 4,
 "nbformat_minor": 4
}
