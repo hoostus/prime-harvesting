{
 "cells": [
  {
   "cell_type": "markdown",
   "metadata": {
    "deletable": true,
    "editable": true
   },
   "source": [
    "# Treasury Bond Fund Simulator\n",
    "\n",
    "This is based off of [longinvest's post on bogleheads][1]. He implemented it all in a spreadsheet (which is linked in the thread).\n",
    "\n",
    "The goal is to calculate returns of a simulated bond fund given a bunch of interest rates. By having returns (instead of rates) we can perform backtesting with historical data.\n",
    "\n",
    "Keep in mind that this a simulation so it has some simplifying things that will make it slightly different from the real world. This is not a comprehensive list:\n",
    "\n",
    "* It assumes no transaction costs. This is mostly truish for Treasuries, though.\n",
    "* It assumes an extremely liquid marketplace where there is no margin when selling. This is mostly truish for Treasuries, as well.\n",
    "* Because bonds are only rolled once a year, [the duration of the fund shifts a bit][2].\n",
    "* Real funds [shift their durations all the time][3], even if only by small amounts. Our simulated shifts and their actual shifts are unlikely to line up exactly.\n",
    "* All interest is reinvested rather than being paid out. This actually works in our favor, since total returns are what we care about for backtesting anyway.\n",
    "\n",
    "First we need to import some libraries....\n",
    "\n",
    "[1]: https://www.bogleheads.org/forum/viewtopic.php?f=10&t=179425\n",
    "[2]: https://www.bogleheads.org/forum/viewtopic.php?f=10&t=179425&start=100#p2998433\n",
    "[3]: https://www.bogleheads.org/forum/viewtopic.php?f=10&t=179425&start=100#p2998031"
   ]
  },
  {
   "cell_type": "code",
   "execution_count": 1,
   "metadata": {
    "collapsed": false,
    "deletable": true,
    "editable": true
   },
   "outputs": [],
   "source": [
    "import numpy\n",
    "from collections import deque\n",
    "import pandas\n",
    "import math"
   ]
  },
  {
   "cell_type": "markdown",
   "metadata": {
    "deletable": true,
    "editable": true
   },
   "source": [
    "# Simulating the Bond Fund\n",
    "Simulating the bond fund is conceptually straightforward.\n",
    "\n",
    "You have a ladder of bonds, one for each year. Something like this:\n",
    "\n",
    "    deque([Maturity: 1 | Yield: 5.00% | Face Value: $50.00,\n",
    "       Maturity: 2 | Yield: 5.00% | Face Value: $52.50,\n",
    "       Maturity: 3 | Yield: 5.00% | Face Value: $55.12,\n",
    "       Maturity: 4 | Yield: 5.00% | Face Value: $57.88,\n",
    "       Maturity: 5 | Yield: 5.00% | Face Value: $60.78,\n",
    "       Maturity: 6 | Yield: 5.00% | Face Value: $63.81,\n",
    "       Maturity: 7 | Yield: 5.00% | Face Value: $67.00,\n",
    "       Maturity: 8 | Yield: 5.00% | Face Value: $70.36,\n",
    "       Maturity: 9 | Yield: 5.00% | Face Value: $73.87])\n",
    "           \n",
    "Every year three things will happen:\n",
    "\n",
    "1. All of the bonds will pay out their cash coupon. This is based on their yield and their face value.\n",
    "1. When a bond gets \"too young\" (I'll come back to this) we sell it. The exact price will also be explained later. Every year you will sell one bond of the youngest maturity.\n",
    "1. Now you've got a pile of cash and one fewer bond. Use the cash to buy a new bond of the longest maturity.\n",
    "\n",
    "## Youngest maturity & oldest maturity\n",
    "\n",
    "When you create the bond fund, you can select the youngest maturity and the oldest maturity. Say that you want fund where the oldest bond has a 10-year maturity and the youngest bond has a 2-year maturity. As a shorthand, we'll call that a 10-2 fund. Every year a 2-year bond becomes a 1-year bond and will be sold and replaced with a brand new 10-year bond."
   ]
  },
  {
   "cell_type": "code",
   "execution_count": 2,
   "metadata": {
    "collapsed": true,
    "deletable": true,
    "editable": true
   },
   "outputs": [],
   "source": [
    "def iterate_fund(ladder, yield_curve, max_maturity):\n",
    "    reduce_maturity(ladder)\n",
    "    \n",
    "    payments = get_payments(ladder)\n",
    "\n",
    "    sold_bond = ladder.popleft()\n",
    "    payments += sold_bond.value(yield_curve)\n",
    "\n",
    "    new_bond = Bond(payments, yield_curve[max_maturity-1], max_maturity)\n",
    "    ladder.append(new_bond)\n",
    "    \n",
    "    # This happens *after* we sell the shortest bond and buy a new long one\n",
    "    # (at least, that's what longinvest does...)\n",
    "    nav = get_nav(ladder, yield_curve)\n",
    "\n",
    "    return (ladder, payments, nav)\n",
    "\n",
    "def get_nav(ladder, rates):\n",
    "    return sum((b.value(rates) for b in ladder))\n",
    "\n",
    "def get_payments(ladder):\n",
    "    return sum((b.gen_payment() for b in ladder))\n",
    "\n",
    "def reduce_maturity(ladder):\n",
    "    for b in ladder:\n",
    "        b.maturity -= 1\n",
    "    return ladder"
   ]
  },
  {
   "cell_type": "markdown",
   "metadata": {
    "deletable": true,
    "editable": true
   },
   "source": [
    "# Bond Mechanics\n",
    "\n",
    "A bond is just three things: a yield, a face value, and a maturity. If you called up your broker you would say, \"I want to buy $100 of the 10-year Treasury that is yielding 3.2%.\" The maturity is 10-years; the face value is $100; and the yield is 3.2%.\n",
    "\n",
    "There are only two things you can do with a bond.\n",
    "\n",
    "### Receive your payment\n",
    "Every year the bond will generate a payment -- a \"coupon\" in bond-speak. This is simply the **yield × face value**. Going back to the previous example, with a face value of $100 and a yield of 3.2%, every year you would get a payment of $3.20. (Not very impressive, admittedly.)\n",
    "\n",
    "### Check the current value of the bond\n",
    "Bonds are designed to be held until their maturity. At that point you'll receive a payment for the face value. In our example, that would mean after holding the bond for 10 years you would get your full $100 back.\n",
    "\n",
    "But what if you wanted to sell the bond **before** maturity? That's (usually) possible but the exact price will depend on current rates. Say we want to sell our bond after 9 years. In essence, we have a 1-year bond that yields 3.2%. What if the current going yield for 1-year bonds was 2.5%? Then our bond will be worth a little more. If the current going yield for 1-year bonds is 4.2% then our bond will be worth a little less.\n",
    "\n",
    "Here's how it actually gets calculated:\n",
    "\n",
    "* take the current maturity remaining on the bond\n",
    "* take the current yield on bonds of that maturity\n",
    "* take the bond face value\n",
    "\n",
    "Then mix all of them into present value calculation: **pv(current yield, current maturity, face value)**. (The pv function is found in every spreadsheet and many calculators.)\n",
    "\n",
    "If the current yields are 2.5% and you have a face value of $100 then the present value is $97.56. This calculates the \"exact\" value of the bond. In the real world, someone would probably offer you slightly less, maybe $97.25, because they are offering you liquidity and taking some risk. For Treasuries that is a very small number, so ignoring it is probably good enough.\n",
    "\n",
    "### From rates to returns\n",
    "At the end of the day, checking the current value of the bonds we hold is what we're trying to achieve. By adding up the value of all the bonds we hold we can figure out the Net Asset Value (NAV) of our fund. And then we compare that NAV over time. This is what we wanted: to be able to calculate the returns of a (simulated) bond fund."
   ]
  },
  {
   "cell_type": "code",
   "execution_count": 3,
   "metadata": {
    "collapsed": true,
    "deletable": true,
    "editable": true
   },
   "outputs": [],
   "source": [
    "class Bond:\n",
    "    def __init__(self, face_value, yield_pct, maturity):\n",
    "        self.face_value = face_value\n",
    "        self.yield_pct = yield_pct\n",
    "        self.maturity = maturity\n",
    "        \n",
    "    def __repr__(self):\n",
    "        return ('Maturity: %d | Yield: %.2f%% | Face Value: $%.2f' % (self.maturity, self.yield_pct * 100, self.face_value))\n",
    "        \n",
    "    def gen_payment(self):\n",
    "        return self.face_value * self.yield_pct\n",
    "    \n",
    "    def value(self, rates):\n",
    "        value = numpy.pv(rates[self.maturity - 1], self.maturity, self.gen_payment(), self.face_value)\n",
    "        return -value"
   ]
  },
  {
   "cell_type": "markdown",
   "metadata": {
    "deletable": true,
    "editable": true
   },
   "source": [
    "# Bootstrapping the Ladder\n",
    "\n",
    "Our bond ladder is straightforward enough. Sell the youngest bond and buy another one of the old bonds, using whatever cash we currently have available.\n",
    "\n",
    "But how do you get the ladder **started**? Where do those first bonds come from?\n",
    "\n",
    "Here's where things get a little bit unavoidably hacky. In the real world, you could slowly build up a ladder over time. For instance, buy 1/10th of the ladder every year for a decade. That takes, well, a decade. Which means there's an entire decade in our simulation with no results. We can shortcut that at the cost of a slight loss of accuracy for those first few years.\n",
    "\n",
    "If we're building a 10-2 ladder then we have 9 bonds (we don't have a bond with 1-year maturity, hence only 9 bonds). We bootstrap the ladder by buying all 9 instantly. That means they will all have the same yield -- whatever the current yield is."
   ]
  },
  {
   "cell_type": "code",
   "execution_count": 4,
   "metadata": {
    "collapsed": false,
    "deletable": true,
    "editable": true
   },
   "outputs": [
    {
     "data": {
      "text/plain": [
       "deque([Maturity: 2 | Yield: 5.32% | Face Value: $50.00,\n",
       "       Maturity: 3 | Yield: 5.32% | Face Value: $52.66,\n",
       "       Maturity: 4 | Yield: 5.32% | Face Value: $55.46,\n",
       "       Maturity: 5 | Yield: 5.32% | Face Value: $58.41,\n",
       "       Maturity: 6 | Yield: 5.32% | Face Value: $61.52,\n",
       "       Maturity: 7 | Yield: 5.32% | Face Value: $64.79,\n",
       "       Maturity: 8 | Yield: 5.32% | Face Value: $68.24,\n",
       "       Maturity: 9 | Yield: 5.32% | Face Value: $71.87,\n",
       "       Maturity: 10 | Yield: 5.32% | Face Value: $75.69])"
      ]
     },
     "execution_count": 4,
     "metadata": {},
     "output_type": "execute_result"
    }
   ],
   "source": [
    "def bootstrap(yield_curve, max_bonds, min_maturity):\n",
    "    bond_yield = yield_curve[max_bonds - 1]\n",
    "    ladder = deque()\n",
    "    starting_face_value = 50 # chosen arbitrarily (to match longinvest)\n",
    "\n",
    "    for i, j in zip(range(max_bonds), range(min_maturity, max_bonds+1)):\n",
    "        face_value = pow(1 + bond_yield, i) * starting_face_value\n",
    "        b = Bond(face_value, bond_yield, j)\n",
    "        ladder.append(b)\n",
    "    return ladder\n",
    "bootstrap([.0532]*10, 10, 2)"
   ]
  },
  {
   "cell_type": "markdown",
   "metadata": {
    "deletable": true,
    "editable": true
   },
   "source": [
    "Why do we have a different face value for each one? Why not just $50 for each? That's how we ensure that each rung of the ladder has equivalent value. If they each had a face value of $50 then the longer-term bonds would actually be worth less than the younger-term bonds. [For more explanation, refer to this post by longinvest][1].\n",
    "\n",
    "[1]: https://www.bogleheads.org/forum/viewtopic.php?p=3142416#p3142416"
   ]
  },
  {
   "cell_type": "markdown",
   "metadata": {
    "deletable": true,
    "editable": true
   },
   "source": [
    "# Rates\n",
    "\n",
    "Now that we understand how the ladder works and how to bootstrap it, we need a source of rates in order to drive the engine.\n",
    "\n",
    "We have a number of sources of rate data.\n",
    "\n",
    "* Shiller provides 10 year yields on Treasuries, going back to 1871\n",
    "* Shiller provides 1 year interest rates, going back to 1871\n",
    "* [FRED provides 1-, 2-, 3-, 5-, 7-, 20-, and 30-year rates][1]. The data begins in the 1954-1977 range. When available, we prefer the FRED data over Shiller data.\n",
    "* NBER provides [historical data (1942-1962)][2] for 20-year rates\n",
    "* NBER provides [yields on long-term bonds (1919-1944)][3]\n",
    "\n",
    "So we will start by importing those. (I've spliced them all into a single CSV file to make importing things simpler; [you can get the CSV from github][4])\n",
    "\n",
    "[1]: https://fred.stlouisfed.org/categories/115\n",
    "[2]: https://fred.stlouisfed.org/series/M13058USM156NNBR\n",
    "[3]: https://fred.stlouisfed.org/series/M1333AUSM156NNBR\n",
    "[4]: https://github.com/hoostus/prime-harvesting/blob/master/bond_rates.csv"
   ]
  },
  {
   "cell_type": "code",
   "execution_count": 5,
   "metadata": {
    "collapsed": false,
    "deletable": true,
    "editable": true
   },
   "outputs": [
    {
     "data": {
      "text/html": [
       "<div>\n",
       "<table border=\"1\" class=\"dataframe\">\n",
       "  <thead>\n",
       "    <tr style=\"text-align: right;\">\n",
       "      <th></th>\n",
       "      <th>1 year</th>\n",
       "      <th>GS2</th>\n",
       "      <th>GS3</th>\n",
       "      <th>GS5</th>\n",
       "      <th>GS7</th>\n",
       "      <th>10 year</th>\n",
       "      <th>GS20</th>\n",
       "      <th>GS30</th>\n",
       "      <th>M13058</th>\n",
       "      <th>M1333</th>\n",
       "      <th>longinvest 20</th>\n",
       "      <th>longinvest 30</th>\n",
       "    </tr>\n",
       "    <tr>\n",
       "      <th>Year</th>\n",
       "      <th></th>\n",
       "      <th></th>\n",
       "      <th></th>\n",
       "      <th></th>\n",
       "      <th></th>\n",
       "      <th></th>\n",
       "      <th></th>\n",
       "      <th></th>\n",
       "      <th></th>\n",
       "      <th></th>\n",
       "      <th></th>\n",
       "      <th></th>\n",
       "    </tr>\n",
       "  </thead>\n",
       "  <tbody>\n",
       "    <tr>\n",
       "      <th>1871</th>\n",
       "      <td>0.0635</td>\n",
       "      <td>NaN</td>\n",
       "      <td>NaN</td>\n",
       "      <td>NaN</td>\n",
       "      <td>NaN</td>\n",
       "      <td>0.0532</td>\n",
       "      <td>NaN</td>\n",
       "      <td>NaN</td>\n",
       "      <td>NaN</td>\n",
       "      <td>NaN</td>\n",
       "      <td>NaN</td>\n",
       "      <td>NaN</td>\n",
       "    </tr>\n",
       "    <tr>\n",
       "      <th>1872</th>\n",
       "      <td>0.0781</td>\n",
       "      <td>NaN</td>\n",
       "      <td>NaN</td>\n",
       "      <td>NaN</td>\n",
       "      <td>NaN</td>\n",
       "      <td>0.0536</td>\n",
       "      <td>NaN</td>\n",
       "      <td>NaN</td>\n",
       "      <td>NaN</td>\n",
       "      <td>NaN</td>\n",
       "      <td>NaN</td>\n",
       "      <td>NaN</td>\n",
       "    </tr>\n",
       "    <tr>\n",
       "      <th>1873</th>\n",
       "      <td>0.0835</td>\n",
       "      <td>NaN</td>\n",
       "      <td>NaN</td>\n",
       "      <td>NaN</td>\n",
       "      <td>NaN</td>\n",
       "      <td>0.0558</td>\n",
       "      <td>NaN</td>\n",
       "      <td>NaN</td>\n",
       "      <td>NaN</td>\n",
       "      <td>NaN</td>\n",
       "      <td>NaN</td>\n",
       "      <td>NaN</td>\n",
       "    </tr>\n",
       "    <tr>\n",
       "      <th>1874</th>\n",
       "      <td>0.0686</td>\n",
       "      <td>NaN</td>\n",
       "      <td>NaN</td>\n",
       "      <td>NaN</td>\n",
       "      <td>NaN</td>\n",
       "      <td>0.0547</td>\n",
       "      <td>NaN</td>\n",
       "      <td>NaN</td>\n",
       "      <td>NaN</td>\n",
       "      <td>NaN</td>\n",
       "      <td>NaN</td>\n",
       "      <td>NaN</td>\n",
       "    </tr>\n",
       "    <tr>\n",
       "      <th>1875</th>\n",
       "      <td>0.0496</td>\n",
       "      <td>NaN</td>\n",
       "      <td>NaN</td>\n",
       "      <td>NaN</td>\n",
       "      <td>NaN</td>\n",
       "      <td>0.0507</td>\n",
       "      <td>NaN</td>\n",
       "      <td>NaN</td>\n",
       "      <td>NaN</td>\n",
       "      <td>NaN</td>\n",
       "      <td>NaN</td>\n",
       "      <td>NaN</td>\n",
       "    </tr>\n",
       "  </tbody>\n",
       "</table>\n",
       "</div>"
      ],
      "text/plain": [
       "      1 year  GS2  GS3  GS5  GS7  10 year  GS20  GS30  M13058  M1333  \\\n",
       "Year                                                                   \n",
       "1871  0.0635  NaN  NaN  NaN  NaN   0.0532   NaN   NaN     NaN    NaN   \n",
       "1872  0.0781  NaN  NaN  NaN  NaN   0.0536   NaN   NaN     NaN    NaN   \n",
       "1873  0.0835  NaN  NaN  NaN  NaN   0.0558   NaN   NaN     NaN    NaN   \n",
       "1874  0.0686  NaN  NaN  NaN  NaN   0.0547   NaN   NaN     NaN    NaN   \n",
       "1875  0.0496  NaN  NaN  NaN  NaN   0.0507   NaN   NaN     NaN    NaN   \n",
       "\n",
       "      longinvest 20  longinvest 30  \n",
       "Year                                \n",
       "1871            NaN            NaN  \n",
       "1872            NaN            NaN  \n",
       "1873            NaN            NaN  \n",
       "1874            NaN            NaN  \n",
       "1875            NaN            NaN  "
      ]
     },
     "execution_count": 5,
     "metadata": {},
     "output_type": "execute_result"
    }
   ],
   "source": [
    "HISTORICAL_RATES = pandas.read_csv('bond_rates.csv', index_col=0)\n",
    "HISTORICAL_RATES.head()"
   ]
  },
  {
   "cell_type": "markdown",
   "metadata": {
    "deletable": true,
    "editable": true
   },
   "source": [
    "## Rate interpolation\n",
    "\n",
    "For a given year, we will have **some** rate data. At the very least we will have the 1-year and 10-year rates; the data on those go back the further thanks to Shiller.\n",
    "\n",
    "However, we may *also* have other rate data from FRED.\n",
    "\n",
    "But we need to have rate data for every year on the yield curve. That is: 1-, 2-, 3-, 4-, 5-, 6-, 7-, 9-, and 10-year rates. When we don't have the data available we will perform linear interpolation from data we *do* have to fill in the gaps.\n",
    "\n",
    "So if we only have the 1- and 10-year data then we need to do a linear interpolation for the other 8 years. If we have 1-, 3-, and 10-year data then we do linear interpolation between the 1- and 3-year data to fill in the 2-year data. And we'll do linear interpolation between the 3- and 10-year data for the rest.\n",
    "\n",
    "### Missing data & flat yield curve\n",
    "\n",
    "We can only do linear interpolation if we have two sets of data. We *always* have data for 1-year and 10-year rates, so we can fill in that part of the yield curve. But before the FRED data series of the mid-20th century we don't have any rates beyond 10 years. How do we fill that part of the rate yield curve when we don't have anything to interpolate?\n",
    "\n",
    "We don't interpolate: we just create a flat yield curve. That is, the 11-year rate is the same as the 10-year rate. And the 20-year rate is *also* the same as the 10-year rate. And the 30-year rate is **also** the same as the 10-year rate.\n",
    "\n",
    "This is obviously far from idea. So you should take with a large grain of salt any results before 1954. longinvest has [some comments on the longer terms starting approximately here][2].\n",
    "\n",
    "### Potential problems with linear interpolation\n",
    "\n",
    "This linear interpolation is not perfect: it assumes that the yield curve is linear and that may not be the case. In particular, [look at this post from Fryxell][1] where he notes that before the 1920s the yield curve may have looked very different from what it did today.\n",
    "\n",
    "Still, trying to handle that is beyond the scope of this simulation. The more historical data (like those extra FRED data points) that we have, the less of this linear interpolation we need to do. That makes our post-1954 numbers better than the earlier numbers.\n",
    "\n",
    "[1]: https://www.bogleheads.org/forum/viewtopic.php?f=10&t=179425&start=100#p2973643\n",
    "[2]: https://www.bogleheads.org/forum/viewtopic.php?f=10&t=179425&start=100#p3013350"
   ]
  },
  {
   "cell_type": "code",
   "execution_count": 6,
   "metadata": {
    "collapsed": true,
    "deletable": true,
    "editable": true
   },
   "outputs": [],
   "source": [
    "def splice_data(raw_rates, series):\n",
    "    # Start by loading the data we get from Shiller.\n",
    "    # This will always exist.\n",
    "    series.iloc[0] = raw_rates['1 year']\n",
    "    series.iloc[9] = raw_rates['10 year']\n",
    "    \n",
    "    # Try to load any FRED rates.\n",
    "    series.iloc[1] = raw_rates['GS2']\n",
    "    series.iloc[2] = raw_rates['GS3']\n",
    "    series.iloc[4] = raw_rates['GS5']\n",
    "    series.iloc[6] = raw_rates['GS7']\n",
    "    series.iloc[19] = raw_rates['GS20']\n",
    "    series.iloc[29] = raw_rates['GS30']\n",
    "    \n",
    "    def safe_add(series_index, rate_index):\n",
    "        # Don't overwrite any data we already have.\n",
    "        if math.isnan(series.iloc[series_index]):\n",
    "            series.iloc[series_index] = raw_rates[rate_index]\n",
    "\n",
    "    # These are in order of preference. This is try to use M13058 before\n",
    "    # trying to use M1333.\n",
    "    safe_add(19, 'M13058')\n",
    "    safe_add(19, 'M1333')\n",
    "    \n",
    "    # See the note below under \"Going Beyond 30 Years\" about how longinvest got these numbers\n",
    "    safe_add(19, 'longinvest 20')\n",
    "    safe_add(29, 'longinvest 30')\n",
    "\n",
    "def build_yield_curve(raw_rates, yield_curve_size=30):\n",
    "    s = pandas.Series(math.nan, index=numpy.arange(yield_curve_size))\n",
    "\n",
    "    # We use NaN to indicate \"the data needs to be interpolated\"\n",
    "    # We have a few different data series that we splice together.\n",
    "    splice_data(raw_rates, s)\n",
    "    \n",
    "    def left_number(series, index):\n",
    "        \"\"\" Find the index of first number to the left \"\"\"\n",
    "        if not math.isnan(series.iloc[index]):\n",
    "            return index\n",
    "        else:\n",
    "            return left_number(series, index-1)\n",
    "        \n",
    "    def right_number(series, index):\n",
    "        \"\"\" Find the index of the first number to the right \"\"\"\n",
    "        if not math.isnan(series.iloc[index]):\n",
    "            return index\n",
    "        else:\n",
    "            return right_number(series, index+1)\n",
    "                \n",
    "    # now fill in the gaps with linear interpolation.\n",
    "    for i in range(yield_curve_size):\n",
    "        if math.isnan(s.iloc[i]):\n",
    "            # First, try to find any existing data on the left and right.\n",
    "            # We might not find any, for instance when we look beyond 10-years\n",
    "            # before we have FRED data.\n",
    "\n",
    "            try:\n",
    "                left = left_number(s, i)\n",
    "            except IndexError:\n",
    "                left = None\n",
    "                \n",
    "            try:\n",
    "                right = right_number(s, i)\n",
    "            except IndexError:\n",
    "                right = None\n",
    "\n",
    "            if (left is None) and (right is None):\n",
    "                raise IndexError(\"Couldn't find any rate data to fill out the yield curve.\")\n",
    "\n",
    "            if left is None:\n",
    "                # If we can't find any data to the left then we can't do any linear interpolation\n",
    "                # So just fill from the right\n",
    "                s.iloc[i] = s.iloc[right]\n",
    "            elif right is None:\n",
    "                # If we can't find any data to the right then fill from the left\n",
    "                # Both of these will result in a flat yield curve, which isn't ideal\n",
    "                s.iloc[i] = s.iloc[left]\n",
    "            else:\n",
    "                # We can actually do linear interpolation\n",
    "                steps = right - left\n",
    "                rate = s.iloc[left] + ((s.iloc[right] - s.iloc[left]) * (i - left) / steps)\n",
    "                s.iloc[i] = rate\n",
    "\n",
    "    return s.tolist()"
   ]
  },
  {
   "cell_type": "code",
   "execution_count": 7,
   "metadata": {
    "collapsed": false,
    "deletable": true,
    "editable": true
   },
   "outputs": [
    {
     "data": {
      "text/plain": [
       "['6.35',\n",
       " '6.24',\n",
       " '6.12',\n",
       " '6.01',\n",
       " '5.89',\n",
       " '5.78',\n",
       " '5.66',\n",
       " '5.55',\n",
       " '5.43',\n",
       " '5.32',\n",
       " '5.32',\n",
       " '5.32',\n",
       " '5.32',\n",
       " '5.32',\n",
       " '5.32',\n",
       " '5.32',\n",
       " '5.32',\n",
       " '5.32',\n",
       " '5.32',\n",
       " '5.32',\n",
       " '5.32',\n",
       " '5.32',\n",
       " '5.32',\n",
       " '5.32',\n",
       " '5.32',\n",
       " '5.32',\n",
       " '5.32',\n",
       " '5.32',\n",
       " '5.32',\n",
       " '5.32']"
      ]
     },
     "execution_count": 7,
     "metadata": {},
     "output_type": "execute_result"
    }
   ],
   "source": [
    "['%.2f' % (s*100) for s in build_yield_curve(HISTORICAL_RATES.iloc[0])]"
   ]
  },
  {
   "cell_type": "markdown",
   "metadata": {
    "deletable": true,
    "editable": true
   },
   "source": [
    "# Putting it all together\n",
    "\n",
    "Now we have all the building blocks. We have a source of rates. We have a way to bootstrap our ladder. We have a way to see how the NAV changes over time.\n",
    "\n",
    "We only have one decision left to make -- what are the youngest & oldest maturities that we care about? Do we want a 10-2 fund? Or 10-4 fund? Or a 3-2 fund? Or how about a 7-4 fund?\n",
    "\n",
    "The maximum you can chose is 30 and the minimum is 1.\n",
    "\n",
    "Do you want a 10-2 fund, or 10-4 fund, or something else? That's actually done by the way you create the bootstrap ladder. This is how you build a 10-4 ladder."
   ]
  },
  {
   "cell_type": "code",
   "execution_count": 8,
   "metadata": {
    "collapsed": false,
    "deletable": true,
    "editable": true
   },
   "outputs": [
    {
     "data": {
      "text/plain": [
       "deque([Maturity: 4 | Yield: 5.32% | Face Value: $50.00,\n",
       "       Maturity: 5 | Yield: 5.32% | Face Value: $52.66,\n",
       "       Maturity: 6 | Yield: 5.32% | Face Value: $55.46,\n",
       "       Maturity: 7 | Yield: 5.32% | Face Value: $58.41,\n",
       "       Maturity: 8 | Yield: 5.32% | Face Value: $61.52,\n",
       "       Maturity: 9 | Yield: 5.32% | Face Value: $64.79,\n",
       "       Maturity: 10 | Yield: 5.32% | Face Value: $68.24])"
      ]
     },
     "execution_count": 8,
     "metadata": {},
     "output_type": "execute_result"
    }
   ],
   "source": [
    "bootstrap(build_yield_curve(HISTORICAL_RATES.iloc[0]), 10, 4)"
   ]
  },
  {
   "cell_type": "code",
   "execution_count": 9,
   "metadata": {
    "collapsed": false,
    "deletable": true,
    "editable": true
   },
   "outputs": [],
   "source": [
    "def loop(ladder, rates, max_maturity, start_year, end_year):\n",
    "    df = pandas.DataFrame(columns=['NAV', 'Payments', 'Change'], index=numpy.arange(start_year, end_year + 1))\n",
    "\n",
    "    for (year, current_rates) in rates:\n",
    "        (ladder, payments, nav) = iterate_fund(ladder, build_yield_curve(current_rates), max_maturity)\n",
    "        df.loc[year] = {'NAV' : nav, 'Payments' : payments}\n",
    "\n",
    "    calculate_returns(df)\n",
    "    return df\n",
    "\n",
    "def calculate_returns(df):\n",
    "    # Longinvest calculates the return based on comparison's to\n",
    "    # next year's NAV. So I'll do the same. Even though that seems\n",
    "    # weird to me. Maybe it's because the rates are based on January?\n",
    "    # Hmmm...that sounds plausible.\n",
    "    max_row = df.shape[0]\n",
    "\n",
    "    for i in range(max_row - 1):\n",
    "        next_nav = df.iloc[i+1]['NAV']\n",
    "        nav = df.iloc[i]['NAV']\n",
    "        change = (next_nav - nav) / nav\n",
    "        df.iloc[i]['Change'] = change\n",
    "    return df\n",
    "\n",
    "def simulate(max_maturity, min_maturity, rates):\n",
    "    \"\"\" This is just something to save on typing...and make clearer what the bounds on the fund are \"\"\"\n",
    "    ladder = bootstrap(build_yield_curve(rates.iloc[0]), max_maturity, min_maturity)\n",
    "    start_year = int(rates.iloc[0].name)\n",
    "    end_year = int(rates.iloc[-1].name)\n",
    "    return loop(ladder, rates.iterrows(), max_maturity, start_year, end_year)"
   ]
  },
  {
   "cell_type": "markdown",
   "metadata": {
    "deletable": true,
    "editable": true
   },
   "source": [
    "# Simulate All The Things\n",
    "\n",
    "Now we can simulate a 10-2 fund."
   ]
  },
  {
   "cell_type": "code",
   "execution_count": 10,
   "metadata": {
    "collapsed": false,
    "deletable": true,
    "editable": true
   },
   "outputs": [
    {
     "data": {
      "text/html": [
       "<div>\n",
       "<table border=\"1\" class=\"dataframe\">\n",
       "  <thead>\n",
       "    <tr style=\"text-align: right;\">\n",
       "      <th></th>\n",
       "      <th>NAV</th>\n",
       "      <th>Payments</th>\n",
       "      <th>Change</th>\n",
       "    </tr>\n",
       "  </thead>\n",
       "  <tbody>\n",
       "    <tr>\n",
       "      <th>1871</th>\n",
       "      <td>578.504</td>\n",
       "      <td>79.2358</td>\n",
       "      <td>0.026633</td>\n",
       "    </tr>\n",
       "    <tr>\n",
       "      <th>1872</th>\n",
       "      <td>593.912</td>\n",
       "      <td>82.7192</td>\n",
       "      <td>0.0367096</td>\n",
       "    </tr>\n",
       "    <tr>\n",
       "      <th>1873</th>\n",
       "      <td>615.714</td>\n",
       "      <td>86.8182</td>\n",
       "      <td>0.0821551</td>\n",
       "    </tr>\n",
       "    <tr>\n",
       "      <th>1874</th>\n",
       "      <td>666.298</td>\n",
       "      <td>92.3718</td>\n",
       "      <td>0.097946</td>\n",
       "    </tr>\n",
       "    <tr>\n",
       "      <th>1875</th>\n",
       "      <td>731.559</td>\n",
       "      <td>98.4774</td>\n",
       "      <td>0.0574012</td>\n",
       "    </tr>\n",
       "  </tbody>\n",
       "</table>\n",
       "</div>"
      ],
      "text/plain": [
       "          NAV Payments     Change\n",
       "1871  578.504  79.2358   0.026633\n",
       "1872  593.912  82.7192  0.0367096\n",
       "1873  615.714  86.8182  0.0821551\n",
       "1874  666.298  92.3718   0.097946\n",
       "1875  731.559  98.4774  0.0574012"
      ]
     },
     "execution_count": 10,
     "metadata": {},
     "output_type": "execute_result"
    }
   ],
   "source": [
    "simulate(10, 2, HISTORICAL_RATES).head()"
   ]
  },
  {
   "cell_type": "markdown",
   "metadata": {
    "deletable": true,
    "editable": true
   },
   "source": [
    "Or a 10-4 fund."
   ]
  },
  {
   "cell_type": "code",
   "execution_count": 11,
   "metadata": {
    "collapsed": false,
    "deletable": true,
    "editable": true
   },
   "outputs": [
    {
     "data": {
      "text/html": [
       "<div>\n",
       "<table border=\"1\" class=\"dataframe\">\n",
       "  <thead>\n",
       "    <tr style=\"text-align: right;\">\n",
       "      <th></th>\n",
       "      <th>NAV</th>\n",
       "      <th>Payments</th>\n",
       "      <th>Change</th>\n",
       "    </tr>\n",
       "  </thead>\n",
       "  <tbody>\n",
       "    <tr>\n",
       "      <th>1871</th>\n",
       "      <td>425.293</td>\n",
       "      <td>70.8014</td>\n",
       "      <td>0.0232979</td>\n",
       "    </tr>\n",
       "    <tr>\n",
       "      <th>1872</th>\n",
       "      <td>435.202</td>\n",
       "      <td>72.9607</td>\n",
       "      <td>0.0308817</td>\n",
       "    </tr>\n",
       "    <tr>\n",
       "      <th>1873</th>\n",
       "      <td>448.641</td>\n",
       "      <td>76.0795</td>\n",
       "      <td>0.0796149</td>\n",
       "    </tr>\n",
       "    <tr>\n",
       "      <th>1874</th>\n",
       "      <td>484.36</td>\n",
       "      <td>81.8895</td>\n",
       "      <td>0.0998552</td>\n",
       "    </tr>\n",
       "    <tr>\n",
       "      <th>1875</th>\n",
       "      <td>532.726</td>\n",
       "      <td>88.834</td>\n",
       "      <td>0.0600275</td>\n",
       "    </tr>\n",
       "  </tbody>\n",
       "</table>\n",
       "</div>"
      ],
      "text/plain": [
       "          NAV Payments     Change\n",
       "1871  425.293  70.8014  0.0232979\n",
       "1872  435.202  72.9607  0.0308817\n",
       "1873  448.641  76.0795  0.0796149\n",
       "1874   484.36  81.8895  0.0998552\n",
       "1875  532.726   88.834  0.0600275"
      ]
     },
     "execution_count": 11,
     "metadata": {},
     "output_type": "execute_result"
    }
   ],
   "source": [
    "simulate(10, 4, HISTORICAL_RATES).head()"
   ]
  },
  {
   "cell_type": "code",
   "execution_count": 12,
   "metadata": {
    "collapsed": false,
    "deletable": true,
    "editable": true
   },
   "outputs": [
    {
     "data": {
      "text/html": [
       "<div>\n",
       "<table border=\"1\" class=\"dataframe\">\n",
       "  <thead>\n",
       "    <tr style=\"text-align: right;\">\n",
       "      <th></th>\n",
       "      <th>NAV</th>\n",
       "      <th>Payments</th>\n",
       "      <th>Change</th>\n",
       "    </tr>\n",
       "  </thead>\n",
       "  <tbody>\n",
       "    <tr>\n",
       "      <th>1871</th>\n",
       "      <td>168.198</td>\n",
       "      <td>59.4006</td>\n",
       "      <td>0.0364836</td>\n",
       "    </tr>\n",
       "    <tr>\n",
       "      <th>1872</th>\n",
       "      <td>174.334</td>\n",
       "      <td>62.2434</td>\n",
       "      <td>0.0586692</td>\n",
       "    </tr>\n",
       "    <tr>\n",
       "      <th>1873</th>\n",
       "      <td>184.562</td>\n",
       "      <td>66.2677</td>\n",
       "      <td>0.0952411</td>\n",
       "    </tr>\n",
       "    <tr>\n",
       "      <th>1874</th>\n",
       "      <td>202.14</td>\n",
       "      <td>71.7686</td>\n",
       "      <td>0.0939793</td>\n",
       "    </tr>\n",
       "    <tr>\n",
       "      <th>1875</th>\n",
       "      <td>221.137</td>\n",
       "      <td>77.3144</td>\n",
       "      <td>0.0455889</td>\n",
       "    </tr>\n",
       "  </tbody>\n",
       "</table>\n",
       "</div>"
      ],
      "text/plain": [
       "          NAV Payments     Change\n",
       "1871  168.198  59.4006  0.0364836\n",
       "1872  174.334  62.2434  0.0586692\n",
       "1873  184.562  66.2677  0.0952411\n",
       "1874   202.14  71.7686  0.0939793\n",
       "1875  221.137  77.3144  0.0455889"
      ]
     },
     "execution_count": 12,
     "metadata": {},
     "output_type": "execute_result"
    }
   ],
   "source": [
    "simulate(4, 2, HISTORICAL_RATES).head()"
   ]
  },
  {
   "cell_type": "code",
   "execution_count": 13,
   "metadata": {
    "collapsed": false,
    "deletable": true,
    "editable": true
   },
   "outputs": [
    {
     "data": {
      "text/html": [
       "<div>\n",
       "<table border=\"1\" class=\"dataframe\">\n",
       "  <thead>\n",
       "    <tr style=\"text-align: right;\">\n",
       "      <th></th>\n",
       "      <th>NAV</th>\n",
       "      <th>Payments</th>\n",
       "      <th>Change</th>\n",
       "    </tr>\n",
       "  </thead>\n",
       "  <tbody>\n",
       "    <tr>\n",
       "      <th>1871</th>\n",
       "      <td>109.15</td>\n",
       "      <td>56.2008</td>\n",
       "      <td>0.041584</td>\n",
       "    </tr>\n",
       "    <tr>\n",
       "      <th>1872</th>\n",
       "      <td>113.689</td>\n",
       "      <td>58.9174</td>\n",
       "      <td>0.0631368</td>\n",
       "    </tr>\n",
       "    <tr>\n",
       "      <th>1873</th>\n",
       "      <td>120.867</td>\n",
       "      <td>62.7655</td>\n",
       "      <td>0.0938777</td>\n",
       "    </tr>\n",
       "    <tr>\n",
       "      <th>1874</th>\n",
       "      <td>132.214</td>\n",
       "      <td>68.2762</td>\n",
       "      <td>0.0893958</td>\n",
       "    </tr>\n",
       "    <tr>\n",
       "      <th>1875</th>\n",
       "      <td>144.033</td>\n",
       "      <td>73.752</td>\n",
       "      <td>0.045652</td>\n",
       "    </tr>\n",
       "  </tbody>\n",
       "</table>\n",
       "</div>"
      ],
      "text/plain": [
       "          NAV Payments     Change\n",
       "1871   109.15  56.2008   0.041584\n",
       "1872  113.689  58.9174  0.0631368\n",
       "1873  120.867  62.7655  0.0938777\n",
       "1874  132.214  68.2762  0.0893958\n",
       "1875  144.033   73.752   0.045652"
      ]
     },
     "execution_count": 13,
     "metadata": {},
     "output_type": "execute_result"
    }
   ],
   "source": [
    "simulate(3, 2, HISTORICAL_RATES).head()"
   ]
  },
  {
   "cell_type": "markdown",
   "metadata": {
    "deletable": true,
    "editable": true
   },
   "source": [
    "# Holding to maturity\n",
    "\n",
    "Our previous examples all sell prior to bond maturity.\n",
    "\n",
    "If you want to hold until maturity, then specify a minimum duration of 1."
   ]
  },
  {
   "cell_type": "code",
   "execution_count": 14,
   "metadata": {
    "collapsed": false,
    "deletable": true,
    "editable": true
   },
   "outputs": [
    {
     "data": {
      "text/html": [
       "<div>\n",
       "<table border=\"1\" class=\"dataframe\">\n",
       "  <thead>\n",
       "    <tr style=\"text-align: right;\">\n",
       "      <th></th>\n",
       "      <th>NAV</th>\n",
       "      <th>Payments</th>\n",
       "      <th>Change</th>\n",
       "    </tr>\n",
       "  </thead>\n",
       "  <tbody>\n",
       "    <tr>\n",
       "      <th>1871</th>\n",
       "      <td>661.941</td>\n",
       "      <td>83.9612</td>\n",
       "      <td>0.0295413</td>\n",
       "    </tr>\n",
       "    <tr>\n",
       "      <th>1872</th>\n",
       "      <td>681.495</td>\n",
       "      <td>88.4279</td>\n",
       "      <td>0.0399521</td>\n",
       "    </tr>\n",
       "    <tr>\n",
       "      <th>1873</th>\n",
       "      <td>708.723</td>\n",
       "      <td>93.1676</td>\n",
       "      <td>0.0821584</td>\n",
       "    </tr>\n",
       "    <tr>\n",
       "      <th>1874</th>\n",
       "      <td>766.95</td>\n",
       "      <td>98.3664</td>\n",
       "      <td>0.0956076</td>\n",
       "    </tr>\n",
       "    <tr>\n",
       "      <th>1875</th>\n",
       "      <td>840.276</td>\n",
       "      <td>103.747</td>\n",
       "      <td>0.0568201</td>\n",
       "    </tr>\n",
       "  </tbody>\n",
       "</table>\n",
       "</div>"
      ],
      "text/plain": [
       "          NAV Payments     Change\n",
       "1871  661.941  83.9612  0.0295413\n",
       "1872  681.495  88.4279  0.0399521\n",
       "1873  708.723  93.1676  0.0821584\n",
       "1874   766.95  98.3664  0.0956076\n",
       "1875  840.276  103.747  0.0568201"
      ]
     },
     "execution_count": 14,
     "metadata": {},
     "output_type": "execute_result"
    }
   ],
   "source": [
    "simulate(10, 1, HISTORICAL_RATES).head()"
   ]
  },
  {
   "cell_type": "markdown",
   "metadata": {
    "deletable": true,
    "editable": true
   },
   "source": [
    "# Only holding a single maturity\n",
    "\n",
    "If you only want to fund to hold a single maturity, specify the same number twice. This constructs fund that only holds bonds of 2-year maturity. That is, every year it sells them and buys new 2-year bonds."
   ]
  },
  {
   "cell_type": "code",
   "execution_count": 15,
   "metadata": {
    "collapsed": false,
    "deletable": true,
    "editable": true
   },
   "outputs": [
    {
     "data": {
      "text/html": [
       "<div>\n",
       "<table border=\"1\" class=\"dataframe\">\n",
       "  <thead>\n",
       "    <tr style=\"text-align: right;\">\n",
       "      <th></th>\n",
       "      <th>NAV</th>\n",
       "      <th>Payments</th>\n",
       "      <th>Change</th>\n",
       "    </tr>\n",
       "  </thead>\n",
       "  <tbody>\n",
       "    <tr>\n",
       "      <th>1871</th>\n",
       "      <td>53.064</td>\n",
       "      <td>53.064</td>\n",
       "      <td>0.0477517</td>\n",
       "    </tr>\n",
       "    <tr>\n",
       "      <th>1872</th>\n",
       "      <td>55.5979</td>\n",
       "      <td>55.5979</td>\n",
       "      <td>0.0678815</td>\n",
       "    </tr>\n",
       "    <tr>\n",
       "      <th>1873</th>\n",
       "      <td>59.3719</td>\n",
       "      <td>59.3719</td>\n",
       "      <td>0.0914855</td>\n",
       "    </tr>\n",
       "    <tr>\n",
       "      <th>1874</th>\n",
       "      <td>64.8036</td>\n",
       "      <td>64.8036</td>\n",
       "      <td>0.0836862</td>\n",
       "    </tr>\n",
       "    <tr>\n",
       "      <th>1875</th>\n",
       "      <td>70.2268</td>\n",
       "      <td>70.2268</td>\n",
       "      <td>0.0463255</td>\n",
       "    </tr>\n",
       "  </tbody>\n",
       "</table>\n",
       "</div>"
      ],
      "text/plain": [
       "          NAV Payments     Change\n",
       "1871   53.064   53.064  0.0477517\n",
       "1872  55.5979  55.5979  0.0678815\n",
       "1873  59.3719  59.3719  0.0914855\n",
       "1874  64.8036  64.8036  0.0836862\n",
       "1875  70.2268  70.2268  0.0463255"
      ]
     },
     "execution_count": 15,
     "metadata": {},
     "output_type": "execute_result"
    }
   ],
   "source": [
    "simulate(2, 2, HISTORICAL_RATES).head()"
   ]
  },
  {
   "cell_type": "markdown",
   "metadata": {
    "deletable": true,
    "editable": true
   },
   "source": [
    "# The \"naive\" approach\n",
    "\n",
    "Other bond return simulations don't hold a ladder, they just sell the bond after a single year. That is, buy a 10-year bond, sell it after 1-year and buy another 10-year bond. That's the same as holding a single maturity (above) but with a 10-year maturity."
   ]
  },
  {
   "cell_type": "code",
   "execution_count": 16,
   "metadata": {
    "collapsed": false,
    "deletable": true,
    "editable": true
   },
   "outputs": [
    {
     "data": {
      "text/html": [
       "<div>\n",
       "<table border=\"1\" class=\"dataframe\">\n",
       "  <thead>\n",
       "    <tr style=\"text-align: right;\">\n",
       "      <th></th>\n",
       "      <th>NAV</th>\n",
       "      <th>Payments</th>\n",
       "      <th>Change</th>\n",
       "    </tr>\n",
       "  </thead>\n",
       "  <tbody>\n",
       "    <tr>\n",
       "      <th>1871</th>\n",
       "      <td>52.261</td>\n",
       "      <td>52.261</td>\n",
       "      <td>0.0316195</td>\n",
       "    </tr>\n",
       "    <tr>\n",
       "      <th>1872</th>\n",
       "      <td>53.9135</td>\n",
       "      <td>53.9135</td>\n",
       "      <td>0.0175262</td>\n",
       "    </tr>\n",
       "    <tr>\n",
       "      <th>1873</th>\n",
       "      <td>54.8584</td>\n",
       "      <td>54.8584</td>\n",
       "      <td>0.052727</td>\n",
       "    </tr>\n",
       "    <tr>\n",
       "      <th>1874</th>\n",
       "      <td>57.7509</td>\n",
       "      <td>57.7509</td>\n",
       "      <td>0.0839248</td>\n",
       "    </tr>\n",
       "    <tr>\n",
       "      <th>1875</th>\n",
       "      <td>62.5976</td>\n",
       "      <td>62.5976</td>\n",
       "      <td>0.0793906</td>\n",
       "    </tr>\n",
       "  </tbody>\n",
       "</table>\n",
       "</div>"
      ],
      "text/plain": [
       "          NAV Payments     Change\n",
       "1871   52.261   52.261  0.0316195\n",
       "1872  53.9135  53.9135  0.0175262\n",
       "1873  54.8584  54.8584   0.052727\n",
       "1874  57.7509  57.7509  0.0839248\n",
       "1875  62.5976  62.5976  0.0793906"
      ]
     },
     "execution_count": 16,
     "metadata": {},
     "output_type": "execute_result"
    }
   ],
   "source": [
    "simulate(10, 10, HISTORICAL_RATES).head()"
   ]
  },
  {
   "cell_type": "markdown",
   "metadata": {
    "collapsed": true,
    "deletable": true,
    "editable": true
   },
   "source": [
    "# Going beyond 30 years\n",
    "\n",
    "Keeping in mind the caveats above about results before we have FRED data from the mid-1950s...we can also build longer term bond funds.\n",
    "\n",
    "### Warning: Extra interpolation\n",
    "\n",
    "There are a few gaps in the FRED data. In the FRED 20-year series, there is no data for 1987-1993. (They weren't issued in those years, IIRC.)\n",
    "\n",
    "In the FRED 30-year series, there is no data for 2003-2006.\n",
    "\n",
    "longinvest does a linear interpolation **across years** to fill in the missing data. **I currently do not do this, so my results differ from those in the spreadsheet.**\n",
    "\n",
    "The way it works is:\n",
    "\n",
    "There is no 20-year data for 1987. But there *is* 30-year data. longinvest looks back at 1986 and sees that the spread between 20-year and 30-year in 1986 was -0.19%. Then he looks forward to 1994 and sees that the spread then was -0.10%.  Then he assumes the spread changed linearly over the missing years 1987-1993. That is:\n",
    "* 1987: -0.178%\n",
    "* 1988: -0.167%\n",
    "* 1989: -0.156%\n",
    "* 1990: -0.145%\n",
    "* 1991: -0.133%\n",
    "* 1992: -0.122%\n",
    "* 1993: -0.111%\n",
    "\n",
    "Then he applies that calculated spread to the known 30-year rates.\n",
    "\n",
    "When the 30-year rates are missing, a similar calculation is done based on the years 2002 & 2007 and the known 20-year rates.\n",
    "\n",
    "This is captured in the CSV as two new data series \"longinvest 20\" and \"longinvest 30\"."
   ]
  },
  {
   "cell_type": "code",
   "execution_count": 17,
   "metadata": {
    "collapsed": false,
    "deletable": true,
    "editable": true
   },
   "outputs": [
    {
     "data": {
      "text/html": [
       "<div>\n",
       "<table border=\"1\" class=\"dataframe\">\n",
       "  <thead>\n",
       "    <tr style=\"text-align: right;\">\n",
       "      <th></th>\n",
       "      <th>NAV</th>\n",
       "      <th>Payments</th>\n",
       "      <th>Change</th>\n",
       "    </tr>\n",
       "  </thead>\n",
       "  <tbody>\n",
       "    <tr>\n",
       "      <th>1871</th>\n",
       "      <td>1801.32</td>\n",
       "      <td>140.99</td>\n",
       "      <td>0.0483166</td>\n",
       "    </tr>\n",
       "    <tr>\n",
       "      <th>1872</th>\n",
       "      <td>1888.35</td>\n",
       "      <td>148.33</td>\n",
       "      <td>0.0272218</td>\n",
       "    </tr>\n",
       "    <tr>\n",
       "      <th>1873</th>\n",
       "      <td>1939.76</td>\n",
       "      <td>155.358</td>\n",
       "      <td>0.0692176</td>\n",
       "    </tr>\n",
       "    <tr>\n",
       "      <th>1874</th>\n",
       "      <td>2074.02</td>\n",
       "      <td>164.448</td>\n",
       "      <td>0.105057</td>\n",
       "    </tr>\n",
       "    <tr>\n",
       "      <th>1875</th>\n",
       "      <td>2291.91</td>\n",
       "      <td>175.289</td>\n",
       "      <td>0.112922</td>\n",
       "    </tr>\n",
       "  </tbody>\n",
       "</table>\n",
       "</div>"
      ],
      "text/plain": [
       "          NAV Payments     Change\n",
       "1871  1801.32   140.99  0.0483166\n",
       "1872  1888.35   148.33  0.0272218\n",
       "1873  1939.76  155.358  0.0692176\n",
       "1874  2074.02  164.448   0.105057\n",
       "1875  2291.91  175.289   0.112922"
      ]
     },
     "execution_count": 17,
     "metadata": {},
     "output_type": "execute_result"
    }
   ],
   "source": [
    "simulate(30, 11, HISTORICAL_RATES).head()"
   ]
  },
  {
   "cell_type": "markdown",
   "metadata": {
    "deletable": true,
    "editable": true
   },
   "source": [
    "# Crazy Funds\n",
    "\n",
    "You can select any set of maturities you want, since the computer does all the heavy lifting. Want to simulate a fund that is **28-14** or **17-9**? That's easy."
   ]
  },
  {
   "cell_type": "code",
   "execution_count": 18,
   "metadata": {
    "collapsed": false,
    "deletable": true,
    "editable": true
   },
   "outputs": [
    {
     "data": {
      "text/html": [
       "<div>\n",
       "<table border=\"1\" class=\"dataframe\">\n",
       "  <thead>\n",
       "    <tr style=\"text-align: right;\">\n",
       "      <th></th>\n",
       "      <th>NAV</th>\n",
       "      <th>Payments</th>\n",
       "      <th>Change</th>\n",
       "    </tr>\n",
       "  </thead>\n",
       "  <tbody>\n",
       "    <tr>\n",
       "      <th>1871</th>\n",
       "      <td>1164.08</td>\n",
       "      <td>108.801</td>\n",
       "      <td>0.0482991</td>\n",
       "    </tr>\n",
       "    <tr>\n",
       "      <th>1872</th>\n",
       "      <td>1220.31</td>\n",
       "      <td>114.396</td>\n",
       "      <td>0.0271181</td>\n",
       "    </tr>\n",
       "    <tr>\n",
       "      <th>1873</th>\n",
       "      <td>1253.4</td>\n",
       "      <td>119.412</td>\n",
       "      <td>0.0692703</td>\n",
       "    </tr>\n",
       "    <tr>\n",
       "      <th>1874</th>\n",
       "      <td>1340.22</td>\n",
       "      <td>126.584</td>\n",
       "      <td>0.105206</td>\n",
       "    </tr>\n",
       "    <tr>\n",
       "      <th>1875</th>\n",
       "      <td>1481.22</td>\n",
       "      <td>135.747</td>\n",
       "      <td>0.113024</td>\n",
       "    </tr>\n",
       "  </tbody>\n",
       "</table>\n",
       "</div>"
      ],
      "text/plain": [
       "          NAV Payments     Change\n",
       "1871  1164.08  108.801  0.0482991\n",
       "1872  1220.31  114.396  0.0271181\n",
       "1873   1253.4  119.412  0.0692703\n",
       "1874  1340.22  126.584   0.105206\n",
       "1875  1481.22  135.747   0.113024"
      ]
     },
     "execution_count": 18,
     "metadata": {},
     "output_type": "execute_result"
    }
   ],
   "source": [
    "simulate(28, 14, HISTORICAL_RATES).head()"
   ]
  },
  {
   "cell_type": "code",
   "execution_count": 19,
   "metadata": {
    "collapsed": false,
    "deletable": true,
    "editable": true
   },
   "outputs": [
    {
     "data": {
      "text/html": [
       "<div>\n",
       "<table border=\"1\" class=\"dataframe\">\n",
       "  <thead>\n",
       "    <tr style=\"text-align: right;\">\n",
       "      <th></th>\n",
       "      <th>NAV</th>\n",
       "      <th>Payments</th>\n",
       "      <th>Change</th>\n",
       "    </tr>\n",
       "  </thead>\n",
       "  <tbody>\n",
       "    <tr>\n",
       "      <th>1871</th>\n",
       "      <td>587.224</td>\n",
       "      <td>78.9965</td>\n",
       "      <td>0.0456297</td>\n",
       "    </tr>\n",
       "    <tr>\n",
       "      <th>1872</th>\n",
       "      <td>614.019</td>\n",
       "      <td>82.0043</td>\n",
       "      <td>0.0309193</td>\n",
       "    </tr>\n",
       "    <tr>\n",
       "      <th>1873</th>\n",
       "      <td>633.004</td>\n",
       "      <td>85.3259</td>\n",
       "      <td>0.0646905</td>\n",
       "    </tr>\n",
       "    <tr>\n",
       "      <th>1874</th>\n",
       "      <td>673.953</td>\n",
       "      <td>91.4001</td>\n",
       "      <td>0.0917573</td>\n",
       "    </tr>\n",
       "    <tr>\n",
       "      <th>1875</th>\n",
       "      <td>735.794</td>\n",
       "      <td>99.1681</td>\n",
       "      <td>0.0927011</td>\n",
       "    </tr>\n",
       "  </tbody>\n",
       "</table>\n",
       "</div>"
      ],
      "text/plain": [
       "          NAV Payments     Change\n",
       "1871  587.224  78.9965  0.0456297\n",
       "1872  614.019  82.0043  0.0309193\n",
       "1873  633.004  85.3259  0.0646905\n",
       "1874  673.953  91.4001  0.0917573\n",
       "1875  735.794  99.1681  0.0927011"
      ]
     },
     "execution_count": 19,
     "metadata": {},
     "output_type": "execute_result"
    }
   ],
   "source": [
    "simulate(17, 9, HISTORICAL_RATES).head()"
   ]
  },
  {
   "cell_type": "markdown",
   "metadata": {
    "deletable": true,
    "editable": true
   },
   "source": [
    "# Saving to CSV\n",
    "To do anything useful, you probably want to save the results to a CSV file. Here's a commented-out example of how to do that."
   ]
  },
  {
   "cell_type": "code",
   "execution_count": 20,
   "metadata": {
    "collapsed": true,
    "deletable": true,
    "editable": true
   },
   "outputs": [],
   "source": [
    "#simulate(10, 5, HISTORICAL_RATES).to_csv('10-5.csv')"
   ]
  },
  {
   "cell_type": "code",
   "execution_count": 71,
   "metadata": {
    "collapsed": false,
    "deletable": true,
    "editable": true
   },
   "outputs": [],
   "source": [
    "import numpy\n",
    "from collections import deque\n",
    "import pandas\n",
    "import math\n",
    "import pandas_datareader.data as web\n",
    "import datetime\n",
    "import requests\n",
    "import requests_cache\n",
    "import xlrd\n",
    "import tempfile\n",
    "\n",
    "def get_morningstar(secid):\n",
    "    url = 'http://mschart.morningstar.com/chartweb/defaultChart?type=getcc&secids=%s&dataid=8225&startdate=1900-01-01&enddate=2016-11-18&currency=&format=1' % secid\n",
    "    expire_after = datetime.timedelta(days=3)\n",
    "    session = requests_cache.CachedSession(cache_name='data-cache', backend='sqlite', expire_after=expire_after)\n",
    "\n",
    "    # TODO: why doesn't this work!?!\n",
    "    #r = session.get(url)\n",
    "    r = requests.get(url)\n",
    "    j = r.json()\n",
    "    \n",
    "    # The Morningstar data is pretty deeply nested....\n",
    "    m = j['data']['r'][0]\n",
    "    assert m['i'] == secid\n",
    "    \n",
    "    actual_data = m['t'][0]['d']\n",
    "    # convert from strings to real data types\n",
    "    as_dict = dict([(datetime.datetime.strptime(n['i'], '%Y-%m-%d'), float(n['v'])) for n in m['t'][0]['d']])\n",
    "    \n",
    "    # Strip out data?\n",
    "    # Do we only want start of month, end of month, start of year, end of year, etc?\n",
    "    s = pandas.Series(as_dict, name=secid)\n",
    "\n",
    "    return s\n",
    "\n",
    "barclays_index = get_morningstar('XIUSA000MJ')\n",
    "\n",
    "# Use only final value for each calendar year\n",
    "def annual(series):\n",
    "    return series.groupby(by=lambda x: x.year).last()\n",
    "# Use only final value for each calendar month\n",
    "def monthly(series):\n",
    "    return series.groupby(by=lambda x: datetime.date(x.year, x.month, 1)).last()\n",
    "\n",
    "def calculate_change_prev(df, column):\n",
    "    max_row = df.shape[0]\n",
    "    \n",
    "    series = pandas.Series()\n",
    "\n",
    "    for i in range(max_row - 1):\n",
    "        val = df.iloc[i][column]\n",
    "        prev_val = df.iloc[i-1][column]\n",
    "        change = (val - prev_val) / prev_val\n",
    "        series.loc[df.iloc[i].name] = change\n",
    "    return series\n",
    "\n",
    "def calculate_change_next(df, column):\n",
    "    max_row = df.shape[0]\n",
    "    \n",
    "    series = pandas.Series()\n",
    "\n",
    "    for i in range(max_row - 1):\n",
    "        val = df.iloc[i][column]\n",
    "        next_val = df.iloc[i+1][column]\n",
    "        change = (next_val - val) / val\n",
    "        series.loc[df.iloc[i].name] = change\n",
    "    return series\n",
    "\n",
    "barclays_index = annual(barclays_index)"
   ]
  },
  {
   "cell_type": "code",
   "execution_count": 63,
   "metadata": {
    "collapsed": true,
    "deletable": true,
    "editable": true
   },
   "outputs": [],
   "source": [
    "sim_10_4 = simulate(10, 4, HISTORICAL_RATES)\n",
    "sim_10_10 = simulate(10, 10, HISTORICAL_RATES)"
   ]
  },
  {
   "cell_type": "code",
   "execution_count": 75,
   "metadata": {
    "collapsed": false,
    "deletable": true,
    "editable": true
   },
   "outputs": [
    {
     "name": "stdout",
     "output_type": "stream",
     "text": [
      "                Change  index_change\n",
      "Change        1.000000      0.925373\n",
      "index_change  0.925373      1.000000\n"
     ]
    }
   ],
   "source": [
    "joined = pandas.concat([sim_10_4, barclays_index], axis=1, join='outer')\n",
    "s_ind = calculate_change_prev(joined, 'XIUSA000MJ')\n",
    "s_nav = calculate_change_next(joined, 'NAV')\n",
    "joined = joined.assign(Change=s_nav, index_change=s_ind)\n",
    "joined.to_csv('check.csv')\n",
    "print(joined[[\"Change\", \"index_change\"]].corr())"
   ]
  },
  {
   "cell_type": "code",
   "execution_count": 74,
   "metadata": {
    "collapsed": false,
    "deletable": true,
    "editable": true
   },
   "outputs": [
    {
     "name": "stdout",
     "output_type": "stream",
     "text": [
      "                Change  index_change\n",
      "Change        1.000000      0.874314\n",
      "index_change  0.874314      1.000000\n"
     ]
    }
   ],
   "source": [
    "joined = pandas.concat([sim_10_10, barclays_index], axis=1, join='outer')\n",
    "s_ind = calculate_change_prev(joined, 'XIUSA000MJ')\n",
    "s_nav = calculate_change_next(joined, 'NAV')\n",
    "joined = joined.assign(Change=s_nav, index_change=s_ind)\n",
    "print(joined[[\"Change\", \"index_change\"]].corr())"
   ]
  },
  {
   "cell_type": "code",
   "execution_count": null,
   "metadata": {
    "collapsed": true,
    "deletable": true,
    "editable": true
   },
   "outputs": [],
   "source": []
  }
 ],
 "metadata": {
  "anaconda-cloud": {},
  "kernelspec": {
   "display_name": "Python 3",
   "language": "python",
   "name": "python3"
  },
  "language_info": {
   "codemirror_mode": {
    "name": "ipython",
    "version": 3
   },
   "file_extension": ".py",
   "mimetype": "text/x-python",
   "name": "python",
   "nbconvert_exporter": "python",
   "pygments_lexer": "ipython3",
   "version": "3.5.3"
  }
 },
 "nbformat": 4,
 "nbformat_minor": 0
}
