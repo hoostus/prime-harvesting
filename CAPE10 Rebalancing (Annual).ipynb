{
 "cells": [
  {
   "cell_type": "code",
   "execution_count": 1,
   "metadata": {
    "collapsed": false
   },
   "outputs": [],
   "source": [
    "import market\n",
    "import pandas\n",
    "from withdrawal import ConstantDollar, VPW\n",
    "from harvesting import make_rebalancer\n",
    "from portfolio import Portfolio\n",
    "import metrics"
   ]
  },
  {
   "cell_type": "code",
   "execution_count": 2,
   "metadata": {
    "collapsed": false
   },
   "outputs": [],
   "source": [
    "class CAPE10:\n",
    "    def __init__(self):\n",
    "        self.data = pandas.read_csv('cape10.csv')\n",
    "        \n",
    "    def to_row(self, year):\n",
    "        first_year = self.data.iloc[0]['Year']\n",
    "        row = year - first_year\n",
    "        assert row >= 0, \"Minimum year is %s\" % first_year\n",
    "        return int(row)\n",
    "\n",
    "    def cape10(self, year):\n",
    "        return self.data.iloc[self.to_row(year)]['CAPE10']\n",
    "    def mean(self, year):\n",
    "        return self.data.iloc[self.to_row(year)]['Mean']\n",
    "        #return 16.7 # mean\n",
    "    def median(self, year):\n",
    "        return self.data.iloc[self.to_row(year)]['Median']\n",
    "        #return 16.05 # median"
   ]
  },
  {
   "cell_type": "code",
   "execution_count": 3,
   "metadata": {
    "collapsed": true
   },
   "outputs": [],
   "source": [
    "class CAPEHarvest:\n",
    "    def __init__(self, cape, portfolio):\n",
    "        self.cape = cape\n",
    "        self.portfolio = portfolio\n",
    "\n",
    "    def set_current_year(self, year):\n",
    "        self.year = year\n",
    "        \n",
    "    def harvest(self):\n",
    "        amount = yield\n",
    "        while True:\n",
    "            if cape.cape10(self.year) <= cape.median(self.year):\n",
    "                first_chunk = min(self.portfolio.bonds, amount)\n",
    "                self.portfolio.sell_bonds(first_chunk)\n",
    "                self.portfolio.sell_stocks(amount - first_chunk)\n",
    "            else:\n",
    "                first_chunk = min(self.portfolio.stocks, amount)\n",
    "                self.portfolio.sell_stocks(first_chunk)\n",
    "                self.portfolio.sell_bonds(amount - first_chunk)\n",
    "            amount = yield self.portfolio.empty_cash()          "
   ]
  },
  {
   "cell_type": "code",
   "execution_count": 5,
   "metadata": {
    "collapsed": false
   },
   "outputs": [
    {
     "name": "stdout",
     "output_type": "stream",
     "text": [
      "Failed 1964\n",
      "Failed 1965\n",
      "Runs 105\n",
      "$1,402,414\n",
      "0.252710326319\n",
      "$40,000\n"
     ]
    }
   ],
   "source": [
    "market_data = market.Returns_US_1871()\n",
    "cape = CAPE10()\n",
    "\n",
    "def simulate(series, year):\n",
    "    portfolio = Portfolio(500000, 500000)\n",
    "    \n",
    "    years = 30\n",
    "\n",
    "#    strategy = make_rebalancer(0.75)(portfolio).harvest()\n",
    "    cape_strategy = CAPEHarvest(cape, portfolio)\n",
    "    strategy = cape_strategy.harvest()\n",
    "    cape_strategy.set_current_year(year)\n",
    "    strategy.send(None)\n",
    "    withdrawal_strategy = ConstantDollar(portfolio, strategy).withdrawals()\n",
    "    annual = []\n",
    "\n",
    "    # Withdrawals happen at the start of the year, so the first time\n",
    "    # we don't have any performance data to send them....\n",
    "    data = withdrawal_strategy.send(None)\n",
    "    annual.append(data)\n",
    "    year += 1\n",
    "\n",
    "    for _, d in zip(range(years), series.iter_from(year)):\n",
    "        cape_strategy.set_current_year(year)\n",
    "        data = withdrawal_strategy.send(d)\n",
    "        annual.append(data)\n",
    "        year += 1\n",
    "    return annual\n",
    "\n",
    "pv = []\n",
    "bonds = []\n",
    "wd = []\n",
    "count = 0\n",
    "for i in range(1881, 1986):\n",
    "    try:\n",
    "        count += 1\n",
    "        r = simulate(market_data, i)\n",
    "        wd = wd + [n.withdraw_r for n in r]\n",
    "        bonds.append(metrics.average([n.portfolio_bonds/n.portfolio_n for n in r]))\n",
    "        pv.append(r[-1].portfolio_r)\n",
    "    except:\n",
    "        print('Failed', i)\n",
    "\n",
    "print('Runs', count)\n",
    "print(\"${:,}\".format(int(metrics.median(pv))))\n",
    "print(metrics.average(bonds))\n",
    "print(\"${:,}\".format(int(metrics.cew(wd))))"
   ]
  },
  {
   "cell_type": "code",
   "execution_count": null,
   "metadata": {
    "collapsed": true
   },
   "outputs": [],
   "source": []
  }
 ],
 "metadata": {
  "anaconda-cloud": {},
  "kernelspec": {
   "display_name": "Python 3",
   "language": "python",
   "name": "python3"
  },
  "language_info": {
   "codemirror_mode": {
    "name": "ipython",
    "version": 3
   },
   "file_extension": ".py",
   "mimetype": "text/x-python",
   "name": "python",
   "nbconvert_exporter": "python",
   "pygments_lexer": "ipython3",
   "version": "3.5.1"
  }
 },
 "nbformat": 4,
 "nbformat_minor": 0
}
