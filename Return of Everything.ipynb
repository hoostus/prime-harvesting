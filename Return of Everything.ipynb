{
 "cells": [
  {
   "cell_type": "code",
   "execution_count": 2,
   "metadata": {},
   "outputs": [],
   "source": [
    "import market\n",
    "import pandas\n",
    "from scipy.stats.mstats import gmean\n",
    "from operator import itemgetter"
   ]
  },
  {
   "cell_type": "code",
   "execution_count": 9,
   "metadata": {},
   "outputs": [],
   "source": [
    "a = {}\n",
    "for country in market.JST.Countries:\n",
    "    if country != 'JPN': continue\n",
    "    m = market.JST(country)\n",
    "    tr = m.data[(m.data['year'] >= 1987) & (m.data['year'] <= 2000)]\n",
    "    tr = ((1 + tr['eq_tr']) / (1 + tr['cpi'])) - 1\n",
    "    r = gmean([1+e for e in tr]) - 1\n",
    "    a[country] = r"
   ]
  },
  {
   "cell_type": "code",
   "execution_count": 10,
   "metadata": {},
   "outputs": [
    {
     "name": "stdout",
     "output_type": "stream",
     "text": [
      "JPN 0.007930412314531843\n"
     ]
    }
   ],
   "source": [
    "for k, v in sorted(a.items(), key=itemgetter(1)):\n",
    "    print(k,v)"
   ]
  },
  {
   "cell_type": "code",
   "execution_count": 11,
   "metadata": {},
   "outputs": [],
   "source": [
    "deu = market.JST('JPN')"
   ]
  },
  {
   "cell_type": "code",
   "execution_count": 12,
   "metadata": {},
   "outputs": [
    {
     "data": {
      "text/html": [
       "<div>\n",
       "<style scoped>\n",
       "    .dataframe tbody tr th:only-of-type {\n",
       "        vertical-align: middle;\n",
       "    }\n",
       "\n",
       "    .dataframe tbody tr th {\n",
       "        vertical-align: top;\n",
       "    }\n",
       "\n",
       "    .dataframe thead th {\n",
       "        text-align: right;\n",
       "    }\n",
       "</style>\n",
       "<table border=\"1\" class=\"dataframe\">\n",
       "  <thead>\n",
       "    <tr style=\"text-align: right;\">\n",
       "      <th></th>\n",
       "      <th>year</th>\n",
       "      <th>iso</th>\n",
       "      <th>eq_tr</th>\n",
       "      <th>bond_tr</th>\n",
       "      <th>cpi</th>\n",
       "    </tr>\n",
       "  </thead>\n",
       "  <tbody>\n",
       "    <tr>\n",
       "      <th>1255</th>\n",
       "      <td>1949</td>\n",
       "      <td>JPN</td>\n",
       "      <td>1.130685</td>\n",
       "      <td>0.055200</td>\n",
       "      <td>0.318874</td>\n",
       "    </tr>\n",
       "    <tr>\n",
       "      <th>1222</th>\n",
       "      <td>1916</td>\n",
       "      <td>JPN</td>\n",
       "      <td>0.955091</td>\n",
       "      <td>0.052729</td>\n",
       "      <td>0.080376</td>\n",
       "    </tr>\n",
       "    <tr>\n",
       "      <th>1192</th>\n",
       "      <td>1886</td>\n",
       "      <td>JPN</td>\n",
       "      <td>0.945161</td>\n",
       "      <td>0.182888</td>\n",
       "      <td>-0.118136</td>\n",
       "    </tr>\n",
       "    <tr>\n",
       "      <th>1212</th>\n",
       "      <td>1906</td>\n",
       "      <td>JPN</td>\n",
       "      <td>0.860787</td>\n",
       "      <td>0.065172</td>\n",
       "      <td>0.019716</td>\n",
       "    </tr>\n",
       "    <tr>\n",
       "      <th>1258</th>\n",
       "      <td>1952</td>\n",
       "      <td>JPN</td>\n",
       "      <td>0.810193</td>\n",
       "      <td>0.055000</td>\n",
       "      <td>0.049895</td>\n",
       "    </tr>\n",
       "  </tbody>\n",
       "</table>\n",
       "</div>"
      ],
      "text/plain": [
       "      year  iso     eq_tr   bond_tr       cpi\n",
       "1255  1949  JPN  1.130685  0.055200  0.318874\n",
       "1222  1916  JPN  0.955091  0.052729  0.080376\n",
       "1192  1886  JPN  0.945161  0.182888 -0.118136\n",
       "1212  1906  JPN  0.860787  0.065172  0.019716\n",
       "1258  1952  JPN  0.810193  0.055000  0.049895"
      ]
     },
     "execution_count": 12,
     "metadata": {},
     "output_type": "execute_result"
    }
   ],
   "source": [
    "deu.data.sort_values(by='eq_tr', ascending=False).head()"
   ]
  },
  {
   "cell_type": "code",
   "execution_count": 34,
   "metadata": {},
   "outputs": [
    {
     "data": {
      "text/plain": [
       "year             1926\n",
       "iso               DEU\n",
       "eq_tr          1.3776\n",
       "bond_tr     0.0482683\n",
       "cpi        0.00714286\n",
       "Name: 938, dtype: object"
      ]
     },
     "execution_count": 34,
     "metadata": {},
     "output_type": "execute_result"
    }
   ],
   "source": [
    "deu.data[]"
   ]
  },
  {
   "cell_type": "code",
   "execution_count": null,
   "metadata": {},
   "outputs": [],
   "source": [
    "a = {}\n",
    "for country in market.JST.Countries:\n",
    "    if country != 'JPN': continue\n",
    "    m = market.JST(country)\n",
    "    tr = m.data[(m.data['year'] >= 1987) & (m.data['year'] <= 2000)]\n",
    "    tr = ((1 + tr['eq_tr']) / (1 + tr['cpi'])) - 1\n",
    "    r = gmean([1+e for e in tr]) - 1\n",
    "    a[country] = r"
   ]
  }
 ],
 "metadata": {
  "kernelspec": {
   "display_name": "Python 3",
   "language": "python",
   "name": "python3"
  },
  "language_info": {
   "codemirror_mode": {
    "name": "ipython",
    "version": 3
   },
   "file_extension": ".py",
   "mimetype": "text/x-python",
   "name": "python",
   "nbconvert_exporter": "python",
   "pygments_lexer": "ipython3",
   "version": "3.6.7"
  }
 },
 "nbformat": 4,
 "nbformat_minor": 2
}
