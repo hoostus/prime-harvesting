{
 "cells": [
  {
   "cell_type": "code",
   "execution_count": null,
   "metadata": {},
   "outputs": [],
   "source": [
    "%matplotlib inline\n",
    "from pprint import pprint\n",
    "from matplotlib import pyplot as plt\n",
    "import itertools\n",
    "import pandas\n",
    "import seaborn\n",
    "import numpy\n",
    "\n",
    "import market\n",
    "import simulate\n",
    "import harvesting\n",
    "import withdrawal\n",
    "import metrics\n",
    "import montecarlo\n",
    "import mortality\n",
    "import lens"
   ]
  },
  {
   "cell_type": "code",
   "execution_count": null,
   "metadata": {},
   "outputs": [],
   "source": [
    "seaborn.set(style=\"whitegrid\")\n",
    "seaborn.set_context('poster')"
   ]
  },
  {
   "cell_type": "code",
   "execution_count": null,
   "metadata": {},
   "outputs": [],
   "source": [
    "Market = market.Returns_US_1871()"
   ]
  },
  {
   "cell_type": "code",
   "execution_count": null,
   "metadata": {},
   "outputs": [],
   "source": [
    "def get_rq(stock_pct, age, withdrawal_pct):\n",
    "    # I can't figure out how to to joint life expectancy so I'll\n",
    "    # just use female life expectancy for now :/\n",
    "    life_expectancy = mortality.life_expectancy(None, age)\n",
    "    mean = montecarlo.simba_mean[stock_pct]\n",
    "    stddev = montecarlo.simba_stddev[stock_pct]\n",
    "    \n",
    "    return metrics.probability_of_ruin(mean, stddev, life_expectancy, float(withdrawal_pct))"
   ]
  },
  {
   "cell_type": "code",
   "execution_count": null,
   "metadata": {},
   "outputs": [],
   "source": [
    "df = pandas.DataFrame(index=numpy.arange(1,26))\n",
    "for year in range(1871, 2019 - 30 + 1):\n",
    "    s = simulate.withdrawals(Market.iter_from(year), years=25, harvesting=harvesting.N_60_RebalanceHarvesting, withdraw=withdrawal.Guyton)\n",
    "    r_series = []\n",
    "    for (i, age) in zip(s, itertools.count(start=65)):\n",
    "        r = get_rq(60, age, i.withdraw_n/i.portfolio_pre.value_n)\n",
    "        r_series.append(r)\n",
    "    df[year] = r_series\n",
    "df.head()"
   ]
  },
  {
   "cell_type": "code",
   "execution_count": null,
   "metadata": {},
   "outputs": [],
   "source": [
    "plt.figure(figsize=(11,9))\n",
    "df.max().plot()"
   ]
  },
  {
   "cell_type": "code",
   "execution_count": null,
   "metadata": {},
   "outputs": [],
   "source": [
    "plt.figure(figsize=(11,9))\n",
    "df[1929].plot()"
   ]
  },
  {
   "cell_type": "code",
   "execution_count": null,
   "metadata": {},
   "outputs": [],
   "source": [
    "mw = simulate.calc_lens(harvesting.N_60_RebalanceHarvesting,\n",
    "                   withdrawal.Guyton,\n",
    "                   25,\n",
    "                   lambda s: max([float(x.withdraw_pct_cur) for x in s])\n",
    "                  )"
   ]
  },
  {
   "cell_type": "code",
   "execution_count": null,
   "metadata": {},
   "outputs": [],
   "source": [
    "s = simulate.withdrawals(Market.iter_from(1929), harvesting=harvesting.N_60_RebalanceHarvesting,\n",
    "                     withdraw=withdrawal.VPW,\n",
    "                    years=20)\n",
    "plt.figure(figsize=(11,9))\n",
    "pandas.Series([float(n.withdraw_pct_cur) * 100 for n in s], index=range(1929, 1929+20)).plot()"
   ]
  },
  {
   "cell_type": "code",
   "execution_count": null,
   "metadata": {},
   "outputs": [],
   "source": [
    "s = simulate.withdrawals(Market.iter_from(1969), harvesting=harvesting.N_60_RebalanceHarvesting,\n",
    "                     withdraw=withdrawal.Guyton)\n",
    "plt.figure(figsize=(11,9))\n",
    "pandas.Series([float(n.withdraw_pct_cur) * 100 for n in s], index=range(1929, 1929+40)).plot()"
   ]
  },
  {
   "cell_type": "code",
   "execution_count": null,
   "metadata": {},
   "outputs": [],
   "source": [
    "s = simulate.withdrawals(Market.iter_from(1971), harvesting=harvesting.N_60_RebalanceHarvesting,\n",
    "                     withdraw=withdrawal.ConstantDollar, years=30)\n",
    "lens.calc_shortfall_years(s)"
   ]
  },
  {
   "cell_type": "code",
   "execution_count": null,
   "metadata": {},
   "outputs": [],
   "source": [
    "plt.figure(figsize=(11,9))\n",
    "pandas.Series([float(n.portfolio_pre.value_r) for n in s], index=range(1969, 1969+30)).plot()"
   ]
  },
  {
   "cell_type": "code",
   "execution_count": null,
   "metadata": {},
   "outputs": [],
   "source": [
    "s = simulate.calc_lens(harvesting.N_60_RebalanceHarvesting, withdrawal.ConstantDollar, 30, lens.calc_pwa0)"
   ]
  },
  {
   "cell_type": "code",
   "execution_count": null,
   "metadata": {},
   "outputs": [],
   "source": [
    "s"
   ]
  },
  {
   "cell_type": "code",
   "execution_count": null,
   "metadata": {},
   "outputs": [],
   "source": []
  }
 ],
 "metadata": {
  "kernelspec": {
   "display_name": "Python 3",
   "language": "python",
   "name": "python3"
  },
  "language_info": {
   "codemirror_mode": {
    "name": "ipython",
    "version": 3
   },
   "file_extension": ".py",
   "mimetype": "text/x-python",
   "name": "python",
   "nbconvert_exporter": "python",
   "pygments_lexer": "ipython3"
  }
 },
 "nbformat": 4,
 "nbformat_minor": 4
}
