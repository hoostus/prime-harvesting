{
 "cells": [
  {
   "cell_type": "code",
   "execution_count": null,
   "metadata": {},
   "outputs": [],
   "source": [
    "%matplotlib inline\n",
    "%precision 3\n",
    "\n",
    "import montecarlo\n",
    "import plot\n",
    "import metrics\n",
    "from decimal import Decimal\n",
    "import simulate\n",
    "import pandas\n",
    "import numpy\n",
    "from pprint import pprint\n",
    "import metrics\n",
    "import withdrawal\n",
    "import harvesting\n",
    "import mortality"
   ]
  },
  {
   "cell_type": "code",
   "execution_count": null,
   "metadata": {},
   "outputs": [],
   "source": [
    "r = simulate.withdrawals(montecarlo.LowYieldsAutoRegression(), years=30, withdraw=withdrawal.VPW)\n",
    "plot.plot([n.withdraw_r for n in r], title='Withdrawals')\n",
    "plot.plot([n.portfolio_post.value_r for n in r], title='Portfolio')\n",
    "#plot.plot([n.returns for n in r], title='Returns', add_commas=False, zero_based=False)"
   ]
  },
  {
   "cell_type": "code",
   "execution_count": null,
   "metadata": {},
   "outputs": [],
   "source": [
    "#pprint(['%.2f' % float(n.returns) for n in r[1:]])"
   ]
  },
  {
   "cell_type": "code",
   "execution_count": null,
   "metadata": {},
   "outputs": [],
   "source": [
    "def harness(iters, sim):\n",
    "    successes = 0\n",
    "    incomes = pandas.Series(iters)\n",
    "    for i in range(iters):\n",
    "        sim_results = sim()\n",
    "        incomes.loc[i] = float(metrics.cew([(n.withdraw_pct_orig * 100) + Decimal('.01') for n in sim_results]))\n",
    "        if sim_results[-1].portfolio_pre.value_n > 0:\n",
    "            successes += 1\n",
    "    return (successes/iters, incomes)\n",
    "\n",
    "def p_q(incomes):\n",
    "    print('90th percentile income', incomes.quantile(.9))\n",
    "    print('50th percentile income', incomes.quantile(.5))\n",
    "    print('10th percentile income', incomes.quantile(.1))\n",
    "    print('5th percentile income', incomes.quantile(.05))\n",
    "    print('1st percentile income', incomes.quantile(.01))   "
   ]
  },
  {
   "cell_type": "code",
   "execution_count": null,
   "metadata": {},
   "outputs": [],
   "source": [
    "iters = 50\n",
    "EM = harness(iters, lambda: simulate.withdrawals(montecarlo.LowYieldsHighValuations(), years=30))\n",
    "VPW = harness(iters, lambda: simulate.withdrawals(montecarlo.LowYieldsHighValuations(),harvesting=harvesting.N_60_RebalanceHarvesting, withdraw=withdrawal.VPW, years=30))\n",
    "#ECM = harness(iters, lambda: simulate.withdrawals(montecarlo.LowYieldsAutoRegression(), withdraw=withdrawal.ECM, years=30))\n",
    "VG = harness(iters, lambda: simulate.withdrawals(montecarlo.LowYieldsHighValuations(), withdraw=withdrawal.Vanguard, years=30))"
   ]
  },
  {
   "cell_type": "code",
   "execution_count": null,
   "metadata": {},
   "outputs": [],
   "source": [
    "for i in (EM, VG, VPW):\n",
    "    print('Success rate', i[0])\n",
    "    p_q(i[1])\n",
    "    print()"
   ]
  },
  {
   "cell_type": "code",
   "execution_count": null,
   "metadata": {},
   "outputs": [],
   "source": [
    "def run_one(years, stock_pct, a=None):\n",
    "    bond_pct = (1 - stock_pct)\n",
    "    \n",
    "    if not a:\n",
    "        a = montecarlo.LowYieldsAutoRegression(initial_yield=.02697)\n",
    "    \n",
    "    returns = []\n",
    "    \n",
    "    for i, j in zip(range(years+1), a):\n",
    "        stocks = float(j.stocks - j.inflation)\n",
    "        bonds = float(j.bonds - j.inflation)\n",
    "        total_return = (stocks * stock_pct) + (bonds * bond_pct)\n",
    "        returns.append(total_return)\n",
    "    return returns"
   ]
  },
  {
   "cell_type": "code",
   "execution_count": null,
   "metadata": {},
   "outputs": [],
   "source": [
    "a = montecarlo.LowYieldsAutoRegression(initial_yield=.025, logging=True)\n",
    "run_one(30, .6, a=a)\n",
    "print('inflation', a.log['inflation'].mean())\n",
    "print('stocks', a.log['stocks'].mean())\n",
    "print('bonds', a.log['bonds'].mean())\n",
    "print('-' * 65)\n",
    "print(a.log)"
   ]
  },
  {
   "cell_type": "code",
   "execution_count": null,
   "metadata": {},
   "outputs": [],
   "source": [
    "iters = 5000\n",
    "\n",
    "s = pandas.Series(iters)\n",
    "\n",
    "for i in range(iters):\n",
    "    years = 30\n",
    "    stock_pct = .6\n",
    "    ssr = metrics.ssr([Decimal(n) for n in run_one(years, stock_pct)])\n",
    "    s[i] = float(ssr)"
   ]
  },
  {
   "cell_type": "code",
   "execution_count": null,
   "metadata": {},
   "outputs": [],
   "source": [
    "s.median()\n",
    "s.quantile(.05)"
   ]
  },
  {
   "cell_type": "code",
   "execution_count": null,
   "metadata": {},
   "outputs": [],
   "source": [
    "rates = pandas.Series(100)\n",
    "for i in range(0, 100):\n",
    "    q = s.quantile((100-i)/100)\n",
    "    rates[i] = q * 100\n",
    "rates.plot()"
   ]
  },
  {
   "cell_type": "code",
   "execution_count": null,
   "metadata": {},
   "outputs": [],
   "source": [
    "survival_fn = mortality.make_mortality(mortality.NVSS_2011)\n",
    "iters = 1000\n",
    "successes = 0\n",
    "for i in range(iters):\n",
    "    lifespan = mortality.gen_lifespan(mortality.DEFAULT_COUPLE, survival_fn=survival_fn)\n",
    "    sim_results = simulate.withdrawals(montecarlo.LowYieldsAutoRegression(),\n",
    "                         harvesting=harvesting.make_rebalancer(.6),\n",
    "                         withdraw=withdrawal.ConstantDollar,\n",
    "                         years=lifespan)\n",
    "    if sim_results[-1].portfolio_post.value_n > 0:\n",
    "        successes += 1\n",
    "print(successes/iters)"
   ]
  },
  {
   "cell_type": "code",
   "execution_count": null,
   "metadata": {},
   "outputs": [],
   "source": [
    "survival_fn = mortality.make_mortality(mortality.NVSS_2011)\n",
    "iters = 1000\n",
    "successes = 0\n",
    "failures = 0\n",
    "years_to_failure = []\n",
    "portfolio_at_10 = []\n",
    "for i in range(iters):\n",
    "    lifespan = mortality.gen_lifespan(mortality.DEFAULT_COUPLE, survival_fn=survival_fn)\n",
    "    sim_results = simulate.withdrawals(montecarlo.LowYieldsAutoRegression(),\n",
    "                         harvesting=harvesting.make_rebalancer(1),\n",
    "                         withdraw=lambda p,h: withdrawal.ConstantDollar(p, h, rate=Decimal('.04')),\n",
    "                         years=lifespan)\n",
    "\n",
    "    # only count iterations where the initial 5 year return was at\n",
    "    # least equal to what we've experienced.\n",
    "    cumulative = pandas.Series([x.returns + 1 for x in sim_results[1:6]])\n",
    "    if numpy.prod(cumulative) - 1 < 1.03660168511777: continue\n",
    "\n",
    "    if sim_results[-1].portfolio_post.value_n > 0:\n",
    "        successes += 1\n",
    "    else:\n",
    "        failures += 1\n",
    "        years_to_failure.append(len(list(filter(lambda x: x.portfolio_r > 0, sim_results))))\n",
    "        portfolio_at_10.append(sim_results[9].portfolio_r)\n",
    "print(successes/(successes + failures))"
   ]
  },
  {
   "cell_type": "code",
   "execution_count": null,
   "metadata": {},
   "outputs": [],
   "source": [
    "fail = pandas.Series(years_to_failure)\n",
    "len(fail[fail < 20])"
   ]
  },
  {
   "cell_type": "code",
   "execution_count": null,
   "metadata": {},
   "outputs": [],
   "source": [
    "p = pandas.Series(portfolio_at_10)"
   ]
  },
  {
   "cell_type": "code",
   "execution_count": null,
   "metadata": {},
   "outputs": [],
   "source": [
    "p"
   ]
  },
  {
   "cell_type": "code",
   "execution_count": null,
   "metadata": {},
   "outputs": [],
   "source": [
    "import numpy\n",
    "import scipy.stats\n",
    "\n",
    "iters = 5000\n",
    "df = pandas.DataFrame(columns=numpy.arange(iters))\n",
    "\n",
    "for i in range(iters):\n",
    "    engine = montecarlo.LowYieldsAutoRegression()\n",
    "    \n",
    "    returns = []\n",
    "    for j in range(5):\n",
    "        returns.append(float(engine.random_year().stocks) + 1)\n",
    "    series = pandas.Series(returns)\n",
    "    \n",
    "    df[i] = series\n",
    "\n",
    "cumulative_returns = df.apply(lambda x: numpy.prod(x) - 1)\n",
    "\n",
    "scipy.stats.percentileofscore(cumulative_returns, 1.03660168511777) # returns from 2011 - 2017 (inclusive)"
   ]
  },
  {
   "cell_type": "code",
   "execution_count": null,
   "metadata": {},
   "outputs": [],
   "source": [
    "cumulative_returns.quantile(0.5)"
   ]
  },
  {
   "cell_type": "code",
   "execution_count": null,
   "metadata": {},
   "outputs": [],
   "source": []
  }
 ],
 "metadata": {
  "anaconda-cloud": {},
  "kernelspec": {
   "display_name": "Python 3",
   "language": "python",
   "name": "python3"
  },
  "language_info": {
   "codemirror_mode": {
    "name": "ipython",
    "version": 3
   },
   "file_extension": ".py",
   "mimetype": "text/x-python",
   "name": "python",
   "nbconvert_exporter": "python",
   "pygments_lexer": "ipython3"
  }
 },
 "nbformat": 4,
 "nbformat_minor": 4
}
