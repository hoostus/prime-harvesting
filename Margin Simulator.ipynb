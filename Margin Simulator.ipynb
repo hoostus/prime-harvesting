{
 "cells": [
  {
   "cell_type": "code",
   "execution_count": 1,
   "metadata": {},
   "outputs": [],
   "source": [
    "import pandas\n",
    "from decimal import Decimal\n",
    "from datetime import datetime\n",
    "from dateutil import relativedelta\n",
    "from collections import namedtuple\n",
    "import operator\n",
    "import functools\n",
    "import metrics"
   ]
  },
  {
   "cell_type": "code",
   "execution_count": 2,
   "metadata": {},
   "outputs": [],
   "source": [
    "def fmt_money(number):\n",
    "    return \"${:,.0f}\".format(number)"
   ]
  },
  {
   "cell_type": "code",
   "execution_count": 3,
   "metadata": {},
   "outputs": [],
   "source": [
    "Monthly = namedtuple('Monthly', ['date', 'stocks', 'dividend', 'inflation', 'margin_rate'])"
   ]
  },
  {
   "cell_type": "code",
   "execution_count": 4,
   "metadata": {},
   "outputs": [],
   "source": [
    "class Rate:\n",
    "    def __init__(self, initial_value):\n",
    "        self.value = initial_value\n",
    "        \n",
    "    def next(self, new_value):\n",
    "        delta = (new_value / self.value) - 1\n",
    "        self.value = new_value\n",
    "        return delta\n",
    "    \n",
    "class Margin_Rates:\n",
    "    def __init__(self, add=0.015):\n",
    "        self.data = pandas.read_csv('FEDFUNDS.csv', index_col=0, parse_dates=True)\n",
    "        self.add = add\n",
    "    \n",
    "    def get_margin(self, date):\n",
    "        row = self.data.loc[date]\n",
    "        rate = row['FEDFUNDS']\n",
    "        rate /= 100\n",
    "        rate += self.add\n",
    "        return rate\n",
    "\n",
    "class US_1871_Monthly:\n",
    "    def __init__(self):\n",
    "        self.data = pandas.read_csv('US_1871_Monthly.csv', index_col=0, parse_dates=True)\n",
    "        self.margin_rates = Margin_Rates()\n",
    "        \n",
    "    def iter_from(self, year, month, length=None):\n",
    "        self.stocks_price = Rate(0.0)\n",
    "        self.inflation = Rate(0.0)\n",
    "\n",
    "        count = 0\n",
    "        d = datetime(year, month, 1)\n",
    "        for row in self.data.loc[d:].iterrows():\n",
    "            yield self.fmt(row[1])\n",
    "            count += 1\n",
    "            if length and count >= length:\n",
    "                raise StopIteration\n",
    "\n",
    "    def fmt(self, row):\n",
    "        inflation = self.inflation.next(row['CPI'])\n",
    "        stocks = self.stocks_price.next(row['S&P 500 Price'])\n",
    "        dividend = (row['S&P 500 Dividend'] / row['S&P 500 Price']) / 12\n",
    "        date = row.name\n",
    "        margin = self.margin_rates.get_margin(date)\n",
    "        return Monthly(date=date, stocks=stocks, dividend=dividend, inflation=inflation, margin_rate=margin)"
   ]
  },
  {
   "cell_type": "code",
   "execution_count": 5,
   "metadata": {},
   "outputs": [],
   "source": [
    "class Simulation:\n",
    "    def __init__(self, year, month, length=30):\n",
    "        self.returns = US_1871_Monthly()\n",
    "\n",
    "        # we need to start at the previous month so that \"change since last month\"\n",
    "        # numbers are calculated correctly. That also means the simulation needs to\n",
    "        # run for one extra month\n",
    "        start = (year * 12) + month - 1\n",
    "        previous_month = start - 1\n",
    "        (prev_year, prev_month) = (int(previous_month / 12), (previous_month % 12)+1)\n",
    "        r = self.returns.iter_from(prev_year, prev_month, length=(length*12)+1)\n",
    "        next(r)\n",
    "        \n",
    "        self.data = r\n",
    "        \n",
    "        self.portfolio = 1000000\n",
    "        self.withdrawal = self.portfolio / 25 / 12 # 4% rule\n",
    "        self.real_starting_portfolio = self.portfolio\n",
    "        self.withdraw_margin = False\n",
    "        self.debt = 0\n",
    "\n",
    "        self.log = pandas.DataFrame(columns=['withdrawal',\n",
    "                                             'portfolio', \n",
    "                                             'debt', \n",
    "                                             'real_start_port', \n",
    "                                             'used_margin', \n",
    "                                             'margin_call', \n",
    "                                             'debt_paydown', \n",
    "                                             'dividend'])\n",
    "\n",
    "    def do_strategy(self, monthly):\n",
    "        pass\n",
    "\n",
    "    def run(self):\n",
    "        for monthly in self.data:\n",
    "            # each month we...\n",
    "            # withdraw money for the beginning of the month.\n",
    "            ## adjust withdrawal for inflation\n",
    "            self.withdrawal *= (1 + monthly.inflation)\n",
    "            self.real_starting_portfolio *= (1 + monthly.inflation)\n",
    "            \n",
    "            extra_logs = self.do_strategy(monthly)\n",
    "\n",
    "            # and then adjust our debt & portfolio by whatever\n",
    "            self.portfolio *= (1 + monthly.stocks)\n",
    "            self.debt *= (1 + (monthly.margin_rate/12))\n",
    "            \n",
    "            self.log.loc[monthly.date] = (extra_logs[0],\n",
    "                                          self.portfolio,\n",
    "                                          self.debt,\n",
    "                                          self.real_starting_portfolio,\n",
    "                                          self.withdraw_margin,\n",
    "                                          extra_logs[1],\n",
    "                                          extra_logs[2],\n",
    "                                          extra_logs[3])"
   ]
  },
  {
   "cell_type": "code",
   "execution_count": 6,
   "metadata": {},
   "outputs": [],
   "source": [
    "def p_loc(df, loc):\n",
    "    row = df.iloc[loc]\n",
    "    for c in df.columns:\n",
    "        print(c, fmt_money(row[c]))"
   ]
  },
  {
   "cell_type": "code",
   "execution_count": 7,
   "metadata": {},
   "outputs": [],
   "source": [
    "class Strategy_2(Simulation):\n",
    "    USE_TOTAL_RETURNS = False\n",
    "    USE_MARGIN = True\n",
    "    def do_strategy(self, monthly):\n",
    "        # check if we hit the lower guardrail and need to start using debt\n",
    "        if self.portfolio <= self.real_starting_portfolio * .7:\n",
    "            self.withdraw_margin = True\n",
    "\n",
    "        # check if we've recovered past the upper guardrail and should stop using debt\n",
    "        if self.portfolio >= self.real_starting_portfolio * .8:\n",
    "            self.withdraw_margin = False\n",
    "\n",
    "        margin_call = 0\n",
    "        # check if we are hitting margin calls and can't use debt\n",
    "        if self.debt > (self.portfolio / 2):\n",
    "            self.withdraw_margin = False\n",
    "            # what's more we have to fulfill the margin call and sell\n",
    "            # when we sell, we actually increase the amount we need to sell\n",
    "            # because the selling drops up further below the margin call limit\n",
    "            margin_call = (2 * self.debt) - self.portfolio\n",
    "            margin_call = min(self.portfolio, margin_call)\n",
    "            self.portfolio -= margin_call\n",
    "            self.debt -= margin_call\n",
    "            \n",
    "        # first we use dividends for our expenses\n",
    "        withdrawal = self.withdrawal\n",
    "        withdrawal = actual_withdrawal = min(withdrawal, self.portfolio)\n",
    "        dividend = self.portfolio * monthly.dividend\n",
    "\n",
    "        # this is the traditional \"total return\" kind of model, where\n",
    "        # dividends just silently increase the portfolio\n",
    "        if self.USE_TOTAL_RETURNS:\n",
    "            self.portfolio += dividend\n",
    "        else:\n",
    "            # but this uses a more realistic \"spend your dividends\" model\n",
    "            # it results in *dramatically* different outcomes\n",
    "            if dividend < withdrawal:\n",
    "                withdrawal -= dividend\n",
    "                # the rest will have to come from margin or the portfolio\n",
    "            else:\n",
    "                # the dividend is more than our withdrawal, so the rest of it\n",
    "                # gets added to the portfolio\n",
    "                dividend -= withdrawal\n",
    "                self.portfolio += dividend\n",
    "                withdrawal = 0\n",
    "\n",
    "        if self.USE_MARGIN and self.withdraw_margin:\n",
    "            self.debt += withdrawal\n",
    "        else:\n",
    "            self.portfolio -= withdrawal\n",
    "\n",
    "        assert self.portfolio >= 0, \"wd: %d, p: %d\" % (withdrawal, self.portfolio)\n",
    "            \n",
    "        DEBT_PAYOFF_THRESHOLD = 1\n",
    "            \n",
    "        # check if, after the withdrawal, if we have enough \"extra\" to pay down debt\n",
    "        excess = 0\n",
    "        if self.debt > 0 and self.portfolio >= self.real_starting_portfolio * DEBT_PAYOFF_THRESHOLD:\n",
    "            excess = self.portfolio - (self.real_starting_portfolio * DEBT_PAYOFF_THRESHOLD)\n",
    "            excess = min(self.debt, excess)\n",
    "            self.debt -= excess\n",
    "            self.portfolio -= excess\n",
    "\n",
    "        return (actual_withdrawal, margin_call, excess, dividend)\n",
    "\n"
   ]
  },
  {
   "cell_type": "code",
   "execution_count": 9,
   "metadata": {},
   "outputs": [
    {
     "name": "stderr",
     "output_type": "stream",
     "text": [
      "/Users/justus/anaconda/lib/python3.6/site-packages/ipykernel_launcher.py:6: RuntimeWarning: divide by zero encountered in double_scalars\n",
      "  \n",
      "/Users/justus/anaconda/lib/python3.6/site-packages/ipykernel_launcher.py:35: DeprecationWarning: generator 'US_1871_Monthly.iter_from' raised StopIteration\n"
     ]
    }
   ],
   "source": [
    "s2 = Strategy_2(1968, 1, length=30)\n",
    "s2.USE_MARGIN = False\n",
    "s2.run()\n",
    "s2.log.tail()\n",
    "#last = s2.log.iloc[-1]\n",
    "#print(last.portfolio / last.real_start_port)\n",
    "#print(last.portfolio / (last.withdrawal * 12))\n",
    "s2.log.to_csv('margin_guardrails.csv')"
   ]
  },
  {
   "cell_type": "code",
   "execution_count": 59,
   "metadata": {},
   "outputs": [],
   "source": [
    "def get_max_debt(log):\n",
    "#    return max([x.debt for (r, x) in log.iterrows()])    \n",
    "    return max([x.debt / (x.portfolio or 1) for (r, x) in log.iterrows()])"
   ]
  },
  {
   "cell_type": "code",
   "execution_count": 60,
   "metadata": {},
   "outputs": [],
   "source": [
    "def used_margin(log):\n",
    "    return functools.reduce(operator.or_, [x[1].used_margin for x in log.iterrows()])"
   ]
  },
  {
   "cell_type": "code",
   "execution_count": 61,
   "metadata": {},
   "outputs": [],
   "source": [
    "#s2.log.to_csv('margin_guardrails.csv')"
   ]
  },
  {
   "cell_type": "code",
   "execution_count": 62,
   "metadata": {},
   "outputs": [
    {
     "name": "stderr",
     "output_type": "stream",
     "text": [
      "/Users/justus/anaconda/lib/python3.5/site-packages/ipykernel_launcher.py:6: RuntimeWarning: divide by zero encountered in double_scalars\n",
      "  \n"
     ]
    },
    {
     "name": "stdout",
     "output_type": "stream",
     "text": [
      "1955 , 0.0\n",
      "1956 , 0.0\n",
      "1957 , 0.0\n",
      "1958 , 0.0\n",
      "1959 , 0.01032529993492957\n",
      "1960 , 0.09153669638301133\n",
      "1961 , 0.017410555081294042\n",
      "1962 , 0.34017388620973615\n",
      "1963 , 0.09583978125787486\n",
      "1964 , 0.3073056783655628\n",
      "1965 , 0.5287681354397474\n",
      "1966 , 0.572392212430798\n",
      "1967 , 0.32549473611333396\n",
      "1968 , 0.5294007275592785\n",
      "1969 , 1551.3543128341707\n",
      "1970 , 0.2797377404745856\n",
      "1971 , 0.20433612815882815\n",
      "1972 , 0.2614363060833802\n",
      "1973 , 0.4269098463414265\n",
      "1974 , 0.08267294490113836\n",
      "1975 , 0.0\n",
      "1976 , 0.0\n",
      "1977 , 0.0023115807892225776\n",
      "1978 , 0.0\n",
      "1979 , 0.0\n",
      "1980 , 0.0\n",
      "1981 , 0.0\n",
      "1982 , 0.0\n",
      "1983 , 0.0\n",
      "1984 , 0.0\n",
      "1985 , 0.0\n",
      "1986 , 0.0\n",
      "1987 , 0.0\n"
     ]
    }
   ],
   "source": [
    "comp = pandas.DataFrame(columns=['portfolio_no_margin',\n",
    "                                 'portfolio_margin',\n",
    "                                 'debt',\n",
    "                                 'used_margin',\n",
    "                                 'networth'])\n",
    "\n",
    "# 1955 is the furthest back our Fed Funds rate data goes\n",
    "LENGTH = 30\n",
    "for year in range(1955, 2017-LENGTH+1):\n",
    "#    print(year)\n",
    "    s = Strategy_2(year, 1, length=LENGTH)\n",
    "    s.run()\n",
    "    margin = s.log.iloc[-1].portfolio\n",
    "    debt = s.log.iloc[-1].debt\n",
    "    used_m = used_margin(s.log)\n",
    "    print(year, \",\", get_max_debt(s.log))\n",
    "    \n",
    "    s = Strategy_2(year, 1, length=30)\n",
    "    s.USE_MARGIN = False\n",
    "    s.run()\n",
    "    no_margin = s.log.iloc[-1].portfolio\n",
    "\n",
    "    comp.loc[year] = (no_margin, margin, debt, used_m, margin-debt)"
   ]
  },
  {
   "cell_type": "code",
   "execution_count": 20,
   "metadata": {},
   "outputs": [],
   "source": [
    "comp.to_csv('margin_guardrails.csv')"
   ]
  },
  {
   "cell_type": "code",
   "execution_count": null,
   "metadata": {},
   "outputs": [],
   "source": []
  }
 ],
 "metadata": {
  "kernelspec": {
   "display_name": "Python 3",
   "language": "python",
   "name": "python3"
  },
  "language_info": {
   "codemirror_mode": {
    "name": "ipython",
    "version": 3
   },
   "file_extension": ".py",
   "mimetype": "text/x-python",
   "name": "python",
   "nbconvert_exporter": "python",
   "pygments_lexer": "ipython3",
   "version": "3.6.6"
  }
 },
 "nbformat": 4,
 "nbformat_minor": 2
}
