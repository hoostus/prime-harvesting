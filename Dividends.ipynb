{
 "cells": [
  {
   "cell_type": "code",
   "execution_count": null,
   "metadata": {},
   "outputs": [],
   "source": [
    "import numpy\n",
    "from collections import deque\n",
    "import pandas\n",
    "import math\n",
    "import pandas_datareader.data as web\n",
    "import datetime\n",
    "import requests\n",
    "import requests_cache\n",
    "import xlrd\n",
    "import tempfile\n",
    "import itertools\n",
    "import seaborn\n",
    "from matplotlib import pyplot as plt"
   ]
  },
  {
   "cell_type": "code",
   "execution_count": null,
   "metadata": {},
   "outputs": [],
   "source": [
    "seaborn.set(style='whitegrid')\n",
    "seaborn.set_context('poster')"
   ]
  },
  {
   "cell_type": "code",
   "execution_count": null,
   "metadata": {},
   "outputs": [],
   "source": [
    "def shiller_date_converter(x):\n",
    "    year = int(x)\n",
    "    month = int(x * 100) - (year * 100)\n",
    "    dx = datetime.date(year, month, 1)\n",
    "    return dx\n",
    "\n",
    "def get_shiller(url=\"http://www.econ.yale.edu/~shiller/data/ie_data.xls\"):\n",
    "    expire_after = datetime.timedelta(days=3)\n",
    "    session = requests_cache.CachedSession(cache_name='data-cache', backend='sqlite', expire_after=expire_after)\n",
    "\n",
    "    r = session.get(url, stream=True)\n",
    "\n",
    "    with tempfile.NamedTemporaryFile(suffix='.xls') as tmp:\n",
    "        for chunk in r.iter_content(chunk_size=1024):\n",
    "            tmp.write(chunk)\n",
    "            \n",
    "        tmp.flush()\n",
    "\n",
    "        df = pandas.read_excel(tmp.name,\n",
    "                               sheet_name='Data',\n",
    "                               engine='xlrd',\n",
    "                               skiprows=7,\n",
    "                               skipfooter=11, # WARN: is this always 11?\n",
    "                               index_col=0,\n",
    "                               usecols=\"A:E,G:K\")\n",
    "        df.rename(columns={'Price' : 'Real Price',\n",
    "                          'Dividend' : 'Real Dividend',\n",
    "                          'Earnings' : 'Real Earnings'}, inplace=True)\n",
    "        # Convert from Shiller's wonky date format to a real one\n",
    "        df.index = pandas.DatetimeIndex([shiller_date_converter(n) for n in df.index])\n",
    "    return df\n",
    "\n",
    "shiller = get_shiller()\n",
    "shiller.head()"
   ]
  },
  {
   "cell_type": "code",
   "execution_count": null,
   "metadata": {},
   "outputs": [],
   "source": [
    "def get_tr(returns):\n",
    "    value = 1\n",
    "    shares = None\n",
    "    s = {}\n",
    "    for date, row in returns.iterrows():\n",
    "        if not shares:\n",
    "            # first loop\n",
    "            shares = value / row['P']\n",
    "        else:\n",
    "            dividend = row['D'] / 12 * shares\n",
    "            shares += dividend / row['P']\n",
    "            value = shares * row['P']\n",
    "        s[date] = value\n",
    "    return pandas.Series(s)"
   ]
  },
  {
   "cell_type": "code",
   "execution_count": null,
   "metadata": {},
   "outputs": [],
   "source": [
    "def get_price(returns):\n",
    "    value = 1\n",
    "    shares = None\n",
    "    s = {}\n",
    "    for date, row in returns.iterrows():\n",
    "        if not shares:\n",
    "            # first loop\n",
    "            shares = value / row['P']\n",
    "        else:\n",
    "            dividend = row['D'] / 12 * shares\n",
    "            value = shares * row['P']\n",
    "        s[date] = value\n",
    "    return pandas.Series(s)"
   ]
  },
  {
   "cell_type": "code",
   "execution_count": null,
   "metadata": {},
   "outputs": [],
   "source": [
    "def get_dividends(returns):\n",
    "    value = 1\n",
    "    shares = None\n",
    "    s = {}\n",
    "    for date, row in returns.iterrows():\n",
    "        if not shares:\n",
    "            # first loop\n",
    "            shares = value / row['P']\n",
    "        else:\n",
    "            dividend = row['D'] / 12 * shares\n",
    "            value += dividend\n",
    "        s[date] = value\n",
    "    return pandas.Series(s)"
   ]
  },
  {
   "cell_type": "code",
   "execution_count": null,
   "metadata": {},
   "outputs": [],
   "source": [
    "year = '1926'\n",
    "r = shiller[year:]\n",
    "total_return = get_tr(r)\n",
    "price_only = get_price(r)\n",
    "div_only = get_dividends(r)\n",
    "df = pandas.DataFrame(data={'total returns': total_return, 'price only': price_only})#, 'dividends only': div_only})\n",
    "#df = pandas.DataFrame(data={'total returns': total_return, 'price only': price_only, 'dividends only': div_only})\n",
    "#df = pandas.DataFrame(data={'total returns': total_return, 'dividends only': div_only})"
   ]
  },
  {
   "cell_type": "code",
   "execution_count": null,
   "metadata": {},
   "outputs": [],
   "source": [
    "plt.figure(figsize=(11,9))\n",
    "plt.title(f'Growth of $1 since {year}')\n",
    "seaborn.lineplot(data=df)"
   ]
  },
  {
   "cell_type": "code",
   "execution_count": null,
   "metadata": {},
   "outputs": [],
   "source": [
    "def relative_contribution(returns):\n",
    "    total_return = get_tr(returns)\n",
    "    price_only = get_price(returns)\n",
    "    return price_only[-1] / total_return[-1]\n",
    "\n",
    "def relative_contribution_divs(returns):\n",
    "    total_return = get_tr(returns)\n",
    "    div_only = get_dividends(returns)\n",
    "    return div_only[-1] / total_return[-1]"
   ]
  },
  {
   "cell_type": "code",
   "execution_count": null,
   "metadata": {},
   "outputs": [],
   "source": [
    "s = {}\n",
    "length = 30\n",
    "for i in range(shiller.index[0].year, shiller.index[-1].year - length):\n",
    "    r = shiller[str(i):str(i+length)]\n",
    "    s[i] = relative_contribution(r)\n",
    "rc = pandas.Series(s)"
   ]
  },
  {
   "cell_type": "code",
   "execution_count": null,
   "metadata": {},
   "outputs": [],
   "source": [
    "plt.figure(figsize=(11,9))\n",
    "plt.title(f'Capital gains rel contr, {length}yr rolling')\n",
    "seaborn.lineplot(data=rc)"
   ]
  },
  {
   "cell_type": "code",
   "execution_count": null,
   "metadata": {},
   "outputs": [],
   "source": [
    "s = {}\n",
    "length = 0\n",
    "for i in range(shiller.index[0].year, shiller.index[-1].year - length):\n",
    "    r = shiller[str(i):]\n",
    "    s[i] = relative_contribution(r)\n",
    "rc1 = pandas.Series(s)\n",
    "plt.figure(figsize=(11,9))\n",
    "plt.title('Relative contribution of price gains based on starting year')\n",
    "seaborn.lineplot(data=rc1)"
   ]
  },
  {
   "cell_type": "code",
   "execution_count": null,
   "metadata": {},
   "outputs": [],
   "source": [
    "s = {}\n",
    "length = 0\n",
    "for i in range(shiller.index[0].year, shiller.index[-1].year - length):\n",
    "    r = shiller[str(i):]\n",
    "    s[i] = relative_contribution_divs(r)\n",
    "rc2 = pandas.Series(s)\n",
    "plt.figure(figsize=(11,9))\n",
    "plt.title('Relative contribution of dividends based on starting year')\n",
    "seaborn.lineplot(data=rc2)"
   ]
  },
  {
   "cell_type": "code",
   "execution_count": null,
   "metadata": {},
   "outputs": [],
   "source": [
    "plt.figure(figsize=(11,9))\n",
    "plt.title('Relative contribution')\n",
    "df = pandas.DataFrame(data={'Dividends': rc2, 'Capital Gains': rc1})\n",
    "seaborn.lineplot(data=df)"
   ]
  },
  {
   "cell_type": "code",
   "execution_count": null,
   "metadata": {},
   "outputs": [],
   "source": []
  }
 ],
 "metadata": {
  "kernelspec": {
   "display_name": "Python 3",
   "language": "python",
   "name": "python3"
  },
  "language_info": {
   "codemirror_mode": {
    "name": "ipython",
    "version": 3
   },
   "file_extension": ".py",
   "mimetype": "text/x-python",
   "name": "python",
   "nbconvert_exporter": "python",
   "pygments_lexer": "ipython3"
  }
 },
 "nbformat": 4,
 "nbformat_minor": 4
}
