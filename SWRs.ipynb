{
 "cells": [
  {
   "cell_type": "code",
   "execution_count": 1,
   "metadata": {},
   "outputs": [],
   "source": [
    "%matplotlib inline\n",
    "import plot\n",
    "import market\n",
    "import metrics\n",
    "from decimal import Decimal\n",
    "import withdrawal\n",
    "import harvesting\n",
    "import simulate\n",
    "import lens\n",
    "import pandas\n",
    "import seaborn\n",
    "from matplotlib import pyplot as plt\n",
    "import matplotlib"
   ]
  },
  {
   "cell_type": "code",
   "execution_count": 2,
   "metadata": {},
   "outputs": [],
   "source": [
    "seaborn.set(style='whitegrid')\n",
    "seaborn.set_context('poster')"
   ]
  },
  {
   "cell_type": "code",
   "execution_count": 3,
   "metadata": {},
   "outputs": [
    {
     "data": {
      "text/plain": [
       "5"
      ]
     },
     "execution_count": 3,
     "metadata": {},
     "output_type": "execute_result"
    }
   ],
   "source": [
    "m = market.Returns_US_1871()\n",
    "\n",
    "s = simulate.calc_lens(harvesting.N_60_RebalanceHarvesting,\n",
    "          lambda p, h: withdrawal.ConstantDollar(p, h, rate=Decimal('.043')),\n",
    "          30,\n",
    "          lens.calc_success\n",
    "         )\n",
    "len(s[s == False])"
   ]
  },
  {
   "cell_type": "code",
   "execution_count": 29,
   "metadata": {},
   "outputs": [
    {
     "data": {
      "text/plain": [
       "1909    8.954911903056932942321784882\n",
       "1973    9.117623795629515542038027215\n",
       "1905     9.76991963076840628052969574\n",
       "1967    9.776578586727366352903639238\n",
       "1899    10.34886193913264682936095300\n",
       "                    ...              \n",
       "1873    115.9564355488806293466222481\n",
       "1982    117.2036377933489749105713971\n",
       "1877    119.2861495191276010147107481\n",
       "1871    123.7549285295987227737204574\n",
       "1872    124.6745827494345535972726104\n",
       "Length: 108, dtype: object"
      ]
     },
     "execution_count": 29,
     "metadata": {},
     "output_type": "execute_result"
    }
   ],
   "source": [
    "def final_pv(annual):\n",
    "    df = pandas.DataFrame(annual)\n",
    "    return df.tail(1)['portfolio_post'].item().value_r\n",
    "\n",
    "s = simulate.calc_lens(harvesting.N_60_RebalanceHarvesting,\n",
    "                       withdrawal.ConstantDollar,\n",
    "                       30,\n",
    "                      lens.calc_years_sustained)\n",
    "s.sort_values(ascending=True)[10:]"
   ]
  },
  {
   "cell_type": "code",
   "execution_count": 4,
   "metadata": {},
   "outputs": [
    {
     "ename": "ModuleNotFoundError",
     "evalue": "No module named 'multiprocess'",
     "output_type": "error",
     "traceback": [
      "\u001b[1;31m---------------------------------------------------------------------------\u001b[0m",
      "\u001b[1;31mModuleNotFoundError\u001b[0m                       Traceback (most recent call last)",
      "\u001b[1;32m<timed exec>\u001b[0m in \u001b[0;36m<module>\u001b[1;34m\u001b[0m\n",
      "\u001b[1;31mModuleNotFoundError\u001b[0m: No module named 'multiprocess'"
     ]
    }
   ],
   "source": [
    "%%time\n",
    "import multiprocess as mp\n",
    "\n",
    "def mp_lens(x):\n",
    "    harvest, withdraw, years, lens = x\n",
    "    import simulate\n",
    "    s = simulate.calc_lens(harvest, withdraw, years, lens)\n",
    "    return s\n",
    "\n",
    "with mp.Pool(processes=mp.cpu_count()) as pool:\n",
    "    def make_args():\n",
    "        for years in range(1, 31):\n",
    "            for rate in range(20, 71):\n",
    "                yield (lambda p: harvesting.AnnualRebalancing(p, Decimal('.6')),\n",
    "                      lambda p, h: withdrawal.CostantDollar(p, h, rate=Decimal(rate) / 10 / 100),\n",
    "                      years,\n",
    "                      lens.calc_success)\n",
    "    results = pool.map(mp_lens, make_args())\n",
    "results"
   ]
  },
  {
   "cell_type": "code",
   "execution_count": 5,
   "metadata": {},
   "outputs": [
    {
     "ename": "SyntaxError",
     "evalue": "invalid syntax (<unknown>, line 10)",
     "output_type": "error",
     "traceback": [
      "Traceback \u001b[1;36m(most recent call last)\u001b[0m:\n",
      "  File \u001b[0;32m\"C:\\Users\\justus\\Anaconda3\\lib\\site-packages\\IPython\\core\\interactiveshell.py\"\u001b[0m, line \u001b[0;32m3444\u001b[0m, in \u001b[0;35mrun_code\u001b[0m\n    exec(code_obj, self.user_global_ns, self.user_ns)\n",
      "  File \u001b[0;32m\"C:\\Users\\justus\\AppData\\Local\\Temp/ipykernel_14796/2470319416.py\"\u001b[0m, line \u001b[0;32m1\u001b[0m, in \u001b[0;35m<module>\u001b[0m\n    get_ipython().run_cell_magic('time', '', \"results = []\\n\\nfor years in range(1, 31):\\n    for rate in range(20, 71):\\n        s = simulate.calc_lens(lambda p: harvesting.AnnualRebalancing(p, Decimal('.6'),\\n                              lambda p, h: withdrawal.ConstantDollar(p, h, rate=Decimal(rate) / 10 / 100),\\n                               years,\\n                               lens.calc_success\\n                              )\\n        f = len(s[s == False]) / len(s)\\n        results.append((years, rate, f))\\n    print(years)\\n\")\n",
      "  File \u001b[0;32m\"C:\\Users\\justus\\Anaconda3\\lib\\site-packages\\IPython\\core\\interactiveshell.py\"\u001b[0m, line \u001b[0;32m2406\u001b[0m, in \u001b[0;35mrun_cell_magic\u001b[0m\n    result = fn(*args, **kwargs)\n",
      "  File \u001b[0;32m\"C:\\Users\\justus\\Anaconda3\\lib\\site-packages\\decorator.py\"\u001b[0m, line \u001b[0;32m232\u001b[0m, in \u001b[0;35mfun\u001b[0m\n    return caller(func, *(extras + args), **kw)\n",
      "  File \u001b[0;32m\"C:\\Users\\justus\\Anaconda3\\lib\\site-packages\\IPython\\core\\magic.py\"\u001b[0m, line \u001b[0;32m187\u001b[0m, in \u001b[0;35m<lambda>\u001b[0m\n    call = lambda f, *a, **k: f(*a, **k)\n",
      "  File \u001b[0;32m\"C:\\Users\\justus\\Anaconda3\\lib\\site-packages\\IPython\\core\\magics\\execution.py\"\u001b[0m, line \u001b[0;32m1280\u001b[0m, in \u001b[0;35mtime\u001b[0m\n    expr_ast = self.shell.compile.ast_parse(expr)\n",
      "\u001b[1;36m  File \u001b[1;32m\"C:\\Users\\justus\\Anaconda3\\lib\\site-packages\\IPython\\core\\compilerop.py\"\u001b[1;36m, line \u001b[1;32m101\u001b[1;36m, in \u001b[1;35mast_parse\u001b[1;36m\u001b[0m\n\u001b[1;33m    return compile(source, filename, symbol, self.flags | PyCF_ONLY_AST, 1)\u001b[0m\n",
      "\u001b[1;36m  File \u001b[1;32m\"<unknown>\"\u001b[1;36m, line \u001b[1;32m10\u001b[0m\n\u001b[1;33m    f = len(s[s == False]) / len(s)\u001b[0m\n\u001b[1;37m    ^\u001b[0m\n\u001b[1;31mSyntaxError\u001b[0m\u001b[1;31m:\u001b[0m invalid syntax\n"
     ]
    }
   ],
   "source": [
    "%%time\n",
    "results = []\n",
    "\n",
    "for years in range(1, 31):\n",
    "    for rate in range(20, 71):\n",
    "        s = simulate.calc_lens(lambda p: harvesting.AnnualRebalancing(p, Decimal('.6'),\n",
    "                              lambda p, h: withdrawal.ConstantDollar(p, h, rate=Decimal(rate) / 10 / 100),\n",
    "                               years,\n",
    "                               lens.calc_success\n",
    "                              )\n",
    "        f = len(s[s == False]) / len(s)\n",
    "        results.append((years, rate, f))\n",
    "    print(years)"
   ]
  },
  {
   "cell_type": "code",
   "execution_count": null,
   "metadata": {},
   "outputs": [],
   "source": [
    "df = pandas.DataFrame(data=results, columns=['Years', 'WD', 'Failure'])\n",
    "df['WD'] = df['WD'] / 10\n",
    "df['Failure'] = df['Failure'] * 100\n",
    "df.head()"
   ]
  },
  {
   "cell_type": "code",
   "execution_count": null,
   "metadata": {},
   "outputs": [],
   "source": [
    "df[df['Years'] == 20].plot(x='WD', y='Failure', title='20 years left')"
   ]
  },
  {
   "cell_type": "code",
   "execution_count": null,
   "metadata": {},
   "outputs": [],
   "source": [
    "r = []\n",
    "for i in range(1,31):\n",
    "    df_i = df[df['Years'] == i]\n",
    "    df_zero = df_i[df_i['Failure'] == 0]\n",
    "    r.append((i, df_zero['WD'].max()))\n",
    "m = pandas.DataFrame(data=r, columns=['Years Left', 'Safe Withdrawal Rate'])"
   ]
  },
  {
   "cell_type": "code",
   "execution_count": null,
   "metadata": {},
   "outputs": [],
   "source": [
    "m.plot(x='Years Left', y='Safe Withdrawal Rate')"
   ]
  },
  {
   "cell_type": "code",
   "execution_count": null,
   "metadata": {},
   "outputs": [],
   "source": []
  }
 ],
 "metadata": {
  "kernelspec": {
   "display_name": "Python 3 (ipykernel)",
   "language": "python",
   "name": "python3"
  },
  "language_info": {
   "codemirror_mode": {
    "name": "ipython",
    "version": 3
   },
   "file_extension": ".py",
   "mimetype": "text/x-python",
   "name": "python",
   "nbconvert_exporter": "python",
   "pygments_lexer": "ipython3",
   "version": "3.8.12"
  }
 },
 "nbformat": 4,
 "nbformat_minor": 4
}
